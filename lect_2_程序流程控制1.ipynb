{
 "cells": [
  {
   "cell_type": "markdown",
   "metadata": {
    "slideshow": {
     "slide_type": "slide"
    }
   },
   "source": [
    "# 程序流程控制\n",
    "* 顺序结构\n",
    "* 分支结构\n",
    "* 循环结构"
   ]
  },
  {
   "cell_type": "markdown",
   "metadata": {
    "slideshow": {
     "slide_type": "slide"
    }
   },
   "source": [
    "## 分支结构\n",
    "* 根据条件控制哪个子代码块得到执行\n",
    "* 使用if语句实现\n",
    "* 单分支、双分支、多分支"
   ]
  },
  {
   "cell_type": "markdown",
   "metadata": {
    "slideshow": {
     "slide_type": "slide"
    }
   },
   "source": [
    "单分支：当满足条件时，执行某个子代码块。条件可以是\n",
    "* 关系表达式\n",
    "* 逻辑表达式\n",
    "* 算术表达式\n",
    "* 其他可以转换为逻辑值的表达式"
   ]
  },
  {
   "cell_type": "code",
   "execution_count": 1,
   "metadata": {
    "slideshow": {
     "slide_type": "subslide"
    }
   },
   "outputs": [
    {
     "name": "stdout",
     "output_type": "stream",
     "text": [
      "65\n"
     ]
    }
   ],
   "source": [
    "x = -65\n",
    "y = x\n",
    "if x < 0:\n",
    "    y = -x\n",
    "print(y)"
   ]
  },
  {
   "cell_type": "code",
   "execution_count": 2,
   "metadata": {
    "slideshow": {
     "slide_type": "subslide"
    }
   },
   "outputs": [
    {
     "name": "stdout",
     "output_type": "stream",
     "text": [
      "we have two more elements\n",
      "the list is not empty\n"
     ]
    }
   ],
   "source": [
    "a = [1,2,3,4]\n",
    "x = len(a)\n",
    "if(x>2):\n",
    "    print('we have two more elements')\n",
    "if(a):\n",
    "    print('the list is not empty')"
   ]
  },
  {
   "cell_type": "markdown",
   "metadata": {
    "slideshow": {
     "slide_type": "subslide"
    }
   },
   "source": [
    "什么时候条件为假(False)？\n",
    "* 数值0\n",
    "* 空字符串''\n",
    "* 空元组()\n",
    "* 空列表[]\n",
    "* 空字典或空集合{}\n",
    "* bool值False\n",
    "* None\n",
    "\n",
    "都不行"
   ]
  },
  {
   "cell_type": "markdown",
   "metadata": {
    "slideshow": {
     "slide_type": "subslide"
    }
   },
   "source": [
    "负数是否为False? 虚数如2j是否为False？  都不是"
   ]
  },
  {
   "cell_type": "markdown",
   "metadata": {
    "slideshow": {
     "slide_type": "subslide"
    }
   },
   "source": [
    "前方有坑！注意语言的欺骗性。"
   ]
  },
  {
   "cell_type": "code",
   "execution_count": 3,
   "metadata": {
    "slideshow": {
     "slide_type": "fragment"
    }
   },
   "outputs": [],
   "source": [
    "if None:\n",
    "    print('none')"
   ]
  },
  {
   "cell_type": "markdown",
   "metadata": {
    "slideshow": {
     "slide_type": "slide"
    }
   },
   "source": [
    "双分支结构\n",
    "* 使用if-else-构建\n",
    "* 双分支结构都可以使用单分支结构完成"
   ]
  },
  {
   "cell_type": "code",
   "execution_count": 4,
   "metadata": {
    "slideshow": {
     "slide_type": "subslide"
    }
   },
   "outputs": [
    {
     "data": {
      "text/plain": [
       "3"
      ]
     },
     "execution_count": 4,
     "metadata": {},
     "output_type": "execute_result"
    }
   ],
   "source": [
    "x=3\n",
    "if(x>0):\n",
    "    y=x\n",
    "else:\n",
    "    y=-x\n",
    "y"
   ]
  },
  {
   "cell_type": "markdown",
   "metadata": {
    "slideshow": {
     "slide_type": "subslide"
    }
   },
   "source": [
    "双分支结构的单行表达式"
   ]
  },
  {
   "cell_type": "code",
   "execution_count": 5,
   "metadata": {
    "slideshow": {
     "slide_type": "fragment"
    }
   },
   "outputs": [
    {
     "data": {
      "text/plain": [
       "3"
      ]
     },
     "execution_count": 5,
     "metadata": {},
     "output_type": "execute_result"
    }
   ],
   "source": [
    "y=x if(x>0) else -x\n",
    "y"
   ]
  },
  {
   "cell_type": "markdown",
   "metadata": {
    "slideshow": {
     "slide_type": "slide"
    }
   },
   "source": [
    "多分支结构\n",
    "\n",
    "* 使用if-elif-...-elif-else实现\n",
    "* 注意__elif__的拼写，含义为el(se)if\n",
    "* 各个分支的条件采用顺序判断\n",
    "* 第一个满足条件的分支被执行，并不是选择最合适的条件"
   ]
  },
  {
   "cell_type": "code",
   "execution_count": 6,
   "metadata": {
    "slideshow": {
     "slide_type": "subslide"
    }
   },
   "outputs": [
    {
     "data": {
      "text/plain": [
       "'良'"
      ]
     },
     "execution_count": 6,
     "metadata": {},
     "output_type": "execute_result"
    }
   ],
   "source": [
    "mark = 85\n",
    "if(mark>=90):\n",
    "    grade = '优'\n",
    "elif(mark>=80):\n",
    "    grade = '良'\n",
    "elif(mark>=70):\n",
    "    grade = '中'\n",
    "elif(mark>=60):\n",
    "    grade = '及格'\n",
    "else:\n",
    "    grade ='不及格'\n",
    "grade"
   ]
  },
  {
   "cell_type": "code",
   "execution_count": 4,
   "metadata": {
    "slideshow": {
     "slide_type": "subslide"
    }
   },
   "outputs": [
    {
     "name": "stdout",
     "output_type": "stream",
     "text": [
      "是闰年\n"
     ]
    }
   ],
   "source": [
    "# 找找这段代码中的错误，选中下列几行，使用ctrl+/切换注释和代码\n",
    "y=2020\n",
    "if(y%400 == 0):\n",
    "    print('闰年')\n",
    "elif(y%4 != 0):\n",
    "    print('非闰年')\n",
    "elif(y%100 == 0):\n",
    "    print('非闰年')\n",
    "else:\n",
    "    print('是闰年')"
   ]
  },
  {
   "cell_type": "markdown",
   "metadata": {
    "slideshow": {
     "slide_type": "subslide"
    }
   },
   "source": [
    "分支结构常见错误：\n",
    "* if或者else子句漏了冒号':'\n",
    "* 子代码块未缩进或缩进不一致\n",
    "* 多个条件顺序错误\n",
    "* 条件中的相等比较'=='错误写成了赋值'='"
   ]
  },
  {
   "cell_type": "markdown",
   "metadata": {
    "slideshow": {
     "slide_type": "slide"
    }
   },
   "source": [
    "## 循环结构\n",
    "* 循环结构用于重复执行某个子代码块\n",
    "* 按照条件循环\n",
    "* 指定次数循环"
   ]
  },
  {
   "cell_type": "markdown",
   "metadata": {
    "slideshow": {
     "slide_type": "subslide"
    }
   },
   "source": [
    "按照条件循环\n",
    "\n",
    "* 不知道循环执行的次数，只知道循环结束的条件\n",
    "* 使用while语句\n",
    "* 需要确保循环条件能够达到\n",
    "* 子代码块中应该含有能改变循环条件的语句"
   ]
  },
  {
   "cell_type": "code",
   "execution_count": 8,
   "metadata": {
    "slideshow": {
     "slide_type": "subslide"
    }
   },
   "outputs": [
    {
     "name": "stdout",
     "output_type": "stream",
     "text": [
      "8\n"
     ]
    }
   ],
   "source": [
    "# 寻找调和级数前n项和超过给定目标的点\n",
    "s=i=1;target=2.71\n",
    "while(s<target):\n",
    "    i+=1  # 这个条件必不可少！\n",
    "    s+=1/i\n",
    "print(i)"
   ]
  },
  {
   "cell_type": "markdown",
   "metadata": {
    "slideshow": {
     "slide_type": "subslide"
    }
   },
   "source": [
    "指定次数（范围）循环\n",
    "* 知道循环执行的次数\n",
    "* 或者用于遍历一个可迭代对象\n",
    "* 使用for语句"
   ]
  },
  {
   "cell_type": "code",
   "execution_count": 9,
   "metadata": {
    "slideshow": {
     "slide_type": "subslide"
    }
   },
   "outputs": [
    {
     "name": "stdout",
     "output_type": "stream",
     "text": [
      "5.187377517639621\n"
     ]
    }
   ],
   "source": [
    "# 计算调和系列前n项和\n",
    "n=100; s=0\n",
    "for i in range(1,n+1):\n",
    "    s+=1/i\n",
    "print(s)"
   ]
  },
  {
   "cell_type": "code",
   "execution_count": 10,
   "metadata": {
    "slideshow": {
     "slide_type": "subslide"
    }
   },
   "outputs": [
    {
     "name": "stdout",
     "output_type": "stream",
     "text": [
      "1,2,3,4,5,6,8,9,10,11,12,13,15,16,18,19,20,22,23,24,25,26,29,30,31,32,33,34,36,38,39,40,41,43,44,45,46,48,50,51,52,53,54,55,58,59,60,61,62,64,65,66,68,69,80,81,82,83,85,86,88,89,90,92,93,94,95,96,99,"
     ]
    }
   ],
   "source": [
    "for i in range(1,100):\n",
    "    if (i%7==0): pass\n",
    "    elif(i%10==7): pass\n",
    "    elif(i//10==7): pass\n",
    "    else: print(i,end=',')"
   ]
  },
  {
   "cell_type": "code",
   "execution_count": 11,
   "metadata": {
    "slideshow": {
     "slide_type": "subslide"
    }
   },
   "outputs": [
    {
     "name": "stdout",
     "output_type": "stream",
     "text": [
      "1,2,3,4,5,6,8,9,10,11,12,13,15,16,18,19,20,22,23,24,25,26,29,30,31,32,33,34,36,38,39,40,41,43,44,45,46,48,50,51,52,53,54,55,58,59,60,61,62,64,65,66,68,69,80,81,82,83,85,86,88,89,90,92,93,94,95,96,99,"
     ]
    }
   ],
   "source": [
    "for i in range(1,100):\n",
    "    if not(i%7==0 or i%10==7 or i//10==7):print(i,end=',')"
   ]
  },
  {
   "cell_type": "markdown",
   "metadata": {
    "slideshow": {
     "slide_type": "slide"
    }
   },
   "source": [
    "range对象：\n",
    "\n",
    "* 迭代器对象，产生指定范围的整数序列\n",
    "* 语法：range(start,stop[,step])\n",
    "* 包含左边界start，不包含右边界stop\n",
    "* start默认为0，步长step默认为1"
   ]
  },
  {
   "cell_type": "code",
   "execution_count": 12,
   "metadata": {
    "slideshow": {
     "slide_type": "subslide"
    }
   },
   "outputs": [
    {
     "name": "stdout",
     "output_type": "stream",
     "text": [
      "750\n"
     ]
    }
   ],
   "source": [
    "s=0\n",
    "for i in range(1,100,7):\n",
    "    s+=i\n",
    "print(s)"
   ]
  },
  {
   "cell_type": "code",
   "execution_count": 13,
   "metadata": {
    "slideshow": {
     "slide_type": "subslide"
    }
   },
   "outputs": [
    {
     "name": "stdout",
     "output_type": "stream",
     "text": [
      "r b y "
     ]
    },
    {
     "data": {
      "text/plain": [
       "['red', 'blue', 'yellow']"
      ]
     },
     "execution_count": 13,
     "metadata": {},
     "output_type": "execute_result"
    }
   ],
   "source": [
    "colors = ['red','blue','yellow']\n",
    "for i in colors:\n",
    "    i = i[0]\n",
    "    print(i, end=' ')\n",
    "colors"
   ]
  },
  {
   "cell_type": "markdown",
   "metadata": {
    "slideshow": {
     "slide_type": "subslide"
    }
   },
   "source": [
    "为了保证被遍历对象的安全性，防止被遍历对象被意外修改。遍历时对临时变量的修改并不会改变原始对象。如果需要修改原始对象，需要使用原始对象的索引访问。"
   ]
  },
  {
   "cell_type": "code",
   "execution_count": 14,
   "metadata": {
    "slideshow": {
     "slide_type": "subslide"
    }
   },
   "outputs": [
    {
     "data": {
      "text/plain": [
       "['r', 'b', 'y']"
      ]
     },
     "execution_count": 14,
     "metadata": {},
     "output_type": "execute_result"
    }
   ],
   "source": [
    "colors = ['red','blue','yellow']\n",
    "for index,value in enumerate(colors):\n",
    "    colors[index]= value[0]\n",
    "colors"
   ]
  },
  {
   "cell_type": "markdown",
   "metadata": {
    "slideshow": {
     "slide_type": "slide"
    }
   },
   "source": [
    "break\n",
    "\n",
    "* break语句用于结束循环\n",
    "* 当有多个循环嵌套时，break只应用于最近的一层"
   ]
  },
  {
   "cell_type": "code",
   "execution_count": 15,
   "metadata": {
    "slideshow": {
     "slide_type": "subslide"
    }
   },
   "outputs": [
    {
     "name": "stdout",
     "output_type": "stream",
     "text": [
      "是素数\n"
     ]
    }
   ],
   "source": [
    "# 判断一个数是否为素数\n",
    "import math\n",
    "x = 313; \n",
    "is_prime = True\n",
    "n = int(math.sqrt(x))\n",
    "for i in range(2,n+1): # 为什么stop参数设置为n+1,而不是n或者n+2?\n",
    "    if(x%i==0):\n",
    "        is_prime=False\n",
    "        break\n",
    "if(is_prime): print('是素数')\n",
    "else: print('不是素数')"
   ]
  },
  {
   "cell_type": "markdown",
   "metadata": {
    "slideshow": {
     "slide_type": "slide"
    }
   },
   "source": [
    "continue\n",
    "\n",
    "* continue语句用于跳过循环的本轮执行\n",
    "* continue只应用于最近的一层循环"
   ]
  },
  {
   "cell_type": "code",
   "execution_count": 16,
   "metadata": {
    "slideshow": {
     "slide_type": "subslide"
    }
   },
   "outputs": [
    {
     "name": "stdout",
     "output_type": "stream",
     "text": [
      "3181\n"
     ]
    }
   ],
   "source": [
    "s = 0\n",
    "for i in range(1,100):\n",
    "    if (i%7==0): continue\n",
    "    elif(i%10==7): continue\n",
    "    elif(i//10==7): continue\n",
    "    else: s+=i\n",
    "print(s)"
   ]
  },
  {
   "cell_type": "markdown",
   "metadata": {
    "slideshow": {
     "slide_type": "slide"
    }
   },
   "source": [
    "循环中的else子句\n",
    "\n",
    "* for和while循环可以附带一个else子句\n",
    "* 如果for和while语句没有被break中止，则else子句执行\n",
    "* 可以将break语句理解为found，那么如果没找到，就执行else子句"
   ]
  },
  {
   "cell_type": "code",
   "execution_count": 17,
   "metadata": {
    "slideshow": {
     "slide_type": "subslide"
    }
   },
   "outputs": [
    {
     "name": "stdout",
     "output_type": "stream",
     "text": [
      "不是素数\n"
     ]
    }
   ],
   "source": [
    "# 判断一个数是否为素数\n",
    "import math\n",
    "x = 312; # x为大于1的整数\n",
    "n = int(math.sqrt(x))\n",
    "for i in range(2,n+1):\n",
    "    if(x%i==0):\n",
    "        print('不是素数')\n",
    "        break\n",
    "else: print('是素数')"
   ]
  },
  {
   "cell_type": "markdown",
   "metadata": {
    "slideshow": {
     "slide_type": "subslide"
    }
   },
   "source": [
    "循环中else子句的注意事项\n",
    "\n",
    "* else子句容易误解和出错，一般情形不建议使用\n",
    "* else子句只有在break语句存在时才能正常工作"
   ]
  },
  {
   "cell_type": "code",
   "execution_count": 18,
   "metadata": {
    "slideshow": {
     "slide_type": "subslide"
    }
   },
   "outputs": [
    {
     "name": "stdout",
     "output_type": "stream",
     "text": [
      "2.4662120743304703\n"
     ]
    }
   ],
   "source": [
    "# 求立方根\n",
    "def cubic_root(x):  # 定义一个立方根函数\n",
    "    EPSILON = 1E-15\n",
    "    guess = x\n",
    "    while(abs(1-x/guess**3)>EPSILON):\n",
    "        guess += (x/guess**2-guess)/3.0 # 使用牛顿迭代法\n",
    "    return(guess)\n",
    "print(cubic_root(15))"
   ]
  },
  {
   "cell_type": "code",
   "execution_count": 19,
   "metadata": {
    "slideshow": {
     "slide_type": "subslide"
    }
   },
   "outputs": [
    {
     "name": "stdout",
     "output_type": "stream",
     "text": [
      "822.6669367909237\n",
      "548.445232306462\n",
      "365.6315223710976\n",
      "243.75742509965937\n",
      "162.5118728092574\n",
      "108.35682338383393\n",
      "72.27291558231332\n",
      "48.260692305809926\n",
      "32.3504014217716\n",
      "21.959972295453255\n",
      "15.492944798515602\n",
      "12.042294988959199\n",
      "10.864648289390356\n",
      "10.72777611879013\n",
      "10.726014958033225\n",
      "10.726014668827332\n",
      "10.726014668827325\n"
     ]
    }
   ],
   "source": [
    "x = 1234\n",
    "EPSILON = 1E-15\n",
    "guess = x\n",
    "while(abs(1-x/guess**3)>EPSILON):\n",
    "    guess += (x/guess**2-guess)/3.0 # 使用牛顿迭代法\n",
    "    print(guess)  # 调试"
   ]
  },
  {
   "cell_type": "markdown",
   "metadata": {
    "slideshow": {
     "slide_type": "slide"
    }
   },
   "source": [
    "成对遍历\n",
    "\n",
    "* 有时我们需要同时对两个相关的序列进行遍历\n",
    "* 可以使用zip进行组装\n",
    "* zip组装之后形成的是元组的列表"
   ]
  },
  {
   "cell_type": "code",
   "execution_count": 20,
   "metadata": {
    "slideshow": {
     "slide_type": "subslide"
    }
   },
   "outputs": [
    {
     "name": "stdout",
     "output_type": "stream",
     "text": [
      "red 1\n",
      "blue 3\n",
      "yellow 2\n",
      "black 5\n",
      "purple 6\n",
      "white 7\n",
      "orange 4\n"
     ]
    }
   ],
   "source": [
    "colors=['red','blue','yellow','black','purple','white','orange']\n",
    "c_index = [1,3,2,5,6,7,4]\n",
    "for i,j in zip(colors,c_index):\n",
    "    print(i,j)"
   ]
  },
  {
   "cell_type": "markdown",
   "metadata": {
    "slideshow": {
     "slide_type": "subslide"
    }
   },
   "source": [
    "练习：\n",
    "<ol>\n",
    "<li>若一个三位数的三个数字的立方之和恰好等于该数本身，则该数称为三位水仙花数。打印所有的三位水仙花数。</li>\n",
    "<li>若一个五位数的五个数字的五次方的和恰好等于该数本身，则该数称为五位玫瑰花数。打印所有的玫瑰花数。</li>\n",
    "<li>若一个数的真因子之和恰好等于该数本身，则该数称为完全数，例如6。找出1000以内的所有完全数。</li>\n",
    "<li>根据党员月工资数额，求党员的月党费数值。</li>\n",
    "</ol>\n",
    "\n",
    "注：党员交纳党费的比例为：每月工资收入（税后）在3000元以下（含3000元）者，交纳月工资收入的0.5％；3000元以上至5000元（含5000元）者，交纳1％；5000元以上至10000元（含10000元）者，交纳1.5％；10000元以上者，交纳2％。\n"
   ]
  },
  {
   "cell_type": "markdown",
   "metadata": {
    "slideshow": {
     "slide_type": "subslide"
    }
   },
   "source": [
    "练习：根据个人的年收入，求其应当缴纳的个人所得税额。\n",
    "\n",
    "首先，年应纳税所得额为年收入扣除6万元。\n",
    "* 年应纳税所得额在3.6万元以内的，税率为第一级（3%）；\n",
    "* 3.6万元至14.4万元部分适用税率第二级（10%）；\n",
    "* 14.4万元至30万元部分适用税率第三级（20%）；\n",
    "* 30万元至42万元部分适用税率第四级（25%）；\n",
    "* 42万元至66万元部分适用税率第五级（30%）；\n",
    "* 66万元至96万元部分适用税率第六级（35%）；\n",
    "* 96万元以上部分适用税率第七级（45%）；"
   ]
  }
 ],
 "metadata": {
  "anaconda-cloud": {},
  "celltoolbar": "Slideshow",
  "kernelspec": {
   "display_name": "Python 3",
   "language": "python",
   "name": "python3"
  },
  "language_info": {
   "codemirror_mode": {
    "name": "ipython",
    "version": 3
   },
   "file_extension": ".py",
   "mimetype": "text/x-python",
   "name": "python",
   "nbconvert_exporter": "python",
   "pygments_lexer": "ipython3",
   "version": "3.7.3"
  }
 },
 "nbformat": 4,
 "nbformat_minor": 2
}
