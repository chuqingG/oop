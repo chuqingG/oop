{
 "cells": [
  {
   "cell_type": "markdown",
   "metadata": {
    "slideshow": {
     "slide_type": "slide"
    }
   },
   "source": [
    "# 类与对象\n",
    "\n",
    "* 类的定义\n",
    "* 属性\n",
    "* 方法\n",
    "* 继承"
   ]
  },
  {
   "cell_type": "markdown",
   "metadata": {
    "slideshow": {
     "slide_type": "subslide"
    }
   },
   "source": [
    "类是一个数据结构。\n",
    "\n",
    "类由数据和方法构成，是事物的属性和行为的抽象。\n",
    "\n",
    "对象是类的实例。"
   ]
  },
  {
   "cell_type": "markdown",
   "metadata": {
    "slideshow": {
     "slide_type": "slide"
    }
   },
   "source": [
    "## 类的定义\n",
    "\n",
    "类使用class语句定义。"
   ]
  },
  {
   "cell_type": "code",
   "execution_count": 1,
   "metadata": {
    "slideshow": {
     "slide_type": "subslide"
    }
   },
   "outputs": [],
   "source": [
    "class Lamp_of_Anna:  # 定义一个类\n",
    "    pass  # 什么也不做"
   ]
  },
  {
   "cell_type": "code",
   "execution_count": 2,
   "metadata": {
    "slideshow": {
     "slide_type": "subslide"
    }
   },
   "outputs": [
    {
     "name": "stdout",
     "output_type": "stream",
     "text": [
      "<class '__main__.Lamp_of_Anna'> <class 'type'> 76559576\n"
     ]
    }
   ],
   "source": [
    "print(Lamp_of_Anna, type(Lamp_of_Anna), id(Lamp_of_Anna))  # 定义了类之后，会生成一个类对象"
   ]
  },
  {
   "cell_type": "code",
   "execution_count": 3,
   "metadata": {
    "slideshow": {
     "slide_type": "fragment"
    }
   },
   "outputs": [
    {
     "name": "stdout",
     "output_type": "stream",
     "text": [
      "<__main__.Lamp_of_Anna object at 0x0000000005AE02B0> <class '__main__.Lamp_of_Anna'> 95290032\n"
     ]
    }
   ],
   "source": [
    "p1 = Lamp_of_Anna()  # 创建了类的实例后，会生成一个实例对象\n",
    "print(p1,type(p1),id(p1))"
   ]
  },
  {
   "cell_type": "markdown",
   "metadata": {
    "slideshow": {
     "slide_type": "subslide"
    }
   },
   "source": [
    "类的实例化过程\n",
    "\n",
    "定义类时实际上定义了一个数据结构的模板。\n",
    "\n",
    "创建类的实例时，Python会以类为模板生成一个对象，然后将该对象绑定到左端变量（赋值语句中）。"
   ]
  },
  {
   "cell_type": "code",
   "execution_count": 4,
   "metadata": {
    "slideshow": {
     "slide_type": "fragment"
    }
   },
   "outputs": [
    {
     "name": "stdout",
     "output_type": "stream",
     "text": [
      "<class 'int'> 497249888\n"
     ]
    }
   ],
   "source": [
    "p1 = int(5.25)\n",
    "print(type(p1),id(p1))"
   ]
  },
  {
   "cell_type": "markdown",
   "metadata": {
    "slideshow": {
     "slide_type": "subslide"
    }
   },
   "source": [
    "创建类的实例时使用的语句与函数调用极其相似\n",
    "\n",
    "类是可调用对象（callable）。内置的类如int, str, bool, complex, list等都可以像函数一样调用。\n",
    "\n",
    "为简化起见，我们也经常将其称之为函数。"
   ]
  },
  {
   "cell_type": "markdown",
   "metadata": {
    "slideshow": {
     "slide_type": "slide"
    }
   },
   "source": [
    "### 类的结构\n",
    "* 成员（属性）\n",
    "* 方法"
   ]
  },
  {
   "cell_type": "code",
   "execution_count": 5,
   "metadata": {
    "slideshow": {
     "slide_type": "subslide"
    }
   },
   "outputs": [],
   "source": [
    "class Lamp:\n",
    "    def __init__(self, status = 'on',name = 'Lamp'):  # 在创建类的实例时调用此方法\n",
    "        self.status = status\n",
    "        self.name = name\n",
    "    def switch(self):\n",
    "        if self.status == 'on': self.status = 'off'\n",
    "        else: self.status = 'on'\n",
    "    def show(self):\n",
    "        print('Lamp' + self.name + ' is ' + self.status)"
   ]
  },
  {
   "cell_type": "code",
   "execution_count": 6,
   "metadata": {
    "slideshow": {
     "slide_type": "subslide"
    }
   },
   "outputs": [
    {
     "name": "stdout",
     "output_type": "stream",
     "text": [
      "Lampjane is off\n",
      "Lampjane is on\n"
     ]
    }
   ],
   "source": [
    "p2 = Lamp('off', name = 'jane')\n",
    "p2.show()\n",
    "p2.switch()\n",
    "p2.show()"
   ]
  },
  {
   "cell_type": "markdown",
   "metadata": {
    "slideshow": {
     "slide_type": "subslide"
    }
   },
   "source": [
    "在Lamp中定义的status和name为实例属性，在类代码中可以使用self.status和self.name访问。在类代码外，只能通过类的实例对象才能访问。\n",
    "\n",
    "switch()和show()为方法。\n",
    "\n",
    "init方法为特殊方法，注意它的开头和结尾都是两个下划线。init方法由系统在创建对象实例时自动调用。"
   ]
  },
  {
   "cell_type": "code",
   "execution_count": 7,
   "metadata": {
    "slideshow": {
     "slide_type": "subslide"
    }
   },
   "outputs": [
    {
     "name": "stdout",
     "output_type": "stream",
     "text": [
      "on jane\n"
     ]
    }
   ],
   "source": [
    "print(p2.status, p2.name)"
   ]
  },
  {
   "cell_type": "markdown",
   "metadata": {
    "slideshow": {
     "slide_type": "slide"
    }
   },
   "source": [
    "## 继承\n",
    "\n",
    "在一个类的基础上，可以派生出新的类，派生类具有基类的属性和方法。  \n",
    "派生类Color_Lamp直接在基类Lamp里找switch()方法"
   ]
  },
  {
   "cell_type": "code",
   "execution_count": 8,
   "metadata": {
    "slideshow": {
     "slide_type": "subslide"
    }
   },
   "outputs": [],
   "source": [
    "class Color_Lamp(Lamp):\n",
    "    def __init__(self, status = 'on',name = 'Lamp', bright = 1):\n",
    "        Lamp.__init__(self, status, name)  # 必须先调用基类的构造函数\n",
    "        self.bright = bright  # 派生类的新属性\n",
    "    def show(self):  # 派生类对原有方法进行修改\n",
    "        print('Lamp' + self.name + ' is ' + self.status)\n",
    "        print('The brightness of the lamp is '+ str(self.bright))\n",
    "    def turn_up(self):\n",
    "        self.bright += 1  # 派生类的新方法"
   ]
  },
  {
   "cell_type": "code",
   "execution_count": 9,
   "metadata": {
    "slideshow": {
     "slide_type": "subslide"
    }
   },
   "outputs": [
    {
     "name": "stdout",
     "output_type": "stream",
     "text": [
      "LampLamp is on\n",
      "The brightness of the lamp is 1\n"
     ]
    }
   ],
   "source": [
    "lmp2 = Color_Lamp()\n",
    "lmp2.show()"
   ]
  },
  {
   "cell_type": "code",
   "execution_count": 10,
   "metadata": {
    "slideshow": {
     "slide_type": "subslide"
    }
   },
   "outputs": [
    {
     "name": "stdout",
     "output_type": "stream",
     "text": [
      "LampLamp is off\n",
      "The brightness of the lamp is 2\n"
     ]
    }
   ],
   "source": [
    "lmp2.switch()  # 直接从基类继承的方法。\n",
    "lmp2.turn_up()\n",
    "lmp2.show()"
   ]
  },
  {
   "cell_type": "markdown",
   "metadata": {
    "slideshow": {
     "slide_type": "slide"
    }
   },
   "source": [
    "### 练习\n",
    "\n",
    "建立一个宠物类，再建立两个派生类猫和狗。在宠物类里定义宠物的共同特征和行为，在派生类里定义猫和狗的个性特征和行为。"
   ]
  },
  {
   "cell_type": "code",
   "execution_count": 11,
   "metadata": {
    "slideshow": {
     "slide_type": "subslide"
    }
   },
   "outputs": [],
   "source": [
    "class Pet:\n",
    "    def __init__(self, name, food = None, sound = None, weight = None):\n",
    "        self.name = name;  self.food = food;\n",
    "        self.sound = sound;  self.weight = weight;\n",
    "    def eat(self, meal):\n",
    "        if self.food in meal:\n",
    "            meal[self.food] -= 1;  self.weight += 1\n",
    "    def cry(self):\n",
    "        print(self.sound)"
   ]
  },
  {
   "cell_type": "code",
   "execution_count": 12,
   "metadata": {
    "slideshow": {
     "slide_type": "subslide"
    }
   },
   "outputs": [],
   "source": [
    "class Cat(Pet):\n",
    "    def __init__(self, name, sound = 'miao~miao~', weight = 10):\n",
    "        Pet.__init__(self, name, food = 'fish', weight = weight)\n",
    "        self.sound = sound\n",
    "    def climb(self):\n",
    "        print(\"Climbing a tree\")"
   ]
  },
  {
   "cell_type": "code",
   "execution_count": 13,
   "metadata": {
    "slideshow": {
     "slide_type": "subslide"
    }
   },
   "outputs": [],
   "source": [
    "class Dog(Pet):\n",
    "    def __init__(self, name, sound = 'wang！wang！', weight = 40):\n",
    "        Pet.__init__(self, name, food = 'meat', weight = weight)\n",
    "        self.sound = sound\n",
    "    def splash(self):\n",
    "        print(\"Look out...\")"
   ]
  },
  {
   "cell_type": "code",
   "execution_count": 14,
   "metadata": {
    "slideshow": {
     "slide_type": "subslide"
    }
   },
   "outputs": [],
   "source": [
    "c1 = Cat('Potato')\n",
    "c2 = Cat('Apple')\n",
    "d1 = Dog('Mili')\n",
    "d2 = Dog('Lion')\n",
    "meal = {'fish':10, 'meat': 10, 'carrot': 10, 'brocco':10}"
   ]
  },
  {
   "cell_type": "code",
   "execution_count": 15,
   "metadata": {
    "slideshow": {
     "slide_type": "subslide"
    }
   },
   "outputs": [
    {
     "name": "stdout",
     "output_type": "stream",
     "text": [
      "miao~miao~\n",
      "wang！wang！\n"
     ]
    }
   ],
   "source": [
    "c1.eat(meal)  # 不同的宠物可以响应同样的消息，以一致的界面\n",
    "c2.eat(meal)\n",
    "d1.eat(meal)\n",
    "c1.cry()  # 不同的宠物拥有一致的界面\n",
    "d2.cry()"
   ]
  },
  {
   "cell_type": "code",
   "execution_count": 16,
   "metadata": {
    "slideshow": {
     "slide_type": "subslide"
    }
   },
   "outputs": [
    {
     "name": "stdout",
     "output_type": "stream",
     "text": [
      "{'fish': 8, 'meat': 9, 'carrot': 10, 'brocco': 10}\n",
      "Climbing a tree\n",
      "Look out...\n"
     ]
    }
   ],
   "source": [
    "print(meal)\n",
    "c1.climb()\n",
    "d2.splash()"
   ]
  },
  {
   "cell_type": "markdown",
   "metadata": {
    "slideshow": {
     "slide_type": "subslide"
    }
   },
   "source": [
    "试试看，建立一个学生类，然后再派生一个新的类，课代表。课代表有一个特殊属性：job，另外还有一个特殊行为：collect_hw."
   ]
  },
  {
   "cell_type": "code",
   "execution_count": null,
   "metadata": {},
   "outputs": [],
   "source": [
    "class Student():\n",
    "    def __init__(self,name):\n",
    "        self.name = name\n",
    "    \n",
    "class Class_repres(Student):\n",
    "    def __init__(self, name, subject):\n",
    "        Student.__init__(self, name)"
   ]
  },
  {
   "cell_type": "markdown",
   "metadata": {
    "slideshow": {
     "slide_type": "slide"
    }
   },
   "source": [
    "## 类的属性\n",
    "\n",
    "类的属性指的是描述类的特征的数据成员。\n",
    "\n",
    "类的属性只能通过类对象或实例对象进行访问。\n",
    "\n",
    "类的属性分为实例属性和类属性。实例属性只有在实例化之后才能访问。"
   ]
  },
  {
   "cell_type": "code",
   "execution_count": 17,
   "metadata": {
    "slideshow": {
     "slide_type": "subslide"
    }
   },
   "outputs": [],
   "source": [
    "class Student:\n",
    "    def __init__(self, name, age):\n",
    "        self.name = name\n",
    "        self.age = age\n",
    "    def grow(self):\n",
    "        self.title = 'mr'  # 在类方法中可以增加属性，但是不建议\n",
    "        self.age +=1\n",
    "    def say_hello(self):\n",
    "        print('Hello, I am ' + self.name, 'and I am '+ str(self.age) + ' years old.')"
   ]
  },
  {
   "cell_type": "code",
   "execution_count": 18,
   "metadata": {
    "slideshow": {
     "slide_type": "subslide"
    }
   },
   "outputs": [],
   "source": [
    "#Student.name  #  name和age都是实例属性，不可以通过类对象来访问"
   ]
  },
  {
   "cell_type": "markdown",
   "metadata": {
    "slideshow": {
     "slide_type": "subslide"
    }
   },
   "source": [
    "在创建类实例时，init方法会被调用，此时name和age两个变量被定义，之后在类代码中可以访问，也可以通过类的实例访问。  \n",
    "Student本身是对象，至少要先建立才有实例属性，不然只有一些\\_\\_doc\\_\\_,\\_\\_dict\\_\\_之类的属性"
   ]
  },
  {
   "cell_type": "code",
   "execution_count": 19,
   "metadata": {
    "slideshow": {
     "slide_type": "subslide"
    }
   },
   "outputs": [
    {
     "name": "stdout",
     "output_type": "stream",
     "text": [
      "Hello, I am John and I am 18 years old.\n",
      "Hello, I am Mary and I am 19 years old.\n"
     ]
    }
   ],
   "source": [
    "s1 = Student('John', 18)\n",
    "s2 = Student('Mary', 19)\n",
    "s1.say_hello()\n",
    "s2.say_hello()"
   ]
  },
  {
   "cell_type": "code",
   "execution_count": 20,
   "metadata": {
    "slideshow": {
     "slide_type": "subslide"
    }
   },
   "outputs": [],
   "source": [
    "#s1.title  # error! why?"
   ]
  },
  {
   "cell_type": "code",
   "execution_count": 21,
   "metadata": {
    "slideshow": {
     "slide_type": "fragment"
    }
   },
   "outputs": [
    {
     "data": {
      "text/plain": [
       "'mr'"
      ]
     },
     "execution_count": 21,
     "metadata": {},
     "output_type": "execute_result"
    }
   ],
   "source": [
    "s1.grow()\n",
    "s1.title  # why is this correct?"
   ]
  },
  {
   "cell_type": "code",
   "execution_count": 22,
   "metadata": {
    "slideshow": {
     "slide_type": "subslide"
    }
   },
   "outputs": [],
   "source": [
    "#dir(s1)  # want to see more"
   ]
  },
  {
   "cell_type": "markdown",
   "metadata": {
    "slideshow": {
     "slide_type": "slide"
    }
   },
   "source": [
    "### 实例对象的属性与局部变量\n",
    "\n",
    "实例变量需要通过self来引用。在实例的生存期内，实例变量可以通过类的实例访问，也可以被类的方法访问。\n",
    "\n",
    "而局部变量只在定义它的方法中可见，在类代码的其他部分是不可见的，也无法通过类的实例从类的外部访问。"
   ]
  },
  {
   "cell_type": "code",
   "execution_count": 1,
   "metadata": {
    "slideshow": {
     "slide_type": "subslide"
    }
   },
   "outputs": [],
   "source": [
    "class Student2:\n",
    "    def __init__(self, name, age):\n",
    "        self.name = name\n",
    "        self.age = age\n",
    "    def grow(self):\n",
    "        age = 18  # 注意： 这个变量既不是类变量，也不是实例变量,其他地方都不能访问\n",
    "        print('I am '+ str(age) + ' years old.')"
   ]
  },
  {
   "cell_type": "code",
   "execution_count": 24,
   "metadata": {
    "slideshow": {
     "slide_type": "subslide"
    }
   },
   "outputs": [
    {
     "name": "stdout",
     "output_type": "stream",
     "text": [
      "I am 18 years old.\n",
      "the value of age is  10\n"
     ]
    }
   ],
   "source": [
    "s2 = Student2('Tom',10)\n",
    "s2.grow()\n",
    "print('the value of age is ', s2.age)\n",
    "#print(Student2.age)"
   ]
  },
  {
   "cell_type": "markdown",
   "metadata": {
    "slideshow": {
     "slide_type": "slide"
    }
   },
   "source": [
    "### 实例属性与类属性\n",
    "\n",
    "在类中也可以定义静态属性，它不属于特定实例，而是所有实例共享同一个副本。\n",
    "\n",
    "实例属性既可以通过类对象访问，也可以（不建议）通过实例对象访问。\n",
    "\n",
    "即便没有定义任何实例对象，类属性依然存在。"
   ]
  },
  {
   "cell_type": "markdown",
   "metadata": {
    "slideshow": {
     "slide_type": "subslide"
    }
   },
   "source": [
    "访问静态属性可能犯的两种错误\n",
    "\n",
    "* 访问静态属性的第一种错误\n",
    "误用实例访问类属性"
   ]
  },
  {
   "cell_type": "code",
   "execution_count": 25,
   "metadata": {
    "slideshow": {
     "slide_type": "subslide"
    }
   },
   "outputs": [],
   "source": [
    "class Student3:\n",
    "    cnt = 5\n",
    "    def __init__(self, name):\n",
    "        self.name =  name\n",
    "    def show(self):\n",
    "        print('cnt:', self.cnt)\n",
    "    def arrive(self):\n",
    "        self.cnt +=1"
   ]
  },
  {
   "cell_type": "code",
   "execution_count": 26,
   "metadata": {
    "slideshow": {
     "slide_type": "subslide"
    }
   },
   "outputs": [
    {
     "name": "stdout",
     "output_type": "stream",
     "text": [
      "cnt: 5\n"
     ]
    },
    {
     "data": {
      "text/plain": [
       "(5, 5)"
      ]
     },
     "execution_count": 26,
     "metadata": {},
     "output_type": "execute_result"
    }
   ],
   "source": [
    "s3 = Student3('Tot')\n",
    "s3.show()\n",
    "s3.cnt, Student3.cnt"
   ]
  },
  {
   "cell_type": "code",
   "execution_count": 27,
   "metadata": {
    "slideshow": {
     "slide_type": "subslide"
    }
   },
   "outputs": [
    {
     "data": {
      "text/plain": [
       "(8, 5)"
      ]
     },
     "execution_count": 27,
     "metadata": {},
     "output_type": "execute_result"
    }
   ],
   "source": [
    "s3.arrive()\n",
    "s3.arrive()\n",
    "s3.arrive()\n",
    "s3.cnt, Student3.cnt"
   ]
  },
  {
   "cell_type": "code",
   "execution_count": 28,
   "metadata": {
    "slideshow": {
     "slide_type": "subslide"
    }
   },
   "outputs": [],
   "source": [
    "class light:\n",
    "    cnt = 1\n",
    "    def __init__(self, name):\n",
    "        self.name = name\n",
    "    def show(self):\n",
    "        print(self.cnt)\n",
    "    def tell(self):\n",
    "        print(light.cnt)"
   ]
  },
  {
   "cell_type": "code",
   "execution_count": 29,
   "metadata": {
    "slideshow": {
     "slide_type": "subslide"
    }
   },
   "outputs": [
    {
     "name": "stdout",
     "output_type": "stream",
     "text": [
      "1\n",
      "6\n",
      "1\n"
     ]
    }
   ],
   "source": [
    "t1 = light('geek')\n",
    "print(t1.cnt)\n",
    "t1.cnt = t1.cnt + 5  # what happened?\n",
    "t1.show(); t1.tell()  # why?"
   ]
  },
  {
   "cell_type": "markdown",
   "metadata": {
    "slideshow": {
     "slide_type": "subslide"
    }
   },
   "source": [
    "* 访问静态属性的第二种错误\n",
    "误把类属性当成局部变量"
   ]
  },
  {
   "cell_type": "code",
   "execution_count": 30,
   "metadata": {
    "slideshow": {
     "slide_type": "subslide"
    }
   },
   "outputs": [],
   "source": [
    "class Student4:\n",
    "    cnt = 5\n",
    "    def __init__(self, name):\n",
    "        self.name =  name\n",
    "    def show(self):\n",
    "        print('cnt:', cnt)\n",
    "        pass\n",
    "    def arrive(self):\n",
    "        cnt +=1\n",
    "        pass"
   ]
  },
  {
   "cell_type": "code",
   "execution_count": 31,
   "metadata": {
    "slideshow": {
     "slide_type": "subslide"
    }
   },
   "outputs": [],
   "source": [
    "s4 = Student4('Jack')"
   ]
  },
  {
   "cell_type": "code",
   "execution_count": 32,
   "metadata": {
    "slideshow": {
     "slide_type": "fragment"
    }
   },
   "outputs": [
    {
     "data": {
      "text/plain": [
       "(5, 5)"
      ]
     },
     "execution_count": 32,
     "metadata": {},
     "output_type": "execute_result"
    }
   ],
   "source": [
    "s4.cnt, Student4.cnt"
   ]
  },
  {
   "cell_type": "code",
   "execution_count": 33,
   "metadata": {
    "slideshow": {
     "slide_type": "subslide"
    }
   },
   "outputs": [],
   "source": [
    "#s4.show()  # error! why?"
   ]
  },
  {
   "cell_type": "code",
   "execution_count": 34,
   "metadata": {
    "slideshow": {
     "slide_type": "fragment"
    }
   },
   "outputs": [],
   "source": [
    "#s4.arrive() # error ! why?"
   ]
  },
  {
   "cell_type": "markdown",
   "metadata": {
    "slideshow": {
     "slide_type": "subslide"
    }
   },
   "source": [
    "### 小结：\n",
    "\n",
    "在类代码中初始化的静态属性与类实例属性和局部变量不同。\n",
    "\n",
    "静态属性可以通过类实例读取\n",
    "\n",
    "通过实例名不能对类静态属性进行修改，反而是生成了一个同名的实例属性。"
   ]
  },
  {
   "cell_type": "markdown",
   "metadata": {
    "slideshow": {
     "slide_type": "subslide"
    }
   },
   "source": [
    "* 访问和修改类的静态属性的正确方法"
   ]
  },
  {
   "cell_type": "code",
   "execution_count": 35,
   "metadata": {
    "slideshow": {
     "slide_type": "subslide"
    }
   },
   "outputs": [],
   "source": [
    "class Student5:\n",
    "    cnt = 0\n",
    "    def __init__(self, name):\n",
    "        self.name =  name   # 使用self访问实例属性\n",
    "    def arrive(self):\n",
    "        Student5.cnt +=1  # 使用类名访问类属性"
   ]
  },
  {
   "cell_type": "code",
   "execution_count": 36,
   "metadata": {
    "slideshow": {
     "slide_type": "subslide"
    }
   },
   "outputs": [
    {
     "data": {
      "text/plain": [
       "0"
      ]
     },
     "execution_count": 36,
     "metadata": {},
     "output_type": "execute_result"
    }
   ],
   "source": [
    "Student5.cnt"
   ]
  },
  {
   "cell_type": "code",
   "execution_count": 37,
   "metadata": {
    "slideshow": {
     "slide_type": "subslide"
    }
   },
   "outputs": [
    {
     "data": {
      "text/plain": [
       "0"
      ]
     },
     "execution_count": 37,
     "metadata": {},
     "output_type": "execute_result"
    }
   ],
   "source": [
    "s5 = Student5('Right')\n",
    "#print(s5.cnt)  # 不建议通过实例访问类属性，虽然结果相同\n",
    "Student5.cnt"
   ]
  },
  {
   "cell_type": "code",
   "execution_count": 38,
   "metadata": {
    "slideshow": {
     "slide_type": "subslide"
    }
   },
   "outputs": [
    {
     "data": {
      "text/plain": [
       "1"
      ]
     },
     "execution_count": 38,
     "metadata": {},
     "output_type": "execute_result"
    }
   ],
   "source": [
    "s5.arrive()\n",
    "#print(s5.cnt)  # 不建议通过实例访问类属性，虽然结果相同\n",
    "Student5.cnt"
   ]
  },
  {
   "cell_type": "markdown",
   "metadata": {
    "slideshow": {
     "slide_type": "slide"
    }
   },
   "source": [
    "### 私有属性和公有属性\n",
    "\n",
    "Python中没有public和private关键字进行访问控制。\n",
    "\n",
    "通常约定以两个下划线开头，但是不以两个下划线结尾的属性为私有属性。\n",
    "\n",
    "不能直接访问私有属性，只能通过类的方法访问。"
   ]
  },
  {
   "cell_type": "code",
   "execution_count": 39,
   "metadata": {
    "slideshow": {
     "slide_type": "subslide"
    }
   },
   "outputs": [],
   "source": [
    "class Person:\n",
    "    __age = 30\n",
    "    def __init__(): pass\n",
    "    def get_age():\n",
    "        if Person.__age >=50: print('old')\n",
    "        else: print('young')"
   ]
  },
  {
   "cell_type": "code",
   "execution_count": 40,
   "metadata": {
    "slideshow": {
     "slide_type": "subslide"
    }
   },
   "outputs": [
    {
     "name": "stdout",
     "output_type": "stream",
     "text": [
      "young\n"
     ]
    }
   ],
   "source": [
    "Person.get_age()"
   ]
  },
  {
   "cell_type": "code",
   "execution_count": 41,
   "metadata": {
    "slideshow": {
     "slide_type": "fragment"
    }
   },
   "outputs": [],
   "source": [
    "#Person.__age  # error! why?"
   ]
  },
  {
   "cell_type": "code",
   "execution_count": 42,
   "metadata": {
    "slideshow": {
     "slide_type": "subslide"
    }
   },
   "outputs": [],
   "source": [
    "class Person2:\n",
    "    def __init__(self,age):\n",
    "        self.__age = age\n",
    "    def get_age(self):\n",
    "        if self.__age >=50: print('old')\n",
    "        else: print('young')"
   ]
  },
  {
   "cell_type": "code",
   "execution_count": 43,
   "metadata": {
    "slideshow": {
     "slide_type": "subslide"
    }
   },
   "outputs": [
    {
     "name": "stdout",
     "output_type": "stream",
     "text": [
      "old\n"
     ]
    }
   ],
   "source": [
    "p2 = Person2(60)\n",
    "p2.get_age()"
   ]
  },
  {
   "cell_type": "code",
   "execution_count": 44,
   "metadata": {
    "slideshow": {
     "slide_type": "fragment"
    }
   },
   "outputs": [],
   "source": [
    "#p2.__age  # error"
   ]
  },
  {
   "cell_type": "markdown",
   "metadata": {
    "slideshow": {
     "slide_type": "slide"
    }
   },
   "source": [
    "## 类的方法\n",
    "\n",
    "类的方法是对事物行为的抽象，是外界与对象进行交互的接口。一般而言，我们只关心如何对象能够进行哪些操作，可以对哪些事件作出响应。这些操作和响应就是通过方法定义的。"
   ]
  },
  {
   "cell_type": "code",
   "execution_count": 45,
   "metadata": {
    "slideshow": {
     "slide_type": "subslide"
    }
   },
   "outputs": [],
   "source": [
    "class Walker:\n",
    "    def __init__(self, pos = 0):\n",
    "        self.pos = pos\n",
    "    def move(self):\n",
    "        self.pos += 1"
   ]
  },
  {
   "cell_type": "code",
   "execution_count": 46,
   "metadata": {
    "slideshow": {
     "slide_type": "subslide"
    }
   },
   "outputs": [
    {
     "name": "stdout",
     "output_type": "stream",
     "text": [
      "0\n",
      "1\n"
     ]
    }
   ],
   "source": [
    "w1 = Walker()\n",
    "print(w1.pos)\n",
    "w1.move()\n",
    "print(w1.pos)"
   ]
  },
  {
   "cell_type": "markdown",
   "metadata": {
    "slideshow": {
     "slide_type": "subslide"
    }
   },
   "source": [
    "实例方法中的第一个参数为self，用来传递调用方法的实例对象的引用。解释器会自动将该引用传递给类的方法。"
   ]
  },
  {
   "cell_type": "code",
   "execution_count": 47,
   "metadata": {
    "slideshow": {
     "slide_type": "fragment"
    }
   },
   "outputs": [],
   "source": [
    "#Walker.move()  # 如果使用类调用时则会出错，因为缺乏实例对象的引用"
   ]
  },
  {
   "cell_type": "markdown",
   "metadata": {
    "slideshow": {
     "slide_type": "slide"
    }
   },
   "source": [
    "## 私有方法\n",
    "\n",
    "同样，Python中没有public, private这样的关键字区分公有和私有属性，而是通过命名进行区分。\n",
    "\n",
    "以两个下划线开头，但不以两个下划线结尾的方法为私有方法。\n",
    "\n",
    "私有方法只能在对象内部访问，不能从对象外部访问。"
   ]
  },
  {
   "cell_type": "code",
   "execution_count": 48,
   "metadata": {
    "slideshow": {
     "slide_type": "subslide"
    }
   },
   "outputs": [],
   "source": [
    "class Officer:\n",
    "    def __init__(self, rank):\n",
    "        self.rank = rank\n",
    "    def __talk(self, msg):\n",
    "        print(msg['content'])\n",
    "    def talk(self, msg):\n",
    "        if self.rank > msg['rank']:\n",
    "            self.__talk(msg)"
   ]
  },
  {
   "cell_type": "code",
   "execution_count": 49,
   "metadata": {
    "slideshow": {
     "slide_type": "subslide"
    }
   },
   "outputs": [
    {
     "name": "stdout",
     "output_type": "stream",
     "text": [
      "alert: everything is fine\n"
     ]
    }
   ],
   "source": [
    "r1 = Officer(rank = 6)\n",
    "msg1 = {'rank':8, 'content': 'alert: danger is close'}\n",
    "msg2 = {'rank':3, 'content': 'alert: everything is fine'}\n",
    "#r1.__talk(msg1)  # cannot access from outside\n",
    "r1.talk(msg1)\n",
    "r1.talk(msg2)"
   ]
  },
  {
   "cell_type": "markdown",
   "metadata": {
    "slideshow": {
     "slide_type": "slide"
    }
   },
   "source": [
    "### 静态方法 staticmethod\n",
    "\n",
    "当我们不需要和类属性和类的实例进行交互时，可以定义静态方法。\n",
    "\n",
    "静态方法使用@staticmethod装饰"
   ]
  },
  {
   "cell_type": "code",
   "execution_count": 50,
   "metadata": {
    "slideshow": {
     "slide_type": "subslide"
    }
   },
   "outputs": [],
   "source": [
    "class Meter_Converter:\n",
    "    @staticmethod\n",
    "    def m2c(meter):\n",
    "        cm = meter * 100\n",
    "        return cm"
   ]
  },
  {
   "cell_type": "code",
   "execution_count": 51,
   "metadata": {
    "slideshow": {
     "slide_type": "subslide"
    }
   },
   "outputs": [
    {
     "data": {
      "text/plain": [
       "252.99999999999997"
      ]
     },
     "execution_count": 51,
     "metadata": {},
     "output_type": "execute_result"
    }
   ],
   "source": [
    "Meter_Converter.m2c(2.53)"
   ]
  },
  {
   "cell_type": "code",
   "execution_count": 52,
   "metadata": {
    "slideshow": {
     "slide_type": "fragment"
    }
   },
   "outputs": [
    {
     "data": {
      "text/plain": [
       "<function __main__.Meter_Converter.m2c>"
      ]
     },
     "execution_count": 52,
     "metadata": {},
     "output_type": "execute_result"
    }
   ],
   "source": [
    "Meter_Converter.m2c  # 注意它是function"
   ]
  },
  {
   "cell_type": "markdown",
   "metadata": {
    "slideshow": {
     "slide_type": "slide"
    }
   },
   "source": [
    "### 类方法 classmethod\n",
    "\n",
    "类方法不对任何类的实例进行操作，但可以访问类的属性。\n",
    "\n",
    "类方法使用@classmethod装饰"
   ]
  },
  {
   "cell_type": "code",
   "execution_count": 53,
   "metadata": {
    "slideshow": {
     "slide_type": "subslide"
    }
   },
   "outputs": [],
   "source": [
    "class Reporter:\n",
    "    classname = 'reporter'\n",
    "    def __init__(self, name):\n",
    "        self.name = name\n",
    "    def show(self):\n",
    "        print('I am '+ self.name)\n",
    "    @classmethod\n",
    "    def who_am_i(cls):\n",
    "        print('I am '+ cls.classname)"
   ]
  },
  {
   "cell_type": "code",
   "execution_count": 54,
   "metadata": {
    "slideshow": {
     "slide_type": "subslide"
    }
   },
   "outputs": [
    {
     "name": "stdout",
     "output_type": "stream",
     "text": [
      "I am reporter\n"
     ]
    }
   ],
   "source": [
    "Reporter.who_am_i()"
   ]
  },
  {
   "cell_type": "code",
   "execution_count": 55,
   "metadata": {
    "slideshow": {
     "slide_type": "fragment"
    }
   },
   "outputs": [
    {
     "data": {
      "text/plain": [
       "<bound method Reporter.who_am_i of <class '__main__.Reporter'>>"
      ]
     },
     "execution_count": 55,
     "metadata": {},
     "output_type": "execute_result"
    }
   ],
   "source": [
    "Reporter.who_am_i  # 注意这是一个方法"
   ]
  },
  {
   "cell_type": "code",
   "execution_count": 56,
   "metadata": {
    "slideshow": {
     "slide_type": "subslide"
    }
   },
   "outputs": [
    {
     "name": "stdout",
     "output_type": "stream",
     "text": [
      "I am William\n"
     ]
    }
   ],
   "source": [
    "r1 =  Reporter('William')\n",
    "r1.show()"
   ]
  }
 ],
 "metadata": {
  "anaconda-cloud": {},
  "celltoolbar": "Slideshow",
  "kernelspec": {
   "display_name": "Python 3",
   "language": "python",
   "name": "python3"
  },
  "language_info": {
   "codemirror_mode": {
    "name": "ipython",
    "version": 3
   },
   "file_extension": ".py",
   "mimetype": "text/x-python",
   "name": "python",
   "nbconvert_exporter": "python",
   "pygments_lexer": "ipython3",
   "version": "3.7.3"
  }
 },
 "nbformat": 4,
 "nbformat_minor": 2
}
