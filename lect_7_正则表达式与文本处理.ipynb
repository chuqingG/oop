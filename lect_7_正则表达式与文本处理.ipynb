{
 "cells": [
  {
   "cell_type": "markdown",
   "metadata": {
    "slideshow": {
     "slide_type": "slide"
    }
   },
   "source": [
    "# 正则表达式与文本处理\n",
    "\n",
    "* 字符串函数\n",
    "* 正则表达式\n",
    "* 遍历字符序列，进行处理"
   ]
  },
  {
   "cell_type": "markdown",
   "metadata": {
    "slideshow": {
     "slide_type": "subslide"
    }
   },
   "source": [
    "## 回顾：字符串函数\n",
    "\n",
    "* 类型判断\n",
    "* 大小写转换\n",
    "* 字符串拆分与拼接\n",
    "* 搜索与替换\n",
    "* 翻译与转换"
   ]
  },
  {
   "cell_type": "markdown",
   "metadata": {
    "slideshow": {
     "slide_type": "subslide"
    }
   },
   "source": [
    "假设我们有一段英文文本，希望把这段文本中的单词全部提取出来，放在一个列表中，如何操作？\n",
    "\n",
    "字符串的split方法可以帮助我们完成这个任务。但不完美。"
   ]
  },
  {
   "cell_type": "code",
   "execution_count": 1,
   "metadata": {
    "slideshow": {
     "slide_type": "subslide"
    }
   },
   "outputs": [
    {
     "name": "stdout",
     "output_type": "stream",
     "text": [
      "['a', 'secret', 'system,', 'a', 'machine,', 'that', 'spies', 'on', 'you', 'every', 'hour', 'of', 'every', 'day.']\n"
     ]
    }
   ],
   "source": [
    "sent = \"a secret system, a machine, that spies on you every hour of every day.\"\n",
    "print(sent.split())"
   ]
  },
  {
   "cell_type": "code",
   "execution_count": 2,
   "metadata": {
    "slideshow": {
     "slide_type": "fragment"
    }
   },
   "outputs": [
    {
     "name": "stdout",
     "output_type": "stream",
     "text": [
      "['a', 'secret', 'system', 'a', 'machine', 'that', 'spies', 'on', 'you', 'every', 'hour', 'of', 'every', 'day']\n"
     ]
    }
   ],
   "source": [
    "import re\n",
    "print(re.findall('\\w+', sent))"
   ]
  },
  {
   "cell_type": "markdown",
   "metadata": {
    "slideshow": {
     "slide_type": "slide"
    }
   },
   "source": [
    "## 正则表达式\n",
    "\n",
    "* 正则表达式构成\n",
    "* 字符类和预定义字符类\n",
    "* 重复次数限定符\n",
    "* 贪婪匹配与懒惰匹配\n",
    "* 分组和引用\n",
    "* 匹配选项"
   ]
  },
  {
   "cell_type": "code",
   "execution_count": 3,
   "metadata": {
    "slideshow": {
     "slide_type": "subslide"
    }
   },
   "outputs": [],
   "source": [
    "import re"
   ]
  },
  {
   "cell_type": "markdown",
   "metadata": {
    "slideshow": {
     "slide_type": "fragment"
    }
   },
   "source": [
    "Python标准库的re模块实现了正则表达式处理的功能。使用之前需要先导入。\n",
    "```\n",
    "  import re\n",
    "```\n",
    "在学习这个模块之前，我们先看一个例子。假设我们想从文本中提取IP地址，可以这样做。"
   ]
  },
  {
   "cell_type": "code",
   "execution_count": 4,
   "metadata": {
    "slideshow": {
     "slide_type": "subslide"
    }
   },
   "outputs": [
    {
     "data": {
      "text/plain": [
       "['202.38.102.75']"
      ]
     },
     "execution_count": 4,
     "metadata": {},
     "output_type": "execute_result"
    }
   ],
   "source": [
    "# 例子： 提取文本中的IP地址\n",
    "click = \"you are visiting this website from ip: 202.38.102.75\"\n",
    "re.findall(\"\\d{1,3}\\.\\d{1,3}\\.\\d{1,3}\\.\\d{1,3}\", click)"
   ]
  },
  {
   "cell_type": "markdown",
   "metadata": {
    "slideshow": {
     "slide_type": "subslide"
    }
   },
   "source": [
    "我们以下主要针对英文文本进行讲解。当然正则表达式也可以处理中文文本。\n",
    "\n",
    "若不限定采用ASCII码字母匹配(re.A选项)，`'\\w'`可以匹配汉字。或者我们使用`[\\u4e00-\\u9fa5]`显式匹配一个汉字。\n",
    "\n",
    "例如提取文本中的路名和门牌号信息，地址形式：区xx路xx号"
   ]
  },
  {
   "cell_type": "code",
   "execution_count": 5,
   "metadata": {
    "slideshow": {
     "slide_type": "subslide"
    }
   },
   "outputs": [
    {
     "name": "stdout",
     "output_type": "stream",
     "text": [
      "[('马鞍山南路588号', '马鞍山南路', '588号'), ('莲花路1002号', '莲花路', '1002号')]\n"
     ]
    }
   ],
   "source": [
    "addr = \"合肥市包河区马鞍山南路588号金地国际城，安徽省合肥市经济技术开发区莲花路1002号\"\n",
    "print(re.findall('区((\\w+?路)(\\w+?号))', addr))\n",
    "#print(re.findall('区(([\\u4e00-\\u9fa5]+?路)(\\w+?号))', addr))  # similar"
   ]
  },
  {
   "cell_type": "markdown",
   "metadata": {
    "slideshow": {
     "slide_type": "slide"
    }
   },
   "source": [
    "### 正则表达式的应用\n",
    "\n",
    "* 信息查找\n",
    "* 信息提取\n",
    "* 信息替换"
   ]
  },
  {
   "cell_type": "markdown",
   "metadata": {
    "slideshow": {
     "slide_type": "subslide"
    }
   },
   "source": [
    "* 信息查找\n",
    "\n",
    "  1. 匹配html的一个标签，如title标签、head标签、h1标签。\n",
    "\n",
    "  2. 匹配一个日期或者时间\n",
    "\n",
    "  3. 匹配电子邮件地址\n",
    "\n",
    "  4. 匹配含有区号的电话号码\n",
    "\n"
   ]
  },
  {
   "cell_type": "markdown",
   "metadata": {
    "slideshow": {
     "slide_type": "subslide"
    }
   },
   "source": [
    "* 信息提取\n",
    "  1. 提取title标签中的内容\n",
    "\n",
    "  2. 提取a标签中的链接地址\n",
    "\n",
    "  3. 提取日期中的年月日信息\n",
    "\n",
    "  4. 提取电子邮件的收件人和邮件服务器地址\n",
    "\n",
    "  5. 提取电话的区号和号码。"
   ]
  },
  {
   "cell_type": "markdown",
   "metadata": {
    "slideshow": {
     "slide_type": "slide"
    }
   },
   "source": [
    "## 正则表达式基本语法\n",
    "\n",
    "### 匹配指定字符串"
   ]
  },
  {
   "cell_type": "code",
   "execution_count": 6,
   "metadata": {
    "slideshow": {
     "slide_type": "subslide"
    }
   },
   "outputs": [
    {
     "name": "stdout",
     "output_type": "stream",
     "text": [
      "['dog', 'dog']\n",
      "['cat']\n"
     ]
    }
   ],
   "source": [
    "data3 = 'the dog runs after a cat and a dog'\n",
    "print(re.findall('dog', data3))\n",
    "print(re.findall('cat', data3))"
   ]
  },
  {
   "cell_type": "markdown",
   "metadata": {
    "slideshow": {
     "slide_type": "slide"
    }
   },
   "source": [
    "### 匹配多种可能的字符串\n",
    "\n",
    "使用符号'|'，注意选择符'|'的优先级最低，如有必要可以使用圆括号改变优先级。"
   ]
  },
  {
   "cell_type": "code",
   "execution_count": 7,
   "metadata": {
    "slideshow": {
     "slide_type": "subslide"
    }
   },
   "outputs": [
    {
     "name": "stdout",
     "output_type": "stream",
     "text": [
      "['dog', 'cat', 'dog']\n"
     ]
    }
   ],
   "source": [
    "print(re.findall('dog|cat', data3))"
   ]
  },
  {
   "cell_type": "markdown",
   "metadata": {
    "slideshow": {
     "slide_type": "subslide"
    }
   },
   "source": [
    "如果要匹配不同形式的yes，该如何处理？"
   ]
  },
  {
   "cell_type": "code",
   "execution_count": 8,
   "metadata": {
    "slideshow": {
     "slide_type": "fragment"
    }
   },
   "outputs": [
    {
     "name": "stdout",
     "output_type": "stream",
     "text": [
      "['Yes']\n"
     ]
    }
   ],
   "source": [
    "answer = 'Yes'\n",
    "print(re.findall('yes|Yes|yEs|YEs|yeS|YeS|yES|YES', answer))"
   ]
  },
  {
   "cell_type": "markdown",
   "metadata": {
    "slideshow": {
     "slide_type": "slide"
    }
   },
   "source": [
    "### 匹配一类字符：字符类\n",
    "\n",
    "使用方括号括起来的一系列字符，匹配一个字符的多种可能性，表示一个字符类。\n",
    "\n",
    "  * [abc] [a-c] 匹配指定字符集或指定范围的字符集\n",
    "  * [^abc] [^a-c] 排除指定字符集或指定范围的字符集"
   ]
  },
  {
   "cell_type": "code",
   "execution_count": 9,
   "metadata": {
    "slideshow": {
     "slide_type": "fragment"
    }
   },
   "outputs": [
    {
     "name": "stdout",
     "output_type": "stream",
     "text": [
      "['Yes']\n"
     ]
    }
   ],
   "source": [
    "print(re.findall('[yY][eE][sS]', answer))"
   ]
  },
  {
   "cell_type": "code",
   "execution_count": 10,
   "metadata": {
    "slideshow": {
     "slide_type": "subslide"
    }
   },
   "outputs": [
    {
     "name": "stdout",
     "output_type": "stream",
     "text": [
      "['302', '201', '605']\n",
      "['34', '69', 'fa', 'dc', '9c', 'dd']\n",
      "['302', '098', '59X']\n"
     ]
    }
   ],
   "source": [
    "# 匹配三位十进制数\n",
    "print(re.findall('[1-9][0-9][0-9]', '302, 098, 02016, 060599'))\n",
    "# 匹配两位十六进制数\n",
    "print(re.findall('[0-9a-fA-F][0-9a-fA-F]', '3469fadc9cdd'))\n",
    "# 匹配身份证号码后三位\n",
    "print(re.findall('[0-9][0-9][1-9xX]', '302, 098, 020, 59X'))"
   ]
  },
  {
   "cell_type": "markdown",
   "metadata": {
    "slideshow": {
     "slide_type": "subslide"
    }
   },
   "source": [
    "可以发现以上的模式中，\n",
    "\n",
    "* 用枚举的形式表示一个字符类，不好理解。\n",
    "\n",
    "* 若一类字符出现多次，如\\[0-9\\]，会使得正则表达式变得非常冗长。"
   ]
  },
  {
   "cell_type": "code",
   "execution_count": 11,
   "metadata": {
    "slideshow": {
     "slide_type": "subslide"
    }
   },
   "outputs": [
    {
     "name": "stdout",
     "output_type": "stream",
     "text": [
      "['<1>']\n",
      "['this', 'trea', 't st']\n"
     ]
    }
   ],
   "source": [
    "# （1）匹配一个非空<x>标签，标签名不知\n",
    "# not solved\n",
    "print(re.findall('<[^>]>', '<1> <h4> <title> <>'))\n",
    "# （2）匹配以t开头但是第二个字母不是元音的词，词的长度为4\n",
    "# not solved\n",
    "print(re.findall('t[^aeiouy][a-z][a-z]', 'take this talk stand treat strand'))"
   ]
  },
  {
   "cell_type": "markdown",
   "metadata": {
    "slideshow": {
     "slide_type": "subslide"
    }
   },
   "source": [
    "注意以上的模式存在问题：\n",
    "\n",
    "(1) 虽然排除了空标签，但无法匹配标签名长度可变的问题。\n",
    "\n",
    "(2) 虽然找到了t后非元音字母的词，但没有限定t出现在词的开头。也不保证找到的是长度为4的词。"
   ]
  },
  {
   "cell_type": "markdown",
   "metadata": {
    "slideshow": {
     "slide_type": "slide"
    }
   },
   "source": [
    "### 预定义字符类\n",
    "\n",
    "| 字符类 | 含义 | 字符类 | 含义 |    \n",
    "| -- | -- | -- | --|\n",
    "| \\d | 数字[0-9] | \\D | 排除数字 |\n",
    "| \\s | 空白字符[ \\t\\n\\r\\f\\v] | \\S | 排除空白字符 |\n",
    "| \\w | 单词字符[a-zA-Z0-9_] | \\W | 排除字母字符 |\n",
    "| . | 除回车符之外的任何字符 |  |  |"
   ]
  },
  {
   "cell_type": "code",
   "execution_count": 12,
   "metadata": {
    "slideshow": {
     "slide_type": "subslide"
    }
   },
   "outputs": [
    {
     "name": "stdout",
     "output_type": "stream",
     "text": [
      "['302', '201', '605']\n",
      "['d_1', 'psd', '_23', '_ab']\n",
      "['302', '098', '59X']\n"
     ]
    }
   ],
   "source": [
    "# 匹配三位十进制数\n",
    "print(re.findall('[1-9]\\d\\d', '302, 098, 02016, 060599'))\n",
    "# 匹配三位变量名\n",
    "print(re.findall('[a-zA-Z_]\\w\\w', 'd_1, psd, _23, _ab, 3_a'))\n",
    "# 匹配身份证号码后三位\n",
    "print(re.findall('\\d\\d[1-9xX]', '302, 098, 020, 59X'))"
   ]
  },
  {
   "cell_type": "code",
   "execution_count": 13,
   "metadata": {
    "slideshow": {
     "slide_type": "subslide"
    }
   },
   "outputs": [
    {
     "name": "stdout",
     "output_type": "stream",
     "text": [
      "['the', 'qui', 'bro', 'fox', 'jum', 'for', 'foo']\n",
      "['quic', 'brow', 'jump', 'food']\n"
     ]
    }
   ],
   "source": [
    "test1 = \"the quick brown fox jumps for food\"\n",
    "print(re.findall('\\w\\w\\w', test1))\n",
    "print(re.findall('\\w\\w\\w\\w', test1))"
   ]
  },
  {
   "cell_type": "markdown",
   "metadata": {
    "slideshow": {
     "slide_type": "subslide"
    }
   },
   "source": [
    "对于字符类匹配哪些字符存在困惑的同学，可以通过以下的代码对于一定范围内的字符进行测试。"
   ]
  },
  {
   "cell_type": "code",
   "execution_count": 14,
   "metadata": {
    "slideshow": {
     "slide_type": "subslide"
    }
   },
   "outputs": [
    {
     "name": "stdout",
     "output_type": "stream",
     "text": [
      "9 '\\t' match\n",
      "10 '\\n' match\n",
      "11 '\\x0b' match\n",
      "12 '\\x0c' match\n",
      "13 '\\r' match\n",
      "28 '\\x1c' match\n",
      "29 '\\x1d' match\n",
      "30 '\\x1e' match\n",
      "31 '\\x1f' match\n",
      "32 ' ' match\n"
     ]
    }
   ],
   "source": [
    "pattern = '\\s'\n",
    "for i in range(128):\n",
    "    if re.match(pattern, chr(i)):\n",
    "        print(i,repr(chr(i)), 'match')"
   ]
  },
  {
   "cell_type": "markdown",
   "metadata": {
    "slideshow": {
     "slide_type": "slide"
    }
   },
   "source": [
    "### 匹配重复的模式\n",
    "\n",
    "<table>\n",
    "    <tr><td>后缀</td><td>含义</td> <td>&nbsp;</td> <td>后缀</td><td>含义</td></tr>\n",
    "    <tr><td>?</td><td>重复0次或1次</td> <td>&nbsp;</td> <td>{n}</td><td>重复n次</td></tr>\n",
    "    <tr><td>*</td><td>重复0次或多次</td> <td>&nbsp;</td> <td>{n,}</td><td>重复n次或以上</td></tr>\n",
    "    <tr><td>+</td><td>重复1次或多次</td> <td>&nbsp;</td> <td>{,m}</td><td>重复m次或以下</td></tr>\n",
    "    <tr> <td>&nbsp;</td><td>&nbsp;</td> <td>&nbsp;</td> <td>{n,m}</td><td>重复至少n次，至多m次</td></tr>\n",
    "\n",
    "</table>"
   ]
  },
  {
   "cell_type": "markdown",
   "metadata": {
    "slideshow": {
     "slide_type": "subslide"
    }
   },
   "source": [
    "重复模式举例\n",
    "<table>\n",
    "    <tr><td>三位数字</td><td>'\\d{3}'</td></tr>\n",
    "    <tr><td>三位数</td><td>'[1-9]\\d{2}'</td></tr>\n",
    "    <tr><td>时间</td><td>'\\d{2}:\\d{2}:\\d{2}'</td></tr>\n",
    "    <tr><td>日期</td><td>'\\d{4}-\\d{2}-\\d{2}'</td></tr>\n",
    "    <tr><td>邮政编码</td><td>'\\d{6}'</td></tr>\n",
    "</table>"
   ]
  },
  {
   "cell_type": "code",
   "execution_count": 15,
   "metadata": {
    "slideshow": {
     "slide_type": "subslide"
    }
   },
   "outputs": [
    {
     "name": "stdout",
     "output_type": "stream",
     "text": [
      "['fox', 'foo ', 'food']\n"
     ]
    }
   ],
   "source": [
    "# 查找以f开头，后面跟随多个o,最后以一个非o字母结束的模式\n",
    "# 注意匹配的并不是单词\n",
    "print(re.findall('fo+[^o]', 'fox   foo find food fun'))"
   ]
  },
  {
   "cell_type": "code",
   "execution_count": 16,
   "metadata": {
    "slideshow": {
     "slide_type": "fragment"
    }
   },
   "outputs": [
    {
     "name": "stdout",
     "output_type": "stream",
     "text": [
      "['<1>', '<h4>', '<title>']\n"
     ]
    }
   ],
   "source": [
    "# （1）匹配一个非空<x>标签，标签名不知\n",
    "# solved\n",
    "print(re.findall('<[^>]+>', '<1> <h4> <title> <>'))"
   ]
  },
  {
   "cell_type": "markdown",
   "metadata": {
    "slideshow": {
     "slide_type": "slide"
    }
   },
   "source": [
    "### 匹配边界\n",
    "\n",
    "| 边界符号 | 匹配边界 | 边界符号 | 匹配边界 |\n",
    "|--| -- | -- | --|\n",
    "| ^ | 行的开头 | $ | 行的结尾 | \n",
    "| \\b |单词边界  | \\B | 非单词边界  |\n",
    "| \\A | 字符串开头 | \\Z | 字符串结尾 |"
   ]
  },
  {
   "cell_type": "code",
   "execution_count": 17,
   "metadata": {
    "slideshow": {
     "slide_type": "subslide"
    }
   },
   "outputs": [
    {
     "name": "stdout",
     "output_type": "stream",
     "text": [
      "['The']\n",
      "['The', 'Brown', 'Fox', 'Jumps', 'Food']\n"
     ]
    }
   ],
   "source": [
    "print(re.findall('^[A-Z]\\w+', \"The \\nquick \\nBrown \\nfox \\nJumps for \\nFood\"))  # 默认单行模式\n",
    "print(re.findall('^[A-Z]\\w+', \"The \\nquick \\nBrown \\nFox \\nJumps for \\nFood\", re.M))"
   ]
  },
  {
   "cell_type": "code",
   "execution_count": 18,
   "metadata": {
    "slideshow": {
     "slide_type": "subslide"
    }
   },
   "outputs": [
    {
     "name": "stdout",
     "output_type": "stream",
     "text": [
      "illegal\n"
     ]
    }
   ],
   "source": [
    "# 应用：检测用户输入的用户名是否合法\n",
    "if re.match('^\\w{3,8}$', 'jackma  20'):  # 把空格去掉试试看\n",
    "    print('legal')\n",
    "else:\n",
    "    print('illegal')"
   ]
  },
  {
   "cell_type": "code",
   "execution_count": 19,
   "metadata": {
    "slideshow": {
     "slide_type": "subslide"
    }
   },
   "outputs": [
    {
     "name": "stdout",
     "output_type": "stream",
     "text": [
      "['this']\n"
     ]
    }
   ],
   "source": [
    "# （2）匹配以t开头但是第二个字母不是元音的词，词的长度为4\n",
    "# solved\n",
    "print(re.findall(r'\\bt[^aeiouy]\\w{2}\\b', 'take this talk stand treat strand'))"
   ]
  },
  {
   "cell_type": "code",
   "execution_count": 20,
   "metadata": {
    "slideshow": {
     "slide_type": "subslide"
    }
   },
   "outputs": [
    {
     "name": "stdout",
     "output_type": "stream",
     "text": [
      "['fox', 'for', 'food']\n"
     ]
    }
   ],
   "source": [
    "# 查找以f开头的词\n",
    "test2 = \"the quick brown fox jumps for food\"\n",
    "print(re.findall(r'\\bf\\w+\\b', test2))"
   ]
  },
  {
   "cell_type": "markdown",
   "metadata": {
    "slideshow": {
     "slide_type": "slide"
    }
   },
   "source": [
    "### 转义字符\n",
    "\n",
    "注意到方括号、句点和星号等符号都有特殊的含义，在正则表达式中需要匹配这些字符时，需要进行转义。需要进行转义的符号有：\n",
    "\n",
    "> . ^ $ * + ? { } [ ] ( ) \\ | \n"
   ]
  },
  {
   "cell_type": "code",
   "execution_count": 21,
   "metadata": {
    "slideshow": {
     "slide_type": "subslide"
    }
   },
   "outputs": [
    {
     "name": "stdout",
     "output_type": "stream",
     "text": [
      "[]\n",
      "['1+1']\n",
      "[]\n",
      "['x66']\n"
     ]
    }
   ],
   "source": [
    "print(re.findall('1+1', '1+1=2'))  # 特殊符号必须转义\n",
    "print(re.findall('1\\+1', '1+1=2'))\n",
    "print(re.findall('\\x66', 'x66=1')) # 不该转义的不能乱转\n",
    "print(re.findall('x66', 'x66=1'))"
   ]
  },
  {
   "cell_type": "code",
   "execution_count": 22,
   "metadata": {
    "slideshow": {
     "slide_type": "subslide"
    }
   },
   "outputs": [
    {
     "name": "stdout",
     "output_type": "stream",
     "text": [
      "['3.14']\n",
      "['3614']\n",
      "[]\n"
     ]
    }
   ],
   "source": [
    "print(re.findall('3.14', '3.1415926'))  # 目标是找什么？\n",
    "print(re.findall('3.14', '361415926'))\n",
    "print(re.findall('3\\.14', '361415926'))"
   ]
  },
  {
   "cell_type": "markdown",
   "metadata": {
    "slideshow": {
     "slide_type": "slide"
    }
   },
   "source": [
    "### 贪婪匹配 vs 懒惰匹配\n",
    "\n",
    "* 贪婪匹配方式\n",
    "\n",
    "默认情况下，正则表达式采用贪婪匹配方式。在前导字符后使用星号或加号时，匹配引擎总是尽可能多的重复前导字符。"
   ]
  },
  {
   "cell_type": "code",
   "execution_count": 23,
   "metadata": {
    "slideshow": {
     "slide_type": "subslide"
    }
   },
   "outputs": [
    {
     "data": {
      "text/plain": [
       "['<td>cell1</td><div>']"
      ]
     },
     "execution_count": 23,
     "metadata": {},
     "output_type": "execute_result"
    }
   ],
   "source": [
    "# 贪婪匹配\n",
    "re.findall('<.+>', '<td>cell1</td><div>')"
   ]
  },
  {
   "cell_type": "markdown",
   "metadata": {
    "slideshow": {
     "slide_type": "slide"
    }
   },
   "source": [
    "* 懒惰匹配方式\n",
    "\n",
    "在重复限定符后面加后缀?，正则表达式匹配引擎使用懒惰匹配方式，总是使用尽可能少的重复前导字符。"
   ]
  },
  {
   "cell_type": "code",
   "execution_count": 24,
   "metadata": {
    "slideshow": {
     "slide_type": "subslide"
    }
   },
   "outputs": [
    {
     "data": {
      "text/plain": [
       "['<td>', '</td>', '<div>']"
      ]
     },
     "execution_count": 24,
     "metadata": {},
     "output_type": "execute_result"
    }
   ],
   "source": [
    "# 懒惰匹配方式\n",
    "re.findall('<.+?>', '<td>cell1</td><div>')"
   ]
  },
  {
   "cell_type": "markdown",
   "metadata": {
    "slideshow": {
     "slide_type": "subslide"
    }
   },
   "source": [
    "懒惰匹配方式用于标签识别和标签提取时特别有用。因为一般标记语言的标签不允许使用小于号和大于号进行嵌套。\n",
    "\n",
    "以下模式也可以用于标签提取，但不等价于懒惰匹配方式。"
   ]
  },
  {
   "cell_type": "code",
   "execution_count": 25,
   "metadata": {
    "slideshow": {
     "slide_type": "fragment"
    }
   },
   "outputs": [
    {
     "data": {
      "text/plain": [
       "['<td>', '</td>', '<div>']"
      ]
     },
     "execution_count": 25,
     "metadata": {},
     "output_type": "execute_result"
    }
   ],
   "source": [
    "re.findall('<[^>]+>', '<td>cell1</td><div>')"
   ]
  },
  {
   "cell_type": "code",
   "execution_count": 26,
   "metadata": {
    "slideshow": {
     "slide_type": "subslide"
    }
   },
   "outputs": [
    {
     "data": {
      "text/plain": [
       "['<td>cell1</td><div>']"
      ]
     },
     "execution_count": 26,
     "metadata": {},
     "output_type": "execute_result"
    }
   ],
   "source": [
    "re.findall('<.+?>$', '<td>cell1</td><div>')"
   ]
  },
  {
   "cell_type": "code",
   "execution_count": 27,
   "metadata": {
    "slideshow": {
     "slide_type": "fragment"
    }
   },
   "outputs": [
    {
     "data": {
      "text/plain": [
       "['<div>']"
      ]
     },
     "execution_count": 27,
     "metadata": {},
     "output_type": "execute_result"
    }
   ],
   "source": [
    "re.findall('<[^>]+>$', '<td>cell1</td><div>')  # 注意两者之间的差别"
   ]
  },
  {
   "cell_type": "markdown",
   "metadata": {
    "slideshow": {
     "slide_type": "slide"
    }
   },
   "source": [
    "### 分组与引用\n",
    "\n",
    "* 分组：使用圆括号指定多个字符，形成一个字符块（组），以便于重复组或提取相关信息。\n",
    "\n",
    "* 引用：在正则表达式中，引用之前得到的匹配结果。\n"
   ]
  },
  {
   "cell_type": "code",
   "execution_count": 28,
   "metadata": {
    "slideshow": {
     "slide_type": "subslide"
    }
   },
   "outputs": [
    {
     "data": {
      "text/plain": [
       "['red']"
      ]
     },
     "execution_count": 28,
     "metadata": {},
     "output_type": "execute_result"
    }
   ],
   "source": [
    "re.findall('color:(red|blue|green)', 'color:red')"
   ]
  },
  {
   "cell_type": "code",
   "execution_count": 29,
   "metadata": {
    "slideshow": {
     "slide_type": "fragment"
    }
   },
   "outputs": [
    {
     "data": {
      "text/plain": [
       "[('color:red', 'red')]"
      ]
     },
     "execution_count": 29,
     "metadata": {},
     "output_type": "execute_result"
    }
   ],
   "source": [
    "re.findall('(color:(red|blue|green))', 'color:red')  # 整个正则表达式都在圆括号中"
   ]
  },
  {
   "cell_type": "markdown",
   "metadata": {
    "slideshow": {
     "slide_type": "subslide"
    }
   },
   "source": [
    "当使用了分组方式后，系统自动将所有匹配的组按顺序编号，存入缓存。第一个匹配的分组编号为1，第二个分组编号为2，以此类推。分组的顺序依据圆括号的起点计算。\n",
    "\n",
    "若整个正则表达式并不在圆括号中，则其对应于组号为0.\n",
    "\n",
    "此时，findall返回的是所有的分组(1~n)匹配结果。"
   ]
  },
  {
   "cell_type": "code",
   "execution_count": 30,
   "metadata": {
    "slideshow": {
     "slide_type": "subslide"
    }
   },
   "outputs": [
    {
     "data": {
      "text/plain": [
       "[('2020', '11', '20')]"
      ]
     },
     "execution_count": 30,
     "metadata": {},
     "output_type": "execute_result"
    }
   ],
   "source": [
    "re.findall('(\\d{4})-(\\d{2})-(\\d{2})', '2020-11-20')"
   ]
  },
  {
   "cell_type": "code",
   "execution_count": 31,
   "metadata": {
    "slideshow": {
     "slide_type": "fragment"
    }
   },
   "outputs": [
    {
     "data": {
      "text/plain": [
       "[('2020-11-20', '2020', '11', '20')]"
      ]
     },
     "execution_count": 31,
     "metadata": {},
     "output_type": "execute_result"
    }
   ],
   "source": [
    "re.findall('((\\d{4})-(\\d{2})-(\\d{2}))', '2020-11-20')  # 整个正则表达式都在圆括号中"
   ]
  },
  {
   "cell_type": "markdown",
   "metadata": {
    "slideshow": {
     "slide_type": "subslide"
    }
   },
   "source": [
    "* 向后引用\n",
    "\n",
    "比如日期的模式，mm/dd/yyyy, dd/mm/yyyy, yyyy-mm-dd, yyyy.mm.dd\n",
    "\n",
    "分隔符可以是/或连字符或句点，但中间的分隔符必须一致。这就需要使用引用。"
   ]
  },
  {
   "cell_type": "code",
   "execution_count": 32,
   "metadata": {
    "scrolled": true,
    "slideshow": {
     "slide_type": "fragment"
    }
   },
   "outputs": [
    {
     "data": {
      "text/plain": [
       "[('2020-11-20', '-'), ('2020.11.20', '.')]"
      ]
     },
     "execution_count": 32,
     "metadata": {},
     "output_type": "execute_result"
    }
   ],
   "source": [
    "re.findall(r'(\\d{4}([\\/\\-\\.])\\d{1,2}\\2\\d{1,2})', '2020-11-20, 2020.11.20, 2020.11/20')"
   ]
  },
  {
   "cell_type": "markdown",
   "metadata": {
    "slideshow": {
     "slide_type": "slide"
    }
   },
   "source": [
    "### 匹配选项\n",
    "\n",
    "* re.A, 使得`\\w`等模式只匹配ASCII码字符\n",
    "* re.I，忽略大小写\n",
    "* re.M，多行模式，字符串视为多行\n",
    "* re.S，单行模式，句点可以匹配换行符"
   ]
  },
  {
   "cell_type": "code",
   "execution_count": 33,
   "metadata": {
    "slideshow": {
     "slide_type": "subslide"
    }
   },
   "outputs": [
    {
     "name": "stdout",
     "output_type": "stream",
     "text": [
      "['The', 'Brown', 'Fox', 'Jumps', 'Food']\n"
     ]
    }
   ],
   "source": [
    "print(re.findall('^[A-Z]\\w+', \"The \\nquick \\nBrown \\nFox \\nJumps for \\nFood\", re.M))"
   ]
  },
  {
   "cell_type": "code",
   "execution_count": 34,
   "metadata": {
    "slideshow": {
     "slide_type": "subslide"
    }
   },
   "outputs": [
    {
     "name": "stdout",
     "output_type": "stream",
     "text": [
      "['The \\nquic', 'Brown \\nFo', 'Jumps for']\n",
      "['Jumps for']\n"
     ]
    }
   ],
   "source": [
    "print(re.findall('[A-Z].{8}', \"The \\nquick \\nBrown \\nFox \\nJumps for \\nFood\", re.S))  # 换行符可以用.匹配\n",
    "print(re.findall('[A-Z].{8}', \"The \\nquick \\nBrown \\nFox \\nJumps for \\nFood\", re.M))"
   ]
  },
  {
   "cell_type": "code",
   "execution_count": 35,
   "metadata": {
    "slideshow": {
     "slide_type": "subslide"
    }
   },
   "outputs": [
    {
     "name": "stdout",
     "output_type": "stream",
     "text": [
      "yes\n"
     ]
    }
   ],
   "source": [
    "# 应用：匹配用户的应答是否为yes\n",
    "answer = 'Yes'\n",
    "if re.match('^yes$', answer, re.I):\n",
    "    print('yes')\n",
    "else:\n",
    "    print('no')"
   ]
  },
  {
   "cell_type": "markdown",
   "metadata": {
    "slideshow": {
     "slide_type": "slide"
    }
   },
   "source": [
    "## 正则表达式操作\n",
    "\n",
    "* 搜索与匹配函数\n",
    "* 正则表达式编译对象\n",
    "* Match对象"
   ]
  },
  {
   "cell_type": "markdown",
   "metadata": {
    "slideshow": {
     "slide_type": "subslide"
    }
   },
   "source": [
    "### 搜索与匹配函数\n",
    "\n",
    "这些函数有match, search, findall, finditer等，函数签名相似\n",
    "\n",
    "```\n",
    "  re.search(pattern, string, flags=0)\n",
    "```"
   ]
  },
  {
   "cell_type": "code",
   "execution_count": 36,
   "metadata": {
    "slideshow": {
     "slide_type": "subslide"
    }
   },
   "outputs": [
    {
     "data": {
      "text/plain": [
       "<_sre.SRE_Match object; span=(0, 3), match='Yes'>"
      ]
     },
     "execution_count": 36,
     "metadata": {},
     "output_type": "execute_result"
    }
   ],
   "source": [
    "m = re.match('yes', 'Yes', re.I)\n",
    "m"
   ]
  },
  {
   "cell_type": "code",
   "execution_count": 37,
   "metadata": {
    "slideshow": {
     "slide_type": "subslide"
    }
   },
   "outputs": [
    {
     "name": "stdout",
     "output_type": "stream",
     "text": [
      "None\n",
      "<_sre.SRE_Match object; span=(8, 10), match='to'>\n"
     ]
    }
   ],
   "source": [
    "print(re.match('to', 'we have to be'))\n",
    "print(re.search('to', 'we have to be'))"
   ]
  },
  {
   "cell_type": "code",
   "execution_count": 38,
   "metadata": {
    "slideshow": {
     "slide_type": "subslide"
    }
   },
   "outputs": [
    {
     "name": "stdout",
     "output_type": "stream",
     "text": [
      "<_sre.SRE_Match object; span=(0, 10), match='2020-11-20'>\n",
      "<_sre.SRE_Match object; span=(12, 22), match='2020.11.20'>\n"
     ]
    }
   ],
   "source": [
    "for i in re.finditer(r'(\\d{4}([\\/\\-\\.])\\d{1,2}\\2\\d{1,2})', '2020-11-20, 2020.11.20, 2020.11/20'):\n",
    "    print(i)"
   ]
  },
  {
   "cell_type": "markdown",
   "metadata": {
    "slideshow": {
     "slide_type": "subslide"
    }
   },
   "source": [
    "#### 小结\n",
    "\n",
    "* re.match或re.search, 若匹配，返回Match对象，否则返回None\n",
    "  - re.match，从开头开始匹配\n",
    "  - re.search，从任意位置开始匹配\n",
    "\n",
    "* re.findall, 返回（分组）匹配结果列表\n",
    "\n",
    "* re.finditer，返回所有匹配结果的迭代器"
   ]
  },
  {
   "cell_type": "markdown",
   "metadata": {
    "slideshow": {
     "slide_type": "slide"
    }
   },
   "source": [
    "### 正则表达式编译对象\n",
    "\n",
    "使用re.compile可以将正则表达式编译为正则表达式对象，提高匹配的效率。\n",
    "\n",
    "```\n",
    "re.compile(pattern, flag=0)\n",
    "```"
   ]
  },
  {
   "cell_type": "code",
   "execution_count": 39,
   "metadata": {
    "slideshow": {
     "slide_type": "subslide"
    }
   },
   "outputs": [
    {
     "data": {
      "text/plain": [
       "re.compile(r'<[^>]+>', re.UNICODE)"
      ]
     },
     "execution_count": 39,
     "metadata": {},
     "output_type": "execute_result"
    }
   ],
   "source": [
    "tag = re.compile('<[^>]+>')\n",
    "tag"
   ]
  },
  {
   "cell_type": "markdown",
   "metadata": {
    "slideshow": {
     "slide_type": "subslide"
    }
   },
   "source": [
    "正则表达式对象的方法search, match, findall, finditer等方法与re模块中的函数基本一致。"
   ]
  },
  {
   "cell_type": "code",
   "execution_count": 40,
   "metadata": {
    "slideshow": {
     "slide_type": "fragment"
    }
   },
   "outputs": [
    {
     "data": {
      "text/plain": [
       "['<head>', '<title>', '</title>', '</head>']"
      ]
     },
     "execution_count": 40,
     "metadata": {},
     "output_type": "execute_result"
    }
   ],
   "source": [
    "tag.findall(\"<head> <title>first to go</title> </head>\")"
   ]
  },
  {
   "cell_type": "markdown",
   "metadata": {
    "slideshow": {
     "slide_type": "slide"
    }
   },
   "source": [
    "### Match对象\n",
    "\n",
    "使用match, search等方法会得到Match对象。Match对象的方法：\n",
    "* group 返回指定的组\n",
    "* groups 返回所有组\n",
    "* start 返回匹配组的开始位置\n",
    "* end 返回匹配组的结束位置\n",
    "* span 返回匹配组的位置范围"
   ]
  },
  {
   "cell_type": "code",
   "execution_count": 41,
   "metadata": {
    "slideshow": {
     "slide_type": "subslide"
    }
   },
   "outputs": [
    {
     "data": {
      "text/plain": [
       "()"
      ]
     },
     "execution_count": 41,
     "metadata": {},
     "output_type": "execute_result"
    }
   ],
   "source": [
    "tag = re.compile('<[^>]+>')\n",
    "m = tag.search(\"<head> <title>first to go</title> </head>\")\n",
    "m.groups()"
   ]
  },
  {
   "cell_type": "code",
   "execution_count": 42,
   "metadata": {
    "slideshow": {
     "slide_type": "fragment"
    }
   },
   "outputs": [
    {
     "data": {
      "text/plain": [
       "('<head>', 'head')"
      ]
     },
     "execution_count": 42,
     "metadata": {},
     "output_type": "execute_result"
    }
   ],
   "source": [
    "tag2 = re.compile('(<([^>]+)>)')\n",
    "m2 = tag2.search(\"<head> <title>first to go</title> </head>\")\n",
    "m2.groups()"
   ]
  },
  {
   "cell_type": "markdown",
   "metadata": {
    "slideshow": {
     "slide_type": "slide"
    }
   },
   "source": [
    "### 匹配和替换\n",
    "\n",
    "re.sub可以用指定内容替换指定模式。\n",
    "```\n",
    "  re.sub(pattern, repl, string, count, flags=0)\n",
    "```"
   ]
  },
  {
   "cell_type": "code",
   "execution_count": 43,
   "metadata": {
    "slideshow": {
     "slide_type": "subslide"
    }
   },
   "outputs": [
    {
     "data": {
      "text/plain": [
       "'the cat chases a cat'"
      ]
     },
     "execution_count": 43,
     "metadata": {},
     "output_type": "execute_result"
    }
   ],
   "source": [
    "re.sub('dog','cat','the dog chases a cat')"
   ]
  },
  {
   "cell_type": "markdown",
   "metadata": {
    "slideshow": {
     "slide_type": "slide"
    }
   },
   "source": [
    "### 模式字符串的常见错误\n",
    "\n",
    "研究一下下面的例子，为何不匹配？"
   ]
  },
  {
   "cell_type": "code",
   "execution_count": 44,
   "metadata": {
    "slideshow": {
     "slide_type": "fragment"
    }
   },
   "outputs": [
    {
     "name": "stdout",
     "output_type": "stream",
     "text": [
      "[]\n"
     ]
    }
   ],
   "source": [
    "print(re.findall('\\bbeginning', 'this is not the beginning'))"
   ]
  },
  {
   "cell_type": "code",
   "execution_count": 45,
   "metadata": {
    "slideshow": {
     "slide_type": "subslide"
    }
   },
   "outputs": [
    {
     "name": "stdout",
     "output_type": "stream",
     "text": [
      "[]\n"
     ]
    }
   ],
   "source": [
    "print(re.findall('\\\\n', \"the end\\\\n\"))  # why? 猜猜看"
   ]
  },
  {
   "cell_type": "markdown",
   "metadata": {
    "slideshow": {
     "slide_type": "subslide"
    }
   },
   "source": [
    "`'\\b'` 既能在模式表达式里代表单词边界，同时又是一个转义字符backspace.\n",
    "\n",
    "`'\\\\n'` 有两个反斜杠，需要对每个反斜杠进行转义。\n",
    "\n",
    "有两种办法可以解决，将模式中的\n",
    "  - （1）转义字符前的反斜杠进行转义，\n",
    "  - （2）使用前缀r''，代表模式为原生字符串，不需要转义。"
   ]
  },
  {
   "cell_type": "code",
   "execution_count": 46,
   "metadata": {
    "slideshow": {
     "slide_type": "subslide"
    }
   },
   "outputs": [
    {
     "name": "stdout",
     "output_type": "stream",
     "text": [
      "['beginning']\n",
      "['beginning']\n"
     ]
    }
   ],
   "source": [
    "# solution\n",
    "print(re.findall('\\\\bbeginning', 'this is not the beginning'))\n",
    "print(re.findall(r'\\bbeginning', 'this is not the beginning'))"
   ]
  },
  {
   "cell_type": "code",
   "execution_count": 47,
   "metadata": {
    "slideshow": {
     "slide_type": "subslide"
    }
   },
   "outputs": [
    {
     "name": "stdout",
     "output_type": "stream",
     "text": [
      "['\\\\n']\n",
      "['\\\\n']\n"
     ]
    }
   ],
   "source": [
    "# solution\n",
    "print(re.findall('\\\\\\\\n', \"the end\\\\n\"))\n",
    "print(re.findall(r'\\\\n', \"the end\\\\n\"))"
   ]
  },
  {
   "cell_type": "markdown",
   "metadata": {
    "slideshow": {
     "slide_type": "slide"
    }
   },
   "source": [
    "### 细节问题\n",
    "`'\\b'`指单词边界，含义为字母字符和非字母字符的边界\n",
    "\n",
    "不能简单的将`'\\b.+\\b]'`中的边界理解为单词的左边界和右边界。\n",
    "\n",
    "不能保证这样的模式恰好匹配一个单词。看下面的例子:"
   ]
  },
  {
   "cell_type": "code",
   "execution_count": 48,
   "metadata": {
    "slideshow": {
     "slide_type": "subslide"
    }
   },
   "outputs": [
    {
     "name": "stdout",
     "output_type": "stream",
     "text": [
      "['t1,', 't11']\n"
     ]
    }
   ],
   "source": [
    "print(re.findall(r'\\bt.{2}\\b', 't1,2 t11,2'))"
   ]
  },
  {
   "cell_type": "code",
   "execution_count": 49,
   "metadata": {
    "scrolled": false,
    "slideshow": {
     "slide_type": "fragment"
    }
   },
   "outputs": [
    {
     "name": "stdout",
     "output_type": "stream",
     "text": [
      "['t1,2 t11,2']\n"
     ]
    }
   ],
   "source": [
    "print(re.findall(r'\\bt.+\\b', 't1,2 t11,2'))"
   ]
  },
  {
   "cell_type": "markdown",
   "metadata": {
    "slideshow": {
     "slide_type": "subslide"
    }
   },
   "source": []
  }
 ],
 "metadata": {
  "anaconda-cloud": {},
  "celltoolbar": "Slideshow",
  "kernelspec": {
   "display_name": "Python 3",
   "language": "python",
   "name": "python3"
  },
  "language_info": {
   "codemirror_mode": {
    "name": "ipython",
    "version": 3
   },
   "file_extension": ".py",
   "mimetype": "text/x-python",
   "name": "python",
   "nbconvert_exporter": "python",
   "pygments_lexer": "ipython3",
   "version": "3.7.3"
  }
 },
 "nbformat": 4,
 "nbformat_minor": 2
}
