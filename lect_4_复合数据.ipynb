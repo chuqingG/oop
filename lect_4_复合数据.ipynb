{
 "cells": [
  {
   "cell_type": "markdown",
   "metadata": {
    "slideshow": {
     "slide_type": "slide"
    }
   },
   "source": [
    "# 复合数据类型\n",
    "\n",
    "* 列表\n",
    "* 元组\n",
    "* 字典\n",
    "* 集合"
   ]
  },
  {
   "cell_type": "markdown",
   "metadata": {
    "slideshow": {
     "slide_type": "slide"
    }
   },
   "source": [
    "## 列表\n",
    "\n",
    "* 构建列表\n",
    "* 访问列表元素\n",
    "* 列表切片\n",
    "* 修改列表元素\n",
    "* 列表遍历\n",
    "* 列表解析表达式\n",
    "* 列表的特性"
   ]
  },
  {
   "cell_type": "markdown",
   "metadata": {
    "slideshow": {
     "slide_type": "subslide"
    }
   },
   "source": [
    "列表的操作灵活，用途广泛，是我们学习的重点。\n",
    "\n",
    "学习要点：\n",
    "* 如何访问列表元素\n",
    "* 如何对列表元素进行各种操作"
   ]
  },
  {
   "cell_type": "markdown",
   "metadata": {
    "slideshow": {
     "slide_type": "slide"
    }
   },
   "source": [
    "### 列表的构建\n",
    "\n",
    "* 列表用于处理一系列数据，列表的元素可以修改。\n",
    "* 列表使用方括号'['和']'作为定界符。\n",
    "* list函数可以将一个对象强制转换为列表。"
   ]
  },
  {
   "cell_type": "code",
   "execution_count": 1,
   "metadata": {
    "slideshow": {
     "slide_type": "subslide"
    }
   },
   "outputs": [
    {
     "data": {
      "text/plain": [
       "(list, list, list)"
      ]
     },
     "execution_count": 1,
     "metadata": {},
     "output_type": "execute_result"
    }
   ],
   "source": [
    "l1 = [1,2,3,4,5]; l2=[]; l3=['1','2','3'] # 列表元素可以是任何对象\n",
    "type(l1),type(l2),type(l3)"
   ]
  },
  {
   "cell_type": "code",
   "execution_count": 2,
   "metadata": {
    "slideshow": {
     "slide_type": "subslide"
    }
   },
   "outputs": [
    {
     "data": {
      "text/plain": [
       "list"
      ]
     },
     "execution_count": 2,
     "metadata": {},
     "output_type": "execute_result"
    }
   ],
   "source": [
    "l4=[1,'a',2,'b',3,'c'] # 列表元素不要求相同类型\n",
    "type(l4)"
   ]
  },
  {
   "cell_type": "code",
   "execution_count": 3,
   "metadata": {
    "slideshow": {
     "slide_type": "subslide"
    }
   },
   "outputs": [
    {
     "data": {
      "text/plain": [
       "list"
      ]
     },
     "execution_count": 3,
     "metadata": {},
     "output_type": "execute_result"
    }
   ],
   "source": [
    "l5=[l1,l2,l3,l4] # 列表元素不要求相同长度\n",
    "type(l5)"
   ]
  },
  {
   "cell_type": "code",
   "execution_count": 4,
   "metadata": {
    "slideshow": {
     "slide_type": "subslide"
    }
   },
   "outputs": [
    {
     "name": "stdout",
     "output_type": "stream",
     "text": [
      "[[1, 2, 3, 4, 5], [], ['1', '2', '3'], [1, 'a', 2, 'b', 3, 'c']]\n"
     ]
    }
   ],
   "source": [
    "print(l5)  # 可以看到l5是多个列表构成的列表"
   ]
  },
  {
   "cell_type": "code",
   "execution_count": 5,
   "metadata": {
    "slideshow": {
     "slide_type": "subslide"
    }
   },
   "outputs": [
    {
     "data": {
      "text/plain": [
       "([], ['3', '.', '1', '4', '1', '5', '9', '2', '6'])"
      ]
     },
     "execution_count": 5,
     "metadata": {},
     "output_type": "execute_result"
    }
   ],
   "source": [
    "l6 = list()  # 空列表\n",
    "l7 = list('3.1415926') # 将字符串转换为列表\n",
    "l6,l7"
   ]
  },
  {
   "cell_type": "markdown",
   "metadata": {
    "slideshow": {
     "slide_type": "slide"
    }
   },
   "source": [
    "## 列表的属性\n",
    "\n",
    "列表的属性可以通过一系列内置函数来获取。\n",
    "\n",
    "这些属性包括列表长度、最大值、最小值、和、是否全为True或部分为True等等。"
   ]
  },
  {
   "cell_type": "code",
   "execution_count": 6,
   "metadata": {
    "slideshow": {
     "slide_type": "subslide"
    }
   },
   "outputs": [
    {
     "data": {
      "text/plain": [
       "(5, 0, 4)"
      ]
     },
     "execution_count": 6,
     "metadata": {},
     "output_type": "execute_result"
    }
   ],
   "source": [
    "len(l1), len(l2), len(l5)  # 获取列表长度，注意列表长度指的是顶层元素的个数"
   ]
  },
  {
   "cell_type": "code",
   "execution_count": 7,
   "metadata": {
    "slideshow": {
     "slide_type": "subslide"
    }
   },
   "outputs": [
    {
     "data": {
      "text/plain": [
       "(5, '3')"
      ]
     },
     "execution_count": 7,
     "metadata": {},
     "output_type": "execute_result"
    }
   ],
   "source": [
    "#print(max(l4))  # 使用max和min函数时，需要注意列表元素之间必须可比较\n",
    "max(l1), max(l3) "
   ]
  },
  {
   "cell_type": "code",
   "execution_count": 8,
   "metadata": {
    "slideshow": {
     "slide_type": "subslide"
    }
   },
   "outputs": [
    {
     "data": {
      "text/plain": [
       "('.', '9')"
      ]
     },
     "execution_count": 8,
     "metadata": {},
     "output_type": "execute_result"
    }
   ],
   "source": [
    "min(l7), max(l7)  # 注意列表的最小元素并不是'1'"
   ]
  },
  {
   "cell_type": "code",
   "execution_count": 2,
   "metadata": {
    "slideshow": {
     "slide_type": "subslide"
    }
   },
   "outputs": [
    {
     "data": {
      "text/plain": [
       "[6]"
      ]
     },
     "execution_count": 2,
     "metadata": {},
     "output_type": "execute_result"
    }
   ],
   "source": [
    "max([1, 2, 3, 9], [4, 5, 8], [6])  # 对于嵌套列表的max值并非是简单的数值比较 比较的是第一个元素的大小"
   ]
  },
  {
   "cell_type": "code",
   "execution_count": 10,
   "metadata": {
    "slideshow": {
     "slide_type": "subslide"
    }
   },
   "outputs": [
    {
     "data": {
      "text/plain": [
       "15"
      ]
     },
     "execution_count": 10,
     "metadata": {},
     "output_type": "execute_result"
    }
   ],
   "source": [
    "sum(l1)  # sum只能用于求算术和，如果有其他类型元素可能导致TypeError"
   ]
  },
  {
   "cell_type": "code",
   "execution_count": 11,
   "metadata": {
    "slideshow": {
     "slide_type": "subslide"
    }
   },
   "outputs": [
    {
     "name": "stdout",
     "output_type": "stream",
     "text": [
      "[True, True, True, False]\n"
     ]
    },
    {
     "data": {
      "text/plain": [
       "(False, True)"
      ]
     },
     "execution_count": 11,
     "metadata": {},
     "output_type": "execute_result"
    }
   ],
   "source": [
    "l6 = [1 < 2, 3 < 4, 5 < 8, 9 > 10]\n",
    "print(l6)\n",
    "all(l6), any(l6)"
   ]
  },
  {
   "cell_type": "code",
   "execution_count": 12,
   "metadata": {
    "slideshow": {
     "slide_type": "subslide"
    }
   },
   "outputs": [
    {
     "name": "stdout",
     "output_type": "stream",
     "text": [
      "[1, 'a', 2, 'b', 3, 'c']\n",
      "[[1, 2, 3, 4, 5], [], ['1', '2', '3'], [1, 'a', 2, 'b', 3, 'c']]\n"
     ]
    },
    {
     "data": {
      "text/plain": [
       "(True, False)"
      ]
     },
     "execution_count": 12,
     "metadata": {},
     "output_type": "execute_result"
    }
   ],
   "source": [
    "print(l4)\n",
    "print(l5)\n",
    "all(l4), all(l5)"
   ]
  },
  {
   "cell_type": "markdown",
   "metadata": {
    "slideshow": {
     "slide_type": "subslide"
    }
   },
   "source": [
    "练习：\n",
    "* 已知数值列表，如何判断列表元素是否都大于5？\n",
    "* 已知字符串列表，如何判断列表中有一个以字母‘a’结尾？"
   ]
  },
  {
   "cell_type": "code",
   "execution_count": 13,
   "metadata": {
    "slideshow": {
     "slide_type": "subslide"
    }
   },
   "outputs": [
    {
     "name": "stdout",
     "output_type": "stream",
     "text": [
      "False\n"
     ]
    }
   ],
   "source": [
    "x1 = [2, 3, 5, 7, 9, 6]\n",
    "result = True\n",
    "for i in x1:\n",
    "    if i<= 5:\n",
    "        result = False\n",
    "        break\n",
    "print(result)"
   ]
  },
  {
   "cell_type": "code",
   "execution_count": 14,
   "metadata": {
    "slideshow": {
     "slide_type": "subslide"
    }
   },
   "outputs": [
    {
     "name": "stdout",
     "output_type": "stream",
     "text": [
      "True\n"
     ]
    }
   ],
   "source": [
    "x2 = ['Emma', 'Emily', 'Anna', 'Alice']\n",
    "result = False\n",
    "for i in x2:\n",
    "    if i[-1] == 'a':\n",
    "        result = True\n",
    "        break\n",
    "print(result)"
   ]
  },
  {
   "cell_type": "markdown",
   "metadata": {
    "slideshow": {
     "slide_type": "subslide"
    }
   },
   "source": [
    "有没有更简洁的办法来完成这样的任务呢？"
   ]
  },
  {
   "cell_type": "code",
   "execution_count": 4,
   "metadata": {},
   "outputs": [
    {
     "data": {
      "text/plain": [
       "False"
      ]
     },
     "execution_count": 4,
     "metadata": {},
     "output_type": "execute_result"
    }
   ],
   "source": [
    "x1 = [2,3,5,7,9,6]\n",
    "all(i>=5 for i in x1)"
   ]
  },
  {
   "cell_type": "code",
   "execution_count": 5,
   "metadata": {},
   "outputs": [
    {
     "data": {
      "text/plain": [
       "True"
      ]
     },
     "execution_count": 5,
     "metadata": {},
     "output_type": "execute_result"
    }
   ],
   "source": [
    "x2 = ['Emma', 'Emily', 'Anna', 'Alice']\n",
    "any(i[-1]=='a' for i in x2)"
   ]
  },
  {
   "cell_type": "markdown",
   "metadata": {
    "slideshow": {
     "slide_type": "slide"
    }
   },
   "source": [
    "### 列表元素的访问\n",
    "\n",
    "* 列表的元素使用对应的下标访问。\n",
    "* 列表下标需要置于方括号中。\n",
    "* 列表下标从0开始\n",
    "* 若访问下标超过列表范围，则报错 'index out of range'"
   ]
  },
  {
   "cell_type": "code",
   "execution_count": 15,
   "metadata": {
    "slideshow": {
     "slide_type": "subslide"
    }
   },
   "outputs": [
    {
     "data": {
      "text/plain": [
       "('2', '1')"
      ]
     },
     "execution_count": 15,
     "metadata": {},
     "output_type": "execute_result"
    }
   ],
   "source": [
    "l8 = list('2.71828')\n",
    "l8[0],l8[3]"
   ]
  },
  {
   "cell_type": "markdown",
   "metadata": {
    "slideshow": {
     "slide_type": "subslide"
    }
   },
   "source": [
    "列表下标可以是负数。猜猜看，下标[-1]的含义是什么？"
   ]
  },
  {
   "cell_type": "code",
   "execution_count": 16,
   "metadata": {
    "slideshow": {
     "slide_type": "subslide"
    }
   },
   "outputs": [
    {
     "data": {
      "text/plain": [
       "('8', '2')"
      ]
     },
     "execution_count": 16,
     "metadata": {},
     "output_type": "execute_result"
    }
   ],
   "source": [
    "l8[-1], l8[-2]"
   ]
  },
  {
   "cell_type": "code",
   "execution_count": 17,
   "metadata": {
    "slideshow": {
     "slide_type": "subslide"
    }
   },
   "outputs": [],
   "source": [
    "#l8[9]  # 下标越界 index out of range"
   ]
  },
  {
   "cell_type": "markdown",
   "metadata": {
    "slideshow": {
     "slide_type": "slide"
    }
   },
   "source": [
    "### 列表切片\n",
    "\n",
    "* 列表切片操作是从列表中选取若干元素。\n",
    "* 列表切片第一个冒号':'前后数值为指定下标范围\n",
    "* 若切片起始位置分别为i和j, 则实际切片包含i,不包含j.\n",
    "* 切片操作第二个冒号后的数值为切片步长"
   ]
  },
  {
   "cell_type": "code",
   "execution_count": 18,
   "metadata": {
    "slideshow": {
     "slide_type": "subslide"
    }
   },
   "outputs": [
    {
     "name": "stdout",
     "output_type": "stream",
     "text": [
      "['a', 'b', 'c', 'd', 'e', 'f', 'g', 'h', 'i', 'j', 'k', 'l', 'm', 'n', 'o', 'p', 'q', 'r', 's', 't', 'u', 'v', 'w', 'x', 'y', 'z']\n"
     ]
    },
    {
     "data": {
      "text/plain": [
       "(['a', 'b', 'c'], ['c', 'd', 'e'], ['s', 't', 'u', 'v', 'w', 'x', 'y', 'z'])"
      ]
     },
     "execution_count": 18,
     "metadata": {},
     "output_type": "execute_result"
    }
   ],
   "source": [
    "import string\n",
    "l9 = list(string.ascii_lowercase)\n",
    "print(l9)\n",
    "l9[:3],l9[2:5],l9[18:]"
   ]
  },
  {
   "cell_type": "markdown",
   "metadata": {
    "slideshow": {
     "slide_type": "subslide"
    }
   },
   "source": [
    "在切片中使用冒号时，若start缺省，则默认为列表头0，若end缺省，则默认为列表尾。若冒号前后的序号都缺省，则代表的范围是什么？"
   ]
  },
  {
   "cell_type": "code",
   "execution_count": 19,
   "metadata": {
    "slideshow": {
     "slide_type": "subslide"
    }
   },
   "outputs": [
    {
     "name": "stdout",
     "output_type": "stream",
     "text": [
      "['a', 'b', 'c', 'd', 'e', 'f', 'g', 'h', 'i', 'j', 'k', 'l', 'm', 'n', 'o', 'p', 'q', 'r', 's', 't', 'u', 'v', 'w', 'x', 'y', 'z']\n"
     ]
    }
   ],
   "source": [
    "print(l9[:])"
   ]
  },
  {
   "cell_type": "markdown",
   "metadata": {
    "slideshow": {
     "slide_type": "subslide"
    }
   },
   "source": [
    "使用切片操作时，默认步长为1。也可以指定步长为其他整数。"
   ]
  },
  {
   "cell_type": "code",
   "execution_count": 20,
   "metadata": {
    "slideshow": {
     "slide_type": "subslide"
    }
   },
   "outputs": [
    {
     "data": {
      "text/plain": [
       "(['a', 'c', 'e', 'g', 'i'], ['a', 'f', 'k', 'p', 'u', 'z'])"
      ]
     },
     "execution_count": 20,
     "metadata": {},
     "output_type": "execute_result"
    }
   ],
   "source": [
    "l9[:10:2], l9[::5]"
   ]
  },
  {
   "cell_type": "markdown",
   "metadata": {
    "slideshow": {
     "slide_type": "subslide"
    }
   },
   "source": [
    "列表切片也可以反向遍历。"
   ]
  },
  {
   "cell_type": "code",
   "execution_count": 21,
   "metadata": {
    "slideshow": {
     "slide_type": "subslide"
    }
   },
   "outputs": [
    {
     "data": {
      "text/plain": [
       "['g', 'f', 'e', 'd', 'c']"
      ]
     },
     "execution_count": 21,
     "metadata": {},
     "output_type": "execute_result"
    }
   ],
   "source": [
    "l9[6:1:-1]  # 注意切片的起始位置"
   ]
  },
  {
   "cell_type": "markdown",
   "metadata": {
    "slideshow": {
     "slide_type": "subslide"
    }
   },
   "source": [
    "如果我们要将当前的列表头尾反转，不使用函数，怎样处理比较便捷？"
   ]
  },
  {
   "cell_type": "code",
   "execution_count": 22,
   "metadata": {
    "slideshow": {
     "slide_type": "subslide"
    }
   },
   "outputs": [
    {
     "name": "stdout",
     "output_type": "stream",
     "text": [
      "['z', 'y', 'x', 'w', 'v', 'u', 't', 's', 'r', 'q', 'p', 'o', 'n', 'm', 'l', 'k', 'j', 'i', 'h', 'g', 'f', 'e', 'd', 'c', 'b', 'a']\n"
     ]
    }
   ],
   "source": [
    "print(l9[::-1])"
   ]
  },
  {
   "cell_type": "code",
   "execution_count": 23,
   "metadata": {
    "slideshow": {
     "slide_type": "subslide"
    }
   },
   "outputs": [
    {
     "data": {
      "text/plain": [
       "['u', 'v', 'w', 'x', 'y', 'z']"
      ]
     },
     "execution_count": 23,
     "metadata": {},
     "output_type": "execute_result"
    }
   ],
   "source": [
    "l9[20:50]  # 切片操作若起始位置超出下标范围，不会报错"
   ]
  },
  {
   "cell_type": "markdown",
   "metadata": {
    "slideshow": {
     "slide_type": "subslide"
    }
   },
   "source": [
    "练习：\n",
    "* 已知列表中存放了评委的评分（从低到高排序），舍弃一个最高分和一个最低分，求平均分。\n",
    "* 已知列表中存放了评委的评分（从低到高排序），舍弃两个最高分和两个最低分，求平均分。"
   ]
  },
  {
   "cell_type": "code",
   "execution_count": 11,
   "metadata": {
    "slideshow": {
     "slide_type": "subslide"
    }
   },
   "outputs": [
    {
     "name": "stdout",
     "output_type": "stream",
     "text": [
      "77.88888888888889\n",
      "78.14285714285714\n"
     ]
    }
   ],
   "source": [
    "scores = [65, 65, 68, 70, 75, 78, 80, 88, 88, 89, 95]\n",
    "print(sum(scores[1:-1])/len(scores[1:-1]))\n",
    "print(sum(scores[2:-2])/len(scores[2:-2]))"
   ]
  },
  {
   "cell_type": "markdown",
   "metadata": {
    "slideshow": {
     "slide_type": "slide"
    }
   },
   "source": [
    "## 列表连接和重复\n",
    "\n",
    "* 可以使用加号'+'将两个或多个列表连接成为更长的列表，此时加号为连接操作符。\n",
    "* 可以使用乘号'\\*'将列表进行重复，此时乘号为重复操作符。"
   ]
  },
  {
   "cell_type": "code",
   "execution_count": 25,
   "metadata": {
    "slideshow": {
     "slide_type": "subslide"
    }
   },
   "outputs": [
    {
     "data": {
      "text/plain": [
       "[1, 3, 4, 2, 5, 9]"
      ]
     },
     "execution_count": 25,
     "metadata": {},
     "output_type": "execute_result"
    }
   ],
   "source": [
    "[1, 3, 4] + [2, 5, 9]"
   ]
  },
  {
   "cell_type": "code",
   "execution_count": 26,
   "metadata": {
    "slideshow": {
     "slide_type": "subslide"
    }
   },
   "outputs": [
    {
     "data": {
      "text/plain": [
       "[1, 2, 3, 4, 5, 1, 2, 3, 4, 5]"
      ]
     },
     "execution_count": 26,
     "metadata": {},
     "output_type": "execute_result"
    }
   ],
   "source": [
    "l1*2"
   ]
  },
  {
   "cell_type": "markdown",
   "metadata": {
    "slideshow": {
     "slide_type": "slide"
    }
   },
   "source": [
    "## 列表的成员关系操作\n",
    "\n",
    "常用成员操作包括：判断元素是否在列表中，查找元素在列表中出现位置及次数。"
   ]
  },
  {
   "cell_type": "code",
   "execution_count": 27,
   "metadata": {
    "slideshow": {
     "slide_type": "subslide"
    }
   },
   "outputs": [
    {
     "name": "stdout",
     "output_type": "stream",
     "text": [
      "[1, 2, 3, 4, 5]\n",
      "['1', '2', '3']\n"
     ]
    },
    {
     "data": {
      "text/plain": [
       "(True, False)"
      ]
     },
     "execution_count": 27,
     "metadata": {},
     "output_type": "execute_result"
    }
   ],
   "source": [
    "print(l1); print(l3)\n",
    "1 in l1, 3 in l3"
   ]
  },
  {
   "cell_type": "code",
   "execution_count": 28,
   "metadata": {
    "slideshow": {
     "slide_type": "subslide"
    }
   },
   "outputs": [
    {
     "data": {
      "text/plain": [
       "(True, True)"
      ]
     },
     "execution_count": 28,
     "metadata": {},
     "output_type": "execute_result"
    }
   ],
   "source": [
    "6 not in l1, not 6 in l1"
   ]
  },
  {
   "cell_type": "code",
   "execution_count": 29,
   "metadata": {
    "slideshow": {
     "slide_type": "subslide"
    }
   },
   "outputs": [
    {
     "data": {
      "text/plain": [
       "(1, 2)"
      ]
     },
     "execution_count": 29,
     "metadata": {},
     "output_type": "execute_result"
    }
   ],
   "source": [
    "l1.count(3), l1.index(3)"
   ]
  },
  {
   "cell_type": "code",
   "execution_count": 30,
   "metadata": {
    "slideshow": {
     "slide_type": "subslide"
    }
   },
   "outputs": [],
   "source": [
    "#l3.index(3)  # 对于不在列表中的元素，使用index进行查询时会报ValueError"
   ]
  },
  {
   "cell_type": "code",
   "execution_count": 31,
   "metadata": {
    "slideshow": {
     "slide_type": "subslide"
    }
   },
   "outputs": [
    {
     "name": "stdout",
     "output_type": "stream",
     "text": [
      "['2', '.', '7', '1', '8', '2', '8']\n"
     ]
    },
    {
     "data": {
      "text/plain": [
       "4"
      ]
     },
     "execution_count": 31,
     "metadata": {},
     "output_type": "execute_result"
    }
   ],
   "source": [
    "print(l8)\n",
    "l8.index('8')  # index返回需要查找子串的第一次出现"
   ]
  },
  {
   "cell_type": "markdown",
   "metadata": {
    "slideshow": {
     "slide_type": "subslide"
    }
   },
   "source": [
    "练习：\n",
    "* 3的100次方中9出现了几次？\n",
    "* 5的100次方中第一次出现3是在第几位，最后一次出现3是在第几位？"
   ]
  },
  {
   "cell_type": "code",
   "execution_count": 2,
   "metadata": {},
   "outputs": [
    {
     "name": "stdout",
     "output_type": "stream",
     "text": [
      "3的100次方中9出现了1次\n",
      "5的100次方中第一次出现3在第39位\n",
      "5的100次方中最后一次出现3在第62位\n"
     ]
    }
   ],
   "source": [
    "num = 3**100\n",
    "l1 = list(str(num))\n",
    "print(\"3的100次方中9出现了%d次\" % l1.count('9'))\n",
    "\n",
    "num2 = 5**100\n",
    "l2 = list(str(num2))\n",
    "print(\"5的100次方中第一次出现3在第%d位\" % (l2.index('3')+1))\n",
    "print(\"5的100次方中最后一次出现3在第%d位\" % (len(l2) - l2[::-1].index('3')))"
   ]
  },
  {
   "cell_type": "code",
   "execution_count": 5,
   "metadata": {
    "slideshow": {
     "slide_type": "subslide"
    }
   },
   "outputs": [
    {
     "data": {
      "text/plain": [
       "['7',\n",
       " '8',\n",
       " '8',\n",
       " '8',\n",
       " '6',\n",
       " '0',\n",
       " '9',\n",
       " '0',\n",
       " '5',\n",
       " '2',\n",
       " '2',\n",
       " '1',\n",
       " '0',\n",
       " '1',\n",
       " '1',\n",
       " '8',\n",
       " '0',\n",
       " '5',\n",
       " '4',\n",
       " '1',\n",
       " '1',\n",
       " '7',\n",
       " '2',\n",
       " '8',\n",
       " '5',\n",
       " '6',\n",
       " '5',\n",
       " '2',\n",
       " '8',\n",
       " '2',\n",
       " '7',\n",
       " '8',\n",
       " '6',\n",
       " '2',\n",
       " '2',\n",
       " '9',\n",
       " '6',\n",
       " '7',\n",
       " '3',\n",
       " '2',\n",
       " '0',\n",
       " '6',\n",
       " '4',\n",
       " '3',\n",
       " '5',\n",
       " '1',\n",
       " '0',\n",
       " '9',\n",
       " '0',\n",
       " '2',\n",
       " '3',\n",
       " '0',\n",
       " '0',\n",
       " '4',\n",
       " '7',\n",
       " '7',\n",
       " '0',\n",
       " '2',\n",
       " '7',\n",
       " '8',\n",
       " '9',\n",
       " '3',\n",
       " '0',\n",
       " '6',\n",
       " '6',\n",
       " '4',\n",
       " '0',\n",
       " '6',\n",
       " '2',\n",
       " '5']"
      ]
     },
     "execution_count": 5,
     "metadata": {},
     "output_type": "execute_result"
    }
   ],
   "source": [
    "list(str(5**100))\n"
   ]
  },
  {
   "cell_type": "markdown",
   "metadata": {
    "slideshow": {
     "slide_type": "slide"
    }
   },
   "source": [
    "## 列表比较和排序\n",
    "\n",
    "列表比较运算按顺序逐个比较各个列表中的对应元素，若比较当前元素之后已经可以确定大小关系，则不再比较剩余元素。"
   ]
  },
  {
   "cell_type": "code",
   "execution_count": 33,
   "metadata": {
    "slideshow": {
     "slide_type": "subslide"
    }
   },
   "outputs": [
    {
     "data": {
      "text/plain": [
       "True"
      ]
     },
     "execution_count": 33,
     "metadata": {},
     "output_type": "execute_result"
    }
   ],
   "source": [
    "[1, 2, 3] < [2, 1]"
   ]
  },
  {
   "cell_type": "code",
   "execution_count": 34,
   "metadata": {
    "slideshow": {
     "slide_type": "subslide"
    }
   },
   "outputs": [
    {
     "data": {
      "text/plain": [
       "(True, True, True)"
      ]
     },
     "execution_count": 34,
     "metadata": {},
     "output_type": "execute_result"
    }
   ],
   "source": [
    "[ ] < [1], [ ] < [0], [ ] < [-1]"
   ]
  },
  {
   "cell_type": "code",
   "execution_count": 35,
   "metadata": {
    "slideshow": {
     "slide_type": "subslide"
    }
   },
   "outputs": [
    {
     "data": {
      "text/plain": [
       "True"
      ]
     },
     "execution_count": 35,
     "metadata": {},
     "output_type": "execute_result"
    }
   ],
   "source": [
    "[1, 2, -1] > [1, 2]"
   ]
  },
  {
   "cell_type": "markdown",
   "metadata": {
    "slideshow": {
     "slide_type": "subslide"
    }
   },
   "source": [
    "列表排序可以使用内置函数sorted实现。sorted函数的形式如下：\n",
    "\n",
    "**sorted(iterable, key = None, reverse = False)**  \n",
    "\n",
    "其中key表示排序关键值， reverse表示是否降序。默认按原值排序，升序排列。"
   ]
  },
  {
   "cell_type": "code",
   "execution_count": 36,
   "metadata": {
    "slideshow": {
     "slide_type": "subslide"
    }
   },
   "outputs": [
    {
     "name": "stdout",
     "output_type": "stream",
     "text": [
      "[52, 60, 72, 78, 80, 85, 88, 90]\n",
      "[78, 88, 60, 90, 52, 80, 72, 85]\n"
     ]
    }
   ],
   "source": [
    "exam = [78, 88, 60, 90, 52, 80, 72, 85]\n",
    "print(sorted(exam))  # 默认按原值升序排列\n",
    "print(exam)  # 原始列表未改变"
   ]
  },
  {
   "cell_type": "code",
   "execution_count": 37,
   "metadata": {
    "slideshow": {
     "slide_type": "subslide"
    }
   },
   "outputs": [
    {
     "name": "stdout",
     "output_type": "stream",
     "text": [
      "['2', '.', '7', '1', '8', '2', '8']\n",
      "['.', '1', '2', '2', '7', '8', '8']\n"
     ]
    }
   ],
   "source": [
    "l8 = list('2.71828')\n",
    "print(l8)\n",
    "print(sorted(l8))"
   ]
  },
  {
   "cell_type": "code",
   "execution_count": 38,
   "metadata": {
    "slideshow": {
     "slide_type": "subslide"
    }
   },
   "outputs": [
    {
     "name": "stdout",
     "output_type": "stream",
     "text": [
      "['8', '8', '7', '2', '2', '1', '.']\n"
     ]
    }
   ],
   "source": [
    "print(sorted(l8, reverse = True))"
   ]
  },
  {
   "cell_type": "code",
   "execution_count": 39,
   "metadata": {
    "slideshow": {
     "slide_type": "subslide"
    }
   },
   "outputs": [
    {
     "data": {
      "text/plain": [
       "['is', 'not', 'the', 'this', 'only', 'case', 'that']"
      ]
     },
     "execution_count": 39,
     "metadata": {},
     "output_type": "execute_result"
    }
   ],
   "source": [
    "l10 = ['this', 'is', 'not', 'the', 'only', 'case', 'that']  # 按长度排序\n",
    "sorted(l10, key = len)"
   ]
  },
  {
   "cell_type": "code",
   "execution_count": 40,
   "metadata": {
    "slideshow": {
     "slide_type": "subslide"
    }
   },
   "outputs": [
    {
     "data": {
      "text/plain": [
       "['the', 'case', 'this', 'is', 'not', 'that', 'only']"
      ]
     },
     "execution_count": 40,
     "metadata": {},
     "output_type": "execute_result"
    }
   ],
   "source": [
    "sorted(l10, key = lambda s: s[-1])  # 按尾字母排序"
   ]
  },
  {
   "cell_type": "markdown",
   "metadata": {
    "slideshow": {
     "slide_type": "subslide"
    }
   },
   "source": [
    "排序也可以使用列表对象的sort()方法。**注意如果这样做，列表对象本身被修改了！**"
   ]
  },
  {
   "cell_type": "code",
   "execution_count": 41,
   "metadata": {
    "slideshow": {
     "slide_type": "subslide"
    }
   },
   "outputs": [
    {
     "name": "stdout",
     "output_type": "stream",
     "text": [
      "['this', 'is', 'not', 'the', 'only', 'case', 'that']\n",
      "['case', 'is', 'not', 'only', 'that', 'the', 'this']\n"
     ]
    }
   ],
   "source": [
    "print(l10)\n",
    "l10.sort()\n",
    "print(l10)"
   ]
  },
  {
   "cell_type": "markdown",
   "metadata": {
    "slideshow": {
     "slide_type": "subslide"
    }
   },
   "source": [
    "练习：\n",
    "* 已知列表元素均为两位数，将列表按照元素的个位和十位数之和大小排序。"
   ]
  },
  {
   "cell_type": "code",
   "execution_count": 4,
   "metadata": {
    "slideshow": {
     "slide_type": "subslide"
    }
   },
   "outputs": [
    {
     "name": "stdout",
     "output_type": "stream",
     "text": [
      "[60, 52, 80, 90, 72, 85, 78, 88]\n"
     ]
    }
   ],
   "source": [
    "exam = [78, 88, 60, 90, 52, 80, 72, 85]\n",
    "print(sorted(exam,key=lambda s: s%10+s//10))"
   ]
  },
  {
   "cell_type": "code",
   "execution_count": 10,
   "metadata": {},
   "outputs": [
    {
     "name": "stdout",
     "output_type": "stream",
     "text": [
      "[88, 78, 52, 85, 72, 60, 80, 90]\n"
     ]
    }
   ],
   "source": [
    "exam = [78, 88, 60, 90, 52, 80, 72, 85]\n",
    "print(sorted(exam,key=lambda s: abs(s%10-s//10)))"
   ]
  },
  {
   "cell_type": "markdown",
   "metadata": {
    "slideshow": {
     "slide_type": "slide"
    }
   },
   "source": [
    "### 列表元素的修改\n",
    "\n",
    "* 使用列表下标指定元素之后进行修改\n",
    "* 使用列表切片指定元素列表之后进行修改\n",
    "* 使用列表方法增加和删除列表元素"
   ]
  },
  {
   "cell_type": "markdown",
   "metadata": {
    "slideshow": {
     "slide_type": "subslide"
    }
   },
   "source": [
    "* 修改单个列表元素\n",
    "\n",
    "利用下标指定元素，为其赋新的值即修改了该下标对应的元素。"
   ]
  },
  {
   "cell_type": "code",
   "execution_count": 43,
   "metadata": {
    "slideshow": {
     "slide_type": "subslide"
    }
   },
   "outputs": [
    {
     "name": "stdout",
     "output_type": "stream",
     "text": [
      "['a', 'b', 'c', 'd', 'e', 'f', 'g', 'h', 'i', 'j', 'k', 'l', 'm', 'n', 'o', 'p', 'q', 'r', 's', 't', 'u', 'v', 'w', 'x', 'y', 'z']\n",
      "['a', 'b', 3, 'd', 'e', 'f', 'g', 'h', 'i', 'j', 'k', 'l', 'm', 'n', 'o', 'p', 'q', 'r', 's', 't', 'u', 'v', 'w', 'x', 'y', 'end']\n"
     ]
    }
   ],
   "source": [
    "import string\n",
    "l9 = list(string.ascii_lowercase)\n",
    "print(l9)\n",
    "l9[2] = 3\n",
    "l9[-1] = 'end'\n",
    "print(l9)"
   ]
  },
  {
   "cell_type": "markdown",
   "metadata": {
    "slideshow": {
     "slide_type": "subslide"
    }
   },
   "source": [
    "* 列表元素批量修改\n",
    "\n",
    "使用列表切片指定列表元素范围，为其赋新值。\n",
    "\n",
    "需要注意的是，列表切片赋值时，右端必须是可迭代对象或切片。"
   ]
  },
  {
   "cell_type": "code",
   "execution_count": 44,
   "metadata": {
    "slideshow": {
     "slide_type": "subslide"
    }
   },
   "outputs": [
    {
     "name": "stdout",
     "output_type": "stream",
     "text": [
      "['a', 'b', 3, 4, 'g', 'h', 'i', 'j', 'k', 'l', 'm', 'n', 'o', 'p', 'q', 'r', 's', 't', 'u', 'v', 'w', 'x', 'y', 'end']\n"
     ]
    }
   ],
   "source": [
    "l9[2:6] = [3, 4]  # 注意不是将切片每个元素替换，而是整个切片替换为另一个列表\n",
    "print(l9)"
   ]
  },
  {
   "cell_type": "code",
   "execution_count": 45,
   "metadata": {
    "slideshow": {
     "slide_type": "subslide"
    }
   },
   "outputs": [
    {
     "name": "stdout",
     "output_type": "stream",
     "text": [
      "['m', 'n', 'o', 'p', 'q', 'r', 's', 't', 'u', 'v', 'w', 'x', 'y', 'end']\n"
     ]
    }
   ],
   "source": [
    "l9[:10]=[]  # 将切片赋值为空列表，将删除对应元素\n",
    "print(l9)"
   ]
  },
  {
   "cell_type": "markdown",
   "metadata": {
    "slideshow": {
     "slide_type": "subslide"
    }
   },
   "source": [
    "列表切片赋值操作后，列表长度可能不变，可能缩短，也可能变长。"
   ]
  },
  {
   "cell_type": "code",
   "execution_count": 46,
   "metadata": {
    "slideshow": {
     "slide_type": "subslide"
    }
   },
   "outputs": [],
   "source": [
    "l9[5:6] = [5] * 5"
   ]
  },
  {
   "cell_type": "code",
   "execution_count": 47,
   "metadata": {
    "slideshow": {
     "slide_type": "subslide"
    }
   },
   "outputs": [
    {
     "name": "stdout",
     "output_type": "stream",
     "text": [
      "['m', 'n', 'o', 'p', 'q', 5, 5, 5, 5, 5, 's', 't', 'u', 'v', 'w', 'x', 'y', 'end']\n"
     ]
    }
   ],
   "source": [
    "print(l9)"
   ]
  },
  {
   "cell_type": "markdown",
   "metadata": {
    "slideshow": {
     "slide_type": "subslide"
    }
   },
   "source": [
    "列表切片操作是非常复杂的操作，在调试程序时一定要注意切片操作的下标是否符合预期。比如，以下的切片赋值语句都是合法的，但是可能与程序设计者的最初期望不一致。"
   ]
  },
  {
   "cell_type": "markdown",
   "metadata": {
    "slideshow": {
     "slide_type": "subslide"
    }
   },
   "source": [
    "注意：列表切片可以为空，不影响切片的赋值操作。"
   ]
  },
  {
   "cell_type": "code",
   "execution_count": 48,
   "metadata": {
    "slideshow": {
     "slide_type": "subslide"
    }
   },
   "outputs": [
    {
     "name": "stdout",
     "output_type": "stream",
     "text": [
      "['2', '.', '7', '1', '8', '2', '8']\n",
      "['2', '.', '7', '1', '8', '2', '8', 3, 3, 3]\n"
     ]
    }
   ],
   "source": [
    "l8 = list('2.71828')\n",
    "print(l8)\n",
    "l8[10:2] = [3] * 3\n",
    "print(l8)"
   ]
  },
  {
   "cell_type": "code",
   "execution_count": 49,
   "metadata": {
    "slideshow": {
     "slide_type": "subslide"
    }
   },
   "outputs": [
    {
     "name": "stdout",
     "output_type": "stream",
     "text": [
      "['2', '.', '7', '1', '8', '2', '8', 3, 3, 3, 5, 5, 5]\n"
     ]
    }
   ],
   "source": [
    "l8[20:20] = [5] * 3\n",
    "print(l8)"
   ]
  },
  {
   "cell_type": "code",
   "execution_count": 50,
   "metadata": {
    "slideshow": {
     "slide_type": "subslide"
    }
   },
   "outputs": [
    {
     "name": "stdout",
     "output_type": "stream",
     "text": [
      "[6, 6, 6, '1', '8', '2', '8', 3, 3, 3, 5, 5, 5]\n"
     ]
    }
   ],
   "source": [
    "l8[-20:3] = [6] * 3\n",
    "print(l8)"
   ]
  },
  {
   "cell_type": "code",
   "execution_count": 51,
   "metadata": {
    "slideshow": {
     "slide_type": "subslide"
    }
   },
   "outputs": [
    {
     "name": "stdout",
     "output_type": "stream",
     "text": [
      "[7, 7, 7, 6, 6, 6, '1', '8', '2', '8', 3, 3, 3, 5, 5, 5]\n"
     ]
    }
   ],
   "source": [
    "l8[-20:-30] = [7] * 3\n",
    "print(l8)"
   ]
  },
  {
   "cell_type": "markdown",
   "metadata": {
    "slideshow": {
     "slide_type": "subslide"
    }
   },
   "source": [
    "注意：连续切片的处理与__不连续切片__的处理规则是不一样的。"
   ]
  },
  {
   "cell_type": "code",
   "execution_count": 52,
   "metadata": {
    "slideshow": {
     "slide_type": "subslide"
    }
   },
   "outputs": [
    {
     "name": "stdout",
     "output_type": "stream",
     "text": [
      "['2', '.', '7', '1', '8', '2', '8']\n",
      "['a', 'b', '1', '8', '2', '8']\n",
      "['x', 'b', 'y', '8', 'z', '8']\n"
     ]
    }
   ],
   "source": [
    "l8 = list('2.71828')\n",
    "print(l8)\n",
    "l8[:3] = 'ab'  # 合法\n",
    "print(l8)\n",
    "#l8[::2] = 'cc'  # 不合法，赋值左右端长度不一致\n",
    "l8[::2] = 'xyz'  # 合法\n",
    "print(l8)"
   ]
  },
  {
   "cell_type": "markdown",
   "metadata": {
    "slideshow": {
     "slide_type": "subslide"
    }
   },
   "source": [
    "注意：切片赋值和列表下标赋值时，__右端对象的解释机制不同__。**列表下标赋值时，右端解释为单个对象，切片赋值时，右端解释为可迭代对象。**"
   ]
  },
  {
   "cell_type": "code",
   "execution_count": 53,
   "metadata": {
    "slideshow": {
     "slide_type": "subslide"
    }
   },
   "outputs": [
    {
     "name": "stdout",
     "output_type": "stream",
     "text": [
      "['2', '.', '7', '1', '8', '2', '8']\n",
      "['2', '.', 'abc', '1', '8', 'a', 'b', 'c', '8']\n"
     ]
    }
   ],
   "source": [
    "l8 = list('2.71828')\n",
    "print(l8)\n",
    "l8[2] = 'abc'  # 字符串被解释为一个单变量\n",
    "l8[-2:-1] = 'abc'  # 字符串被解释为一个序列\n",
    "print(l8)"
   ]
  },
  {
   "cell_type": "markdown",
   "metadata": {
    "slideshow": {
     "slide_type": "subslide"
    }
   },
   "source": [
    "* 用列表方法增加和删除列表元素。"
   ]
  },
  {
   "cell_type": "code",
   "execution_count": 54,
   "metadata": {
    "scrolled": true,
    "slideshow": {
     "slide_type": "subslide"
    }
   },
   "outputs": [
    {
     "name": "stdout",
     "output_type": "stream",
     "text": [
      "['2', '.', '7', '1', '8', '2', '8']\n",
      "['2', '.', '7', '1', '8', '2', '8', 'a']\n"
     ]
    }
   ],
   "source": [
    "l8 = list('2.71828')\n",
    "print(l8)\n",
    "l8.append('a') # 在列表尾部增加元素\n",
    "print(l8)"
   ]
  },
  {
   "cell_type": "code",
   "execution_count": 55,
   "metadata": {
    "slideshow": {
     "slide_type": "subslide"
    }
   },
   "outputs": [
    {
     "name": "stdout",
     "output_type": "stream",
     "text": [
      "['2', 'a', '.', '7', '1', '8', '2', '8', 'a']\n"
     ]
    }
   ],
   "source": [
    "l8.insert(1,'a')\n",
    "print(l8)"
   ]
  },
  {
   "cell_type": "code",
   "execution_count": 56,
   "metadata": {
    "scrolled": true,
    "slideshow": {
     "slide_type": "subslide"
    }
   },
   "outputs": [
    {
     "name": "stdout",
     "output_type": "stream",
     "text": [
      "['2', 'a', '.', '7', '1', '8', '2', '8']\n"
     ]
    }
   ],
   "source": [
    "del(l8[-1])  # 删除列表某个元素\n",
    "print(l8)"
   ]
  },
  {
   "cell_type": "markdown",
   "metadata": {
    "slideshow": {
     "slide_type": "subslide"
    }
   },
   "source": [
    "其他列表操作函数\n",
    "\n",
    "* clear 删除所有元素\n",
    "* copy 复制列表\n",
    "* extend 追加一个序列到列表尾部\n",
    "* pop 移除并返回一个元素\n",
    "* remove(x) 移除第一个出现的x\n",
    "* reverse 列表反转\n",
    "* sort 列表元素排序"
   ]
  },
  {
   "cell_type": "markdown",
   "metadata": {
    "slideshow": {
     "slide_type": "subslide"
    }
   },
   "source": [
    "为什么要使用列表复制？\n",
    "\n",
    "当我们需要将数据进行备份，然后再对数据进行一些修改操作时，需要先将原有的列表进行拷贝。简单的将原列表复制给另一个变量并不能达到目标。"
   ]
  },
  {
   "cell_type": "code",
   "execution_count": 57,
   "metadata": {
    "slideshow": {
     "slide_type": "subslide"
    }
   },
   "outputs": [
    {
     "name": "stdout",
     "output_type": "stream",
     "text": [
      "[1, 2, 3, 9, 5]\n",
      "[1, 2, 3, 9, 5]\n"
     ]
    },
    {
     "data": {
      "text/plain": [
       "(92978696, 92978696)"
      ]
     },
     "execution_count": 57,
     "metadata": {},
     "output_type": "execute_result"
    }
   ],
   "source": [
    "l0 = [1, 2, 3, 4, 5]\n",
    "l1 = l0\n",
    "l0[3] = 3**2\n",
    "print(l0); print(l1)\n",
    "id(l0), id(l1)"
   ]
  },
  {
   "cell_type": "code",
   "execution_count": 58,
   "metadata": {
    "slideshow": {
     "slide_type": "subslide"
    }
   },
   "outputs": [
    {
     "name": "stdout",
     "output_type": "stream",
     "text": [
      "[1, 2, 3, 9, 16]\n",
      "[1, 2, 3, 9, 5]\n"
     ]
    },
    {
     "data": {
      "text/plain": [
       "(92978696, 93028424)"
      ]
     },
     "execution_count": 58,
     "metadata": {},
     "output_type": "execute_result"
    }
   ],
   "source": [
    "l2 = l0[:]  # 使用列表切片进行复制\n",
    "l0[4] = 4**2\n",
    "print(l0); print(l2)\n",
    "id(l0), id(l2)"
   ]
  },
  {
   "cell_type": "code",
   "execution_count": 59,
   "metadata": {
    "slideshow": {
     "slide_type": "subslide"
    }
   },
   "outputs": [
    {
     "name": "stdout",
     "output_type": "stream",
     "text": [
      "[1, 'a', 3, 9, 16]\n",
      "[1, 2, 3, 9, 16]\n"
     ]
    },
    {
     "data": {
      "text/plain": [
       "(92978696, 92123208)"
      ]
     },
     "execution_count": 59,
     "metadata": {},
     "output_type": "execute_result"
    }
   ],
   "source": [
    "l3 = l0.copy()  # 使用copy函数进行复制\n",
    "l0[1] = 'a'\n",
    "print(l0); print(l3)\n",
    "id(l0), id(l3)"
   ]
  },
  {
   "cell_type": "markdown",
   "metadata": {
    "slideshow": {
     "slide_type": "slide"
    }
   },
   "source": [
    "### 列表解析表达式\n",
    "\n",
    "列表解析式(list comprehension)对一个可迭代对象进行遍历，按照指定表达式计算，生成一个新的列表。列表解析式可以高效的对一个可迭代对象进行快速遍历计算，代码简洁高效。"
   ]
  },
  {
   "cell_type": "code",
   "execution_count": 60,
   "metadata": {
    "slideshow": {
     "slide_type": "subslide"
    }
   },
   "outputs": [
    {
     "data": {
      "text/plain": [
       "[0, 1, 4, 9, 16, 25, 36, 49, 64, 81]"
      ]
     },
     "execution_count": 60,
     "metadata": {},
     "output_type": "execute_result"
    }
   ],
   "source": [
    "[i**2 for i in range(10)]"
   ]
  },
  {
   "cell_type": "markdown",
   "metadata": {
    "slideshow": {
     "slide_type": "subslide"
    }
   },
   "source": [
    "列表解析式可以指定条件，筛选需要操作的对象。"
   ]
  },
  {
   "cell_type": "code",
   "execution_count": 61,
   "metadata": {
    "slideshow": {
     "slide_type": "subslide"
    }
   },
   "outputs": [
    {
     "data": {
      "text/plain": [
       "[7, 22, 37, 52, 67, 82, 97]"
      ]
     },
     "execution_count": 61,
     "metadata": {},
     "output_type": "execute_result"
    }
   ],
   "source": [
    "[i for i in range(100) if i%3==1 and i%5==2]"
   ]
  },
  {
   "cell_type": "markdown",
   "metadata": {
    "slideshow": {
     "slide_type": "subslide"
    }
   },
   "source": [
    "列表解析式可以包含多个for循环。"
   ]
  },
  {
   "cell_type": "code",
   "execution_count": 62,
   "metadata": {
    "slideshow": {
     "slide_type": "subslide"
    }
   },
   "outputs": [
    {
     "data": {
      "text/plain": [
       "[[1, 2, 2], [1, 3, 3], [1, 4, 4], [2, 3, 6], [2, 4, 8], [3, 4, 12]]"
      ]
     },
     "execution_count": 62,
     "metadata": {},
     "output_type": "execute_result"
    }
   ],
   "source": [
    "[[x,y,x*y] for x in range(1,5) for y in range(1,5) if x<y]"
   ]
  },
  {
   "cell_type": "markdown",
   "metadata": {
    "slideshow": {
     "slide_type": "subslide"
    }
   },
   "source": [
    "练习回顾：\n",
    "* 已知数值列表，如何判断列表元素是否都大于5？\n",
    "* 已知字符串列表，如何判断列表中有一个以字母‘a’结尾？"
   ]
  },
  {
   "cell_type": "code",
   "execution_count": 10,
   "metadata": {
    "slideshow": {
     "slide_type": "subslide"
    }
   },
   "outputs": [
    {
     "name": "stdout",
     "output_type": "stream",
     "text": [
      "False\n",
      "True\n"
     ]
    }
   ],
   "source": [
    "x1 = [2,3,5,7,9,6]\n",
    "print(all(i>=5 for i in x1))\n",
    "x2 = ['Emma', 'Emily', 'Anna', 'Alice']\n",
    "print(any(i[-1]=='a' for i in x2))\n",
    " "
   ]
  },
  {
   "cell_type": "markdown",
   "metadata": {
    "slideshow": {
     "slide_type": "slide"
    }
   },
   "source": [
    "### 列表的特性总结\n",
    "\n",
    "* 列表是一个按序号存取的数据结构\n",
    "* 列表的元素可以为任意对象\n",
    "* 列表元素不要求同类型\n",
    "* 列表的长度不需要预定义\n",
    "* 列表的长度随着列表元素的增加和删除而改变"
   ]
  },
  {
   "cell_type": "markdown",
   "metadata": {
    "slideshow": {
     "slide_type": "slide"
    }
   },
   "source": [
    "## 元组\n",
    "\n",
    "元组与列表很相似，但**元组不能修改。**"
   ]
  },
  {
   "cell_type": "code",
   "execution_count": 63,
   "metadata": {
    "slideshow": {
     "slide_type": "subslide"
    }
   },
   "outputs": [
    {
     "name": "stdout",
     "output_type": "stream",
     "text": [
      "1\n"
     ]
    },
    {
     "data": {
      "text/plain": [
       "tuple"
      ]
     },
     "execution_count": 63,
     "metadata": {},
     "output_type": "execute_result"
    }
   ],
   "source": [
    "t1 = (3, 2, 1)\n",
    "print(t1[2])\n",
    "type(t1)"
   ]
  },
  {
   "cell_type": "code",
   "execution_count": 64,
   "metadata": {
    "slideshow": {
     "slide_type": "subslide"
    }
   },
   "outputs": [],
   "source": [
    "t2 = tuple('abcde')\n",
    "#t2[2] = 3  # 元组不可修改"
   ]
  },
  {
   "cell_type": "markdown",
   "metadata": {
    "slideshow": {
     "slide_type": "subslide"
    }
   },
   "source": [
    "注意：单个元素的元组表达形式"
   ]
  },
  {
   "cell_type": "code",
   "execution_count": 65,
   "metadata": {
    "slideshow": {
     "slide_type": "subslide"
    }
   },
   "outputs": [
    {
     "data": {
      "text/plain": [
       "(tuple, int)"
      ]
     },
     "execution_count": 65,
     "metadata": {},
     "output_type": "execute_result"
    }
   ],
   "source": [
    "t3 = 1,\n",
    "t4 = (1)\n",
    "type(t3), type(t4)"
   ]
  },
  {
   "cell_type": "code",
   "execution_count": 66,
   "metadata": {
    "slideshow": {
     "slide_type": "subslide"
    }
   },
   "outputs": [
    {
     "name": "stdout",
     "output_type": "stream",
     "text": [
      "1\n",
      "1\n"
     ]
    }
   ],
   "source": [
    "string1 = 'h',\n",
    "print(len(string1))  # 答案正确只是巧合\n",
    "string2 = 'hello',\n",
    "print(len(string2))"
   ]
  },
  {
   "cell_type": "markdown",
   "metadata": {
    "slideshow": {
     "slide_type": "slide"
    }
   },
   "source": [
    "### 元组解包操作\n",
    "\n",
    "可以利用元组的解包操作为多个变量便捷的赋值。"
   ]
  },
  {
   "cell_type": "markdown",
   "metadata": {
    "slideshow": {
     "slide_type": "subslide"
    }
   },
   "source": [
    "* 定长元组赋值\n",
    "\n",
    "左端变量个数需与右端序列等长度，赋值时一一对应。若左右两端元素个数不一致，将导致错误。"
   ]
  },
  {
   "cell_type": "code",
   "execution_count": 67,
   "metadata": {
    "slideshow": {
     "slide_type": "subslide"
    }
   },
   "outputs": [
    {
     "data": {
      "text/plain": [
       "(1, 2)"
      ]
     },
     "execution_count": 67,
     "metadata": {},
     "output_type": "execute_result"
    }
   ],
   "source": [
    "a, b = (1, 2)\n",
    "a, b"
   ]
  },
  {
   "cell_type": "code",
   "execution_count": 68,
   "metadata": {
    "slideshow": {
     "slide_type": "subslide"
    }
   },
   "outputs": [
    {
     "data": {
      "text/plain": [
       "89"
      ]
     },
     "execution_count": 68,
     "metadata": {},
     "output_type": "execute_result"
    }
   ],
   "source": [
    "# 若元组为嵌套元组，则赋值时左端也必须是相同结构\n",
    "name, age, (math, english) = ('Ann', 18, (89, 85))\n",
    "math"
   ]
  },
  {
   "cell_type": "markdown",
   "metadata": {
    "slideshow": {
     "slide_type": "subslide"
    }
   },
   "source": [
    "* 不定长元组赋值\n",
    "\n",
    "可以使用**\\*元组变量将多个值作为元组赋值给元组变量。**\n",
    "\n",
    "\\*元组变量只能出现一次。"
   ]
  },
  {
   "cell_type": "code",
   "execution_count": 11,
   "metadata": {
    "slideshow": {
     "slide_type": "subslide"
    }
   },
   "outputs": [
    {
     "name": "stdout",
     "output_type": "stream",
     "text": [
      "<class 'list'>\n"
     ]
    },
    {
     "data": {
      "text/plain": [
       "[1, 2, 3, 4, 5, 6, 7, 8]"
      ]
     },
     "execution_count": 11,
     "metadata": {},
     "output_type": "execute_result"
    }
   ],
   "source": [
    "first, *middles, last = range(10)\n",
    "print(type(middles))\n",
    "middles\n"
   ]
  },
  {
   "cell_type": "code",
   "execution_count": 14,
   "metadata": {
    "slideshow": {
     "slide_type": "subslide"
    }
   },
   "outputs": [
    {
     "name": "stdout",
     "output_type": "stream",
     "text": [
      "[76, 78, 81, 85, 88, 90]\n"
     ]
    },
    {
     "data": {
      "text/plain": [
       "83.0"
      ]
     },
     "execution_count": 14,
     "metadata": {},
     "output_type": "execute_result"
    }
   ],
   "source": [
    "scores = [75, 76, 85, 90, 78, 88, 94, 81]\n",
    "low, *middles, high = sorted(scores)\n",
    "print(middles)\n",
    "average = sum(middles)/len(middles)\n",
    "average"
   ]
  },
  {
   "cell_type": "code",
   "execution_count": 11,
   "metadata": {
    "slideshow": {
     "slide_type": "subslide"
    }
   },
   "outputs": [
    {
     "name": "stdout",
     "output_type": "stream",
     "text": [
      "[78, 81, 85, 88]\n"
     ]
    },
    {
     "data": {
      "text/plain": [
       "83.0"
      ]
     },
     "execution_count": 11,
     "metadata": {},
     "output_type": "execute_result"
    }
   ],
   "source": [
    "# 去掉两个最高分，两个最低分，如何重写上面的平均分计算过程\n",
    "scores = [75, 76, 85, 90, 78, 88, 94, 81]\n",
    "low,low2, *middles2, high2,high = sorted(scores)\n",
    "print(sorted(scores)[2:-2])\n",
    "average = sum(middles2)/len(middles2)\n",
    "average"
   ]
  },
  {
   "cell_type": "markdown",
   "metadata": {
    "slideshow": {
     "slide_type": "slide"
    }
   },
   "source": [
    "## 字典\n",
    "* 字典是由键-值对构成的数据结构。又称为关联数组或哈希表hash。\n",
    "* 利用字典可以根据键快速的找到对应的值。\n",
    "* 字典中的键没有重复。"
   ]
  },
  {
   "cell_type": "code",
   "execution_count": 72,
   "metadata": {
    "slideshow": {
     "slide_type": "subslide"
    }
   },
   "outputs": [],
   "source": [
    "# 创建一个字典\n",
    "dic1 = {'apple':'red',\n",
    "       'banana':'yellow',\n",
    "       'pear':'white',\n",
    "       'orange':'orange'}"
   ]
  },
  {
   "cell_type": "code",
   "execution_count": 73,
   "metadata": {
    "slideshow": {
     "slide_type": "subslide"
    }
   },
   "outputs": [
    {
     "data": {
      "text/plain": [
       "{'apple': 'red', 'banana': 'yellow', 'orange': 'orange', 'pear': 'white'}"
      ]
     },
     "execution_count": 73,
     "metadata": {},
     "output_type": "execute_result"
    }
   ],
   "source": [
    "dic1"
   ]
  },
  {
   "cell_type": "markdown",
   "metadata": {
    "slideshow": {
     "slide_type": "subslide"
    }
   },
   "source": [
    "字典也可以使用dict()方法来创建。"
   ]
  },
  {
   "cell_type": "code",
   "execution_count": 74,
   "metadata": {
    "slideshow": {
     "slide_type": "subslide"
    }
   },
   "outputs": [
    {
     "data": {
      "text/plain": [
       "{'english': 80, 'math': 90, 'physics': 85}"
      ]
     },
     "execution_count": 74,
     "metadata": {},
     "output_type": "execute_result"
    }
   ],
   "source": [
    "dic2 = dict(math = 90, english = 80, physics =85)\n",
    "dic2"
   ]
  },
  {
   "cell_type": "code",
   "execution_count": 75,
   "metadata": {
    "slideshow": {
     "slide_type": "subslide"
    }
   },
   "outputs": [
    {
     "data": {
      "text/plain": [
       "{'a': 0, 'b': 1, 'c': 2, 'd': 3, 'e': 4, 'f': 5}"
      ]
     },
     "execution_count": 75,
     "metadata": {},
     "output_type": "execute_result"
    }
   ],
   "source": [
    "dic3 = dict(zip('abcdef',range(6)))  # 可以将zip想象为拉链\n",
    "dic3"
   ]
  },
  {
   "cell_type": "code",
   "execution_count": 76,
   "metadata": {
    "slideshow": {
     "slide_type": "subslide"
    }
   },
   "outputs": [
    {
     "data": {
      "text/plain": [
       "{}"
      ]
     },
     "execution_count": 76,
     "metadata": {},
     "output_type": "execute_result"
    }
   ],
   "source": [
    "dict()  # 建立一个空字典/集合"
   ]
  },
  {
   "cell_type": "markdown",
   "metadata": {
    "slideshow": {
     "slide_type": "slide"
    }
   },
   "source": [
    "### 在字典中查询键"
   ]
  },
  {
   "cell_type": "code",
   "execution_count": 77,
   "metadata": {
    "slideshow": {
     "slide_type": "subslide"
    }
   },
   "outputs": [
    {
     "data": {
      "text/plain": [
       "(True, True)"
      ]
     },
     "execution_count": 77,
     "metadata": {},
     "output_type": "execute_result"
    }
   ],
   "source": [
    "'apple' in dic1, 'lemon' not in dic1"
   ]
  },
  {
   "cell_type": "markdown",
   "metadata": {
    "slideshow": {
     "slide_type": "subslide"
    }
   },
   "source": [
    "注意：**in 只能用来查询键，不能用来查询值。**"
   ]
  },
  {
   "cell_type": "code",
   "execution_count": 78,
   "metadata": {
    "slideshow": {
     "slide_type": "subslide"
    }
   },
   "outputs": [
    {
     "data": {
      "text/plain": [
       "(True, False)"
      ]
     },
     "execution_count": 78,
     "metadata": {},
     "output_type": "execute_result"
    }
   ],
   "source": [
    "'orange' in dic1, 'red' in dic1"
   ]
  },
  {
   "cell_type": "markdown",
   "metadata": {
    "slideshow": {
     "slide_type": "slide"
    }
   },
   "source": [
    "### 字典元素的访问和修改。\n",
    "访问字典元素时，将字典的键作为索引，置于中括号中。"
   ]
  },
  {
   "cell_type": "code",
   "execution_count": 79,
   "metadata": {
    "slideshow": {
     "slide_type": "subslide"
    }
   },
   "outputs": [
    {
     "data": {
      "text/plain": [
       "('red', 90, 2)"
      ]
     },
     "execution_count": 79,
     "metadata": {},
     "output_type": "execute_result"
    }
   ],
   "source": [
    "dic1['apple'], dic2['math'], dic3['c']"
   ]
  },
  {
   "cell_type": "code",
   "execution_count": 80,
   "metadata": {
    "slideshow": {
     "slide_type": "subslide"
    }
   },
   "outputs": [
    {
     "data": {
      "text/plain": [
       "{'apple': 'red',\n",
       " 'banana': 'yellow',\n",
       " 'cherry': 'pink',\n",
       " 'orange': 'orange',\n",
       " 'pear': 'white'}"
      ]
     },
     "execution_count": 80,
     "metadata": {},
     "output_type": "execute_result"
    }
   ],
   "source": [
    "dic1['cherry'] = 'pink'\n",
    "dic1"
   ]
  },
  {
   "cell_type": "code",
   "execution_count": 81,
   "metadata": {
    "slideshow": {
     "slide_type": "subslide"
    }
   },
   "outputs": [
    {
     "data": {
      "text/plain": [
       "{'a': 0, 'b': 1, 'c': 2, 'e': 4, 'f': 5}"
      ]
     },
     "execution_count": 81,
     "metadata": {},
     "output_type": "execute_result"
    }
   ],
   "source": [
    "del(dic3['d'])\n",
    "dic3"
   ]
  },
  {
   "cell_type": "code",
   "execution_count": 30,
   "metadata": {},
   "outputs": [
    {
     "name": "stdout",
     "output_type": "stream",
     "text": [
      "True\n"
     ]
    }
   ],
   "source": [
    "if '520' in str(3**100):\n",
    "    print(True)\n"
   ]
  },
  {
   "cell_type": "code",
   "execution_count": 29,
   "metadata": {},
   "outputs": [
    {
     "name": "stdout",
     "output_type": "stream",
     "text": [
      "['jack$', 'ack$j', 'ck$ja', 'k$jac']\n"
     ]
    }
   ],
   "source": [
    "str = 'jack'\n",
    "strnew = str + '$' + str\n",
    "#print(strnew)\n",
    "list = []\n",
    "for i in range(4):\n",
    "    list.append(strnew[i:i+5])\n",
    "print(list)\n",
    "del str"
   ]
  },
  {
   "cell_type": "markdown",
   "metadata": {
    "slideshow": {
     "slide_type": "subslide"
    }
   },
   "source": [
    "__字典的访问规则__：\n",
    "\n",
    "* 使用 d[k] 形式访问时，若存在键k,则返回对应的值；若不存在键k，则导致错误KeyError\n",
    "* 使用 d[k] = v 形式赋值时，若该键k已存在，则覆盖原值；若不存在该键k，则新增一个键，赋予新值。"
   ]
  },
  {
   "cell_type": "code",
   "execution_count": 82,
   "metadata": {
    "slideshow": {
     "slide_type": "subslide"
    }
   },
   "outputs": [
    {
     "name": "stdout",
     "output_type": "stream",
     "text": [
      "{'apple': 'red', 'banana': 'yellow', 'pear': 'white', 'orange': 'orange', 'cherry': 'pink'}\n",
      "{'apple': 'red', 'banana': 'yellow', 'pear': 'yellow', 'orange': 'orange', 'cherry': 'pink'}\n"
     ]
    }
   ],
   "source": [
    "print(dic1)\n",
    "dic1['pear'] = 'yellow'\n",
    "print(dic1)"
   ]
  },
  {
   "cell_type": "markdown",
   "metadata": {
    "slideshow": {
     "slide_type": "subslide"
    }
   },
   "source": [
    "练习：\n",
    "* 给定字符串，统计每个字符出现的次数。\n",
    "* 给定字符串，统计每个字符出现的位置列表。  \n",
    "\n",
    "enumerate（）函数接受一个集合（例如元组），并将其作为枚举对象返回。  \n",
    "enumerate（）函数添加一个计数器作为枚举对象的键。  "
   ]
  },
  {
   "cell_type": "code",
   "execution_count": 83,
   "metadata": {
    "slideshow": {
     "slide_type": "subslide"
    }
   },
   "outputs": [],
   "source": [
    "sent = 'Well, I do not mind telling you I have been at work upon this geometry of Four Dimensions for some time'"
   ]
  },
  {
   "cell_type": "code",
   "execution_count": 84,
   "metadata": {
    "slideshow": {
     "slide_type": "subslide"
    }
   },
   "outputs": [
    {
     "name": "stdout",
     "output_type": "stream",
     "text": [
      "{'w': 2, 'e': 10, 'l': 4, ',': 1, ' ': 20, 'i': 8, 'd': 3, 'o': 11, 'n': 7, 't': 6, 'm': 5, 'g': 2, 'y': 2, 'u': 3, 'h': 2, 'a': 2, 'v': 1, 'b': 1, 'r': 4, 'k': 1, 'p': 1, 's': 4, 'f': 3}\n"
     ]
    }
   ],
   "source": [
    "cnt = {}\n",
    "for i,v in enumerate(sent.lower()):\n",
    "    if v in cnt:\n",
    "        cnt[v] += 1\n",
    "    else:\n",
    "        cnt[v] = 1\n",
    "print(cnt)"
   ]
  },
  {
   "cell_type": "code",
   "execution_count": 85,
   "metadata": {
    "slideshow": {
     "slide_type": "subslide"
    }
   },
   "outputs": [
    {
     "data": {
      "text/plain": [
       "(7, 6)"
      ]
     },
     "execution_count": 85,
     "metadata": {},
     "output_type": "execute_result"
    }
   ],
   "source": [
    "cnt['n'], cnt['t']"
   ]
  },
  {
   "cell_type": "code",
   "execution_count": 86,
   "metadata": {
    "slideshow": {
     "slide_type": "subslide"
    }
   },
   "outputs": [
    {
     "name": "stdout",
     "output_type": "stream",
     "text": [
      "{'w': [0, 47], 'e': [1, 21, 37, 40, 41, 63, 66, 82, 97, 102], 'l': [2, 3, 22, 23], ',': [4], ' ': [5, 7, 10, 14, 19, 27, 31, 33, 38, 43, 46, 51, 56, 61, 70, 73, 78, 89, 93, 98], 'i': [6, 16, 24, 32, 59, 80, 85, 100], 'd': [8, 18, 79], 'o': [9, 12, 29, 48, 54, 64, 71, 75, 86, 91, 95], 'n': [11, 17, 25, 42, 55, 83, 87], 't': [13, 20, 45, 57, 67, 99], 'm': [15, 65, 81, 96, 101], 'g': [26, 62], 'y': [28, 69], 'u': [30, 52, 76], 'h': [34, 58], 'a': [35, 44], 'v': [36], 'b': [39], 'r': [49, 68, 77, 92], 'k': [50], 'p': [53], 's': [60, 84, 88, 94], 'f': [72, 74, 90]}\n"
     ]
    }
   ],
   "source": [
    "places = {}\n",
    "for i,v in enumerate(sent.lower()):\n",
    "    if v in places:\n",
    "        places[v].append(i)\n",
    "    else:\n",
    "        places[v] = [i]\n",
    "print(places)"
   ]
  },
  {
   "cell_type": "code",
   "execution_count": 87,
   "metadata": {
    "slideshow": {
     "slide_type": "subslide"
    }
   },
   "outputs": [
    {
     "data": {
      "text/plain": [
       "([11, 17, 25, 42, 55, 83, 87], [13, 20, 45, 57, 67, 99])"
      ]
     },
     "execution_count": 87,
     "metadata": {},
     "output_type": "execute_result"
    }
   ],
   "source": [
    "places['n'], places['t']"
   ]
  },
  {
   "cell_type": "markdown",
   "metadata": {
    "slideshow": {
     "slide_type": "slide"
    }
   },
   "source": [
    "### 字典的遍历"
   ]
  },
  {
   "cell_type": "code",
   "execution_count": 88,
   "metadata": {
    "slideshow": {
     "slide_type": "subslide"
    }
   },
   "outputs": [
    {
     "name": "stdout",
     "output_type": "stream",
     "text": [
      "w:[0, 47]\n",
      "e:[1, 21, 37, 40, 41, 63, 66, 82, 97, 102]\n",
      "l:[2, 3, 22, 23]\n",
      ",:[4]\n",
      " :[5, 7, 10, 14, 19, 27, 31, 33, 38, 43, 46, 51, 56, 61, 70, 73, 78, 89, 93, 98]\n",
      "i:[6, 16, 24, 32, 59, 80, 85, 100]\n",
      "d:[8, 18, 79]\n",
      "o:[9, 12, 29, 48, 54, 64, 71, 75, 86, 91, 95]\n",
      "n:[11, 17, 25, 42, 55, 83, 87]\n",
      "t:[13, 20, 45, 57, 67, 99]\n",
      "m:[15, 65, 81, 96, 101]\n",
      "g:[26, 62]\n",
      "y:[28, 69]\n",
      "u:[30, 52, 76]\n",
      "h:[34, 58]\n",
      "a:[35, 44]\n",
      "v:[36]\n",
      "b:[39]\n",
      "r:[49, 68, 77, 92]\n",
      "k:[50]\n",
      "p:[53]\n",
      "s:[60, 84, 88, 94]\n",
      "f:[72, 74, 90]\n"
     ]
    }
   ],
   "source": [
    "for k in places:\n",
    "    print('{0}:{1}'.format(k,places[k]))"
   ]
  },
  {
   "cell_type": "markdown",
   "metadata": {
    "slideshow": {
     "slide_type": "subslide"
    }
   },
   "source": [
    "字典中键、值的遍历也可以通过字典的以下视图对象实现：\n",
    "* dict.keys() 返回字典键的列表\n",
    "* dict.values() 返回字典值的列表\n",
    "* dict.items() 返回键-值对的列表"
   ]
  },
  {
   "cell_type": "code",
   "execution_count": 89,
   "metadata": {
    "slideshow": {
     "slide_type": "subslide"
    }
   },
   "outputs": [
    {
     "name": "stdout",
     "output_type": "stream",
     "text": [
      "apple -> red\n",
      "banana -> yellow\n",
      "pear -> yellow\n",
      "orange -> orange\n",
      "cherry -> pink\n"
     ]
    }
   ],
   "source": [
    "for (k, v) in dic1.items():\n",
    "    print(k, '->', v)"
   ]
  },
  {
   "cell_type": "code",
   "execution_count": 90,
   "metadata": {
    "scrolled": true,
    "slideshow": {
     "slide_type": "subslide"
    }
   },
   "outputs": [
    {
     "name": "stdout",
     "output_type": "stream",
     "text": [
      "dict_keys(['w', 'e', 'l', ',', ' ', 'i', 'd', 'o', 'n', 't', 'm', 'g', 'y', 'u', 'h', 'a', 'v', 'b', 'r', 'k', 'p', 's', 'f'])\n"
     ]
    }
   ],
   "source": [
    "print(cnt.keys())"
   ]
  },
  {
   "cell_type": "markdown",
   "metadata": {
    "slideshow": {
     "slide_type": "subslide"
    }
   },
   "source": [
    "练习：\n",
    "* 已知一个由英文单词构成的字符串，查找由某个字母开头的单词列表。"
   ]
  },
  {
   "cell_type": "code",
   "execution_count": 91,
   "metadata": {
    "slideshow": {
     "slide_type": "subslide"
    }
   },
   "outputs": [],
   "source": [
    "sent2 = '''The Time Traveller smiled round at us.  Then, still smiling faintly,\n",
    "and with his hands deep in his trousers pockets, he walked slowly\n",
    "out of the room, and we heard his slippers shuffling down the long\n",
    "passage to his laboratory.'''"
   ]
  },
  {
   "cell_type": "code",
   "execution_count": 92,
   "metadata": {
    "slideshow": {
     "slide_type": "subslide"
    }
   },
   "outputs": [],
   "source": [
    "words_1 = sent2.lower().split() # 切分成单词\n",
    "words_2 = [i.strip(',.;:!\\'\\\"?') for i in words_1]  # 去除单词前后符号"
   ]
  },
  {
   "cell_type": "code",
   "execution_count": 93,
   "metadata": {
    "slideshow": {
     "slide_type": "subslide"
    }
   },
   "outputs": [
    {
     "name": "stdout",
     "output_type": "stream",
     "text": [
      "['the', 'time', 'traveller', 'smiled', 'round', 'at', 'us.', 'then,', 'still', 'smiling', 'faintly,', 'and', 'with', 'his', 'hands', 'deep', 'in', 'his', 'trousers', 'pockets,', 'he', 'walked', 'slowly', 'out', 'of', 'the', 'room,', 'and', 'we', 'heard', 'his', 'slippers', 'shuffling', 'down', 'the', 'long', 'passage', 'to', 'his', 'laboratory.']\n",
      "['the', 'time', 'traveller', 'smiled', 'round', 'at', 'us', 'then', 'still', 'smiling', 'faintly', 'and', 'with', 'his', 'hands', 'deep', 'in', 'his', 'trousers', 'pockets', 'he', 'walked', 'slowly', 'out', 'of', 'the', 'room', 'and', 'we', 'heard', 'his', 'slippers', 'shuffling', 'down', 'the', 'long', 'passage', 'to', 'his', 'laboratory']\n"
     ]
    }
   ],
   "source": [
    "print(words_1)\n",
    "print(words_2)"
   ]
  },
  {
   "cell_type": "code",
   "execution_count": 94,
   "metadata": {
    "slideshow": {
     "slide_type": "subslide"
    }
   },
   "outputs": [],
   "source": [
    "leading = {}\n",
    "for w in words_2:\n",
    "    letter0 = w[0]\n",
    "    if letter0 in leading:\n",
    "        if w not in leading[letter0]:\n",
    "            leading[letter0].append(w)\n",
    "    else:\n",
    "        leading[letter0] = [w]"
   ]
  },
  {
   "cell_type": "code",
   "execution_count": 95,
   "metadata": {
    "slideshow": {
     "slide_type": "subslide"
    }
   },
   "outputs": [
    {
     "data": {
      "text/plain": [
       "['the', 'time', 'traveller', 'then', 'trousers', 'to']"
      ]
     },
     "execution_count": 95,
     "metadata": {},
     "output_type": "execute_result"
    }
   ],
   "source": [
    "leading['t']"
   ]
  },
  {
   "cell_type": "markdown",
   "metadata": {
    "slideshow": {
     "slide_type": "slide"
    }
   },
   "source": [
    "### 字典编程的注意事项"
   ]
  },
  {
   "cell_type": "markdown",
   "metadata": {
    "slideshow": {
     "slide_type": "subslide"
    }
   },
   "source": [
    "注意： **字典的键必须是可hash对象，如int/float/str等不可变对象。**但是，可变对象通常不是可hash对象，不能作为字典的键。字典的值没有要求。"
   ]
  },
  {
   "cell_type": "code",
   "execution_count": 96,
   "metadata": {
    "slideshow": {
     "slide_type": "subslide"
    }
   },
   "outputs": [
    {
     "data": {
      "text/plain": [
       "(100, 322818021289917443, -989510251869451035)"
      ]
     },
     "execution_count": 96,
     "metadata": {},
     "output_type": "execute_result"
    }
   ],
   "source": [
    "hash(100), hash(3.14), hash('123')"
   ]
  },
  {
   "cell_type": "code",
   "execution_count": 97,
   "metadata": {
    "slideshow": {
     "slide_type": "subslide"
    }
   },
   "outputs": [
    {
     "data": {
      "text/plain": [
       "314159"
      ]
     },
     "execution_count": 97,
     "metadata": {},
     "output_type": "execute_result"
    }
   ],
   "source": [
    "hash(float('inf'))"
   ]
  },
  {
   "cell_type": "markdown",
   "metadata": {
    "slideshow": {
     "slide_type": "subslide"
    }
   },
   "source": [
    "注意：在程序设计中，需要从字典中取出某个键值时，若该键不存在会导致KeyError，中断程序执行。为避免出现这样的问题，可以先检查该键是否存在，或者使用字典的get方法来获取键值。  \n",
    "get函数原型：  \n",
    "**dict.get(key, default=None)**"
   ]
  },
  {
   "cell_type": "code",
   "execution_count": 98,
   "metadata": {
    "slideshow": {
     "slide_type": "subslide"
    }
   },
   "outputs": [
    {
     "name": "stdout",
     "output_type": "stream",
     "text": [
      "pink\n"
     ]
    }
   ],
   "source": [
    "if 'cherry' in dic1:\n",
    "    print(dic1['cherry'])"
   ]
  },
  {
   "cell_type": "code",
   "execution_count": 99,
   "metadata": {
    "slideshow": {
     "slide_type": "subslide"
    }
   },
   "outputs": [
    {
     "data": {
      "text/plain": [
       "('pink', None)"
      ]
     },
     "execution_count": 99,
     "metadata": {},
     "output_type": "execute_result"
    }
   ],
   "source": [
    "dic1.get('cherry'), dic1.get('lemon')"
   ]
  },
  {
   "cell_type": "code",
   "execution_count": 100,
   "metadata": {
    "slideshow": {
     "slide_type": "subslide"
    }
   },
   "outputs": [
    {
     "data": {
      "text/plain": [
       "'default_color'"
      ]
     },
     "execution_count": 100,
     "metadata": {},
     "output_type": "execute_result"
    }
   ],
   "source": [
    "dic1.get('nobody', 'default_color')"
   ]
  },
  {
   "cell_type": "markdown",
   "metadata": {
    "slideshow": {
     "slide_type": "slide"
    }
   },
   "source": [
    "## 集合及其操作\n",
    "\n",
    "集合是不重复的元素构成的数据结构。"
   ]
  },
  {
   "cell_type": "markdown",
   "metadata": {
    "slideshow": {
     "slide_type": "slide"
    }
   },
   "source": [
    "### 创建集合\n",
    "\n",
    "可以使用花括号或者集合对象的构造方法创建集合。"
   ]
  },
  {
   "cell_type": "code",
   "execution_count": 101,
   "metadata": {
    "slideshow": {
     "slide_type": "subslide"
    }
   },
   "outputs": [
    {
     "data": {
      "text/plain": [
       "{1, 2, 3, 5}"
      ]
     },
     "execution_count": 101,
     "metadata": {},
     "output_type": "execute_result"
    }
   ],
   "source": [
    "s1 = {1, 2, 2, 3, 2, 5}\n",
    "s1"
   ]
  },
  {
   "cell_type": "code",
   "execution_count": 102,
   "metadata": {
    "slideshow": {
     "slide_type": "subslide"
    }
   },
   "outputs": [
    {
     "data": {
      "text/plain": [
       "{1, 2, 5, 21, 37, 40, 41}"
      ]
     },
     "execution_count": 102,
     "metadata": {},
     "output_type": "execute_result"
    }
   ],
   "source": [
    "s2 = set([1, 1, 21, 37, 40, 41, 5, 2])\n",
    "s2"
   ]
  },
  {
   "cell_type": "code",
   "execution_count": 103,
   "metadata": {
    "slideshow": {
     "slide_type": "subslide"
    }
   },
   "outputs": [
    {
     "data": {
      "text/plain": [
       "{'apple', 'banana', 'cake', 'juice', 'lemon'}"
      ]
     },
     "execution_count": 103,
     "metadata": {},
     "output_type": "execute_result"
    }
   ],
   "source": [
    "# 注意：集合元素是无序的。所以无法使用下标索引访问\n",
    "s3 = set(['apple', 'banana', 'cake','apple', 'lemon', 'juice'])\n",
    "#s3[3]\n",
    "s3"
   ]
  },
  {
   "cell_type": "markdown",
   "metadata": {},
   "source": [
    "**集合元素是无序的，不能使用下标索引访问，访问顺序也不确定**"
   ]
  },
  {
   "cell_type": "code",
   "execution_count": 104,
   "metadata": {
    "slideshow": {
     "slide_type": "subslide"
    }
   },
   "outputs": [
    {
     "name": "stdout",
     "output_type": "stream",
     "text": [
      "juice,cake,banana,lemon,apple,"
     ]
    }
   ],
   "source": [
    "for i in s3:\n",
    "    print(i, end= ',')  # 不要预测集合元素的遍历顺序"
   ]
  },
  {
   "cell_type": "markdown",
   "metadata": {
    "slideshow": {
     "slide_type": "slide"
    }
   },
   "source": [
    "### 集合的各种运算"
   ]
  },
  {
   "cell_type": "code",
   "execution_count": 105,
   "metadata": {
    "slideshow": {
     "slide_type": "subslide"
    }
   },
   "outputs": [
    {
     "data": {
      "text/plain": [
       "({1, 2, 3, 5, 21, 37, 40, 41}, {1, 2, 5})"
      ]
     },
     "execution_count": 105,
     "metadata": {},
     "output_type": "execute_result"
    }
   ],
   "source": [
    "s1 | s2, s1 & s2"
   ]
  },
  {
   "cell_type": "code",
   "execution_count": 106,
   "metadata": {
    "slideshow": {
     "slide_type": "subslide"
    }
   },
   "outputs": [
    {
     "data": {
      "text/plain": [
       "({3}, {21, 37, 40, 41})"
      ]
     },
     "execution_count": 106,
     "metadata": {},
     "output_type": "execute_result"
    }
   ],
   "source": [
    "s1 - s2, s2 - s1"
   ]
  },
  {
   "cell_type": "code",
   "execution_count": 107,
   "metadata": {
    "slideshow": {
     "slide_type": "subslide"
    }
   },
   "outputs": [
    {
     "data": {
      "text/plain": [
       "{3, 21, 37, 40, 41}"
      ]
     },
     "execution_count": 107,
     "metadata": {},
     "output_type": "execute_result"
    }
   ],
   "source": [
    "s1 ^ s2"
   ]
  },
  {
   "cell_type": "code",
   "execution_count": 108,
   "metadata": {
    "slideshow": {
     "slide_type": "subslide"
    }
   },
   "outputs": [
    {
     "data": {
      "text/plain": [
       "({1, 2, 5}, {1, 2, 3, 5, 21, 37, 40, 41})"
      ]
     },
     "execution_count": 108,
     "metadata": {},
     "output_type": "execute_result"
    }
   ],
   "source": [
    "s1.intersection(s2), s1.union(s2)"
   ]
  },
  {
   "cell_type": "code",
   "execution_count": 109,
   "metadata": {
    "slideshow": {
     "slide_type": "subslide"
    }
   },
   "outputs": [
    {
     "data": {
      "text/plain": [
       "set()"
      ]
     },
     "execution_count": 109,
     "metadata": {},
     "output_type": "execute_result"
    }
   ],
   "source": [
    "s3.intersection_update(s2)  # 类似_update方法会改变原集合对象\n",
    "s3"
   ]
  },
  {
   "cell_type": "markdown",
   "metadata": {
    "slideshow": {
     "slide_type": "slide"
    }
   },
   "source": [
    "## 序列对象的通用操作\n",
    "\n",
    "列表、元组、字符串、字节串都属于序列对象，可以使用一些通用的操作。"
   ]
  },
  {
   "cell_type": "markdown",
   "metadata": {
    "slideshow": {
     "slide_type": "subslide"
    }
   },
   "source": [
    "* 下标索引\n",
    "* 切片\n",
    "* 连接和重复\n",
    "* 成员检测\n",
    "* 比较\n",
    "* 排序"
   ]
  },
  {
   "cell_type": "code",
   "execution_count": 110,
   "metadata": {
    "slideshow": {
     "slide_type": "subslide"
    }
   },
   "outputs": [
    {
     "name": "stdout",
     "output_type": "stream",
     "text": [
      "w h r\n"
     ]
    }
   ],
   "source": [
    "first, second, *_, last = 'whatever'\n",
    "print(first,second, last)"
   ]
  },
  {
   "cell_type": "markdown",
   "metadata": {
    "slideshow": {
     "slide_type": "slide"
    }
   },
   "source": [
    "## 复合结构的通用操作\n",
    "\n",
    "列表、字典、集合等可变数据结构"
   ]
  },
  {
   "cell_type": "markdown",
   "metadata": {
    "slideshow": {
     "slide_type": "subslide"
    }
   },
   "source": [
    "* 成员检测 in, not in\n",
    "* 比较\n",
    "* 长度len()\n",
    "* 复制copy(), 清除clear()"
   ]
  },
  {
   "cell_type": "markdown",
   "metadata": {
    "slideshow": {
     "slide_type": "subslide"
    }
   },
   "source": [
    "* 解析表达式\n",
    "\n",
    "列表、字典和集合都有解析表达式，可以对可迭代对象进行遍历，生成一个新的列表、字典或集合。"
   ]
  },
  {
   "cell_type": "code",
   "execution_count": 111,
   "metadata": {
    "slideshow": {
     "slide_type": "subslide"
    }
   },
   "outputs": [
    {
     "name": "stdout",
     "output_type": "stream",
     "text": [
      "{0: '复', 1: '合', 2: '结', 3: '构', 4: '的', 5: '通', 6: '用', 7: '操', 8: '作'}\n",
      "{'复': 0, '合': 1, '结': 2, '构': 3, '的': 4, '通': 5, '用': 6, '操': 7, '作': 8}\n"
     ]
    }
   ],
   "source": [
    "phrase = '复合结构的通用操作'\n",
    "hash1 = {i:phrase[i] for i in range(len(phrase))}\n",
    "hash2 = {phrase[i]:i for i in range(len(phrase))}\n",
    "print(hash1)\n",
    "print(hash2) # 注意这个字典的元素可能更少"
   ]
  },
  {
   "cell_type": "markdown",
   "metadata": {
    "slideshow": {
     "slide_type": "slide"
    }
   },
   "source": [
    "# 复合数据的复制拷贝\n",
    "\n",
    "* 浅拷贝--使用copy()可以实现"
   ]
  },
  {
   "cell_type": "code",
   "execution_count": 112,
   "metadata": {
    "slideshow": {
     "slide_type": "subslide"
    }
   },
   "outputs": [
    {
     "data": {
      "text/plain": [
       "(93165512, 93100424, 93121800)"
      ]
     },
     "execution_count": 112,
     "metadata": {},
     "output_type": "execute_result"
    }
   ],
   "source": [
    "copy1 = [1, [2, 3, 4], [4, 5, 6,7]]\n",
    "copy2 = copy1.copy()\n",
    "copy3 = copy1[:]\n",
    "id(copy1), id(copy2), id(copy3)  # different instances"
   ]
  },
  {
   "cell_type": "code",
   "execution_count": 113,
   "metadata": {
    "slideshow": {
     "slide_type": "subslide"
    }
   },
   "outputs": [
    {
     "name": "stdout",
     "output_type": "stream",
     "text": [
      "['a', [2, 3, 4], [4, 5, 6, 7]]\n",
      "[1, [2, 3, 4], [4, 5, 6, 7]]\n",
      "[1, [2, 3, 4], [4, 5, 6, 7]]\n"
     ]
    }
   ],
   "source": [
    "copy1[0] = 'a'\n",
    "print(copy1)  # changed\n",
    "print(copy2)  # not changed\n",
    "print(copy3)  # not changed"
   ]
  },
  {
   "cell_type": "code",
   "execution_count": 114,
   "metadata": {
    "slideshow": {
     "slide_type": "subslide"
    }
   },
   "outputs": [
    {
     "data": {
      "text/plain": [
       "(93119112, 93119112, 93119112)"
      ]
     },
     "execution_count": 114,
     "metadata": {},
     "output_type": "execute_result"
    }
   ],
   "source": [
    "id(copy1[1]), id(copy2[1]), id(copy3[1])  # the same instance"
   ]
  },
  {
   "cell_type": "code",
   "execution_count": 115,
   "metadata": {
    "slideshow": {
     "slide_type": "subslide"
    }
   },
   "outputs": [
    {
     "name": "stdout",
     "output_type": "stream",
     "text": [
      "['a', ['x', 3, 4], [4, 5, 6, 7]]\n",
      "[1, ['x', 3, 4], [4, 5, 6, 7]]\n",
      "[1, ['x', 3, 4], [4, 5, 6, 7]]\n"
     ]
    }
   ],
   "source": [
    "copy2[1][0] = 'x'\n",
    "print(copy1)  # changed\n",
    "print(copy2)  # changed\n",
    "print(copy3)  # changed"
   ]
  },
  {
   "cell_type": "markdown",
   "metadata": {
    "slideshow": {
     "slide_type": "subslide"
    }
   },
   "source": [
    "* 深拷贝"
   ]
  },
  {
   "cell_type": "code",
   "execution_count": 116,
   "metadata": {
    "slideshow": {
     "slide_type": "subslide"
    }
   },
   "outputs": [
    {
     "data": {
      "text/plain": [
       "(93119112, 93165704)"
      ]
     },
     "execution_count": 116,
     "metadata": {},
     "output_type": "execute_result"
    }
   ],
   "source": [
    "import copy\n",
    "copy3 = copy.deepcopy(copy1)\n",
    "id(copy1[1]), id(copy3[1])  # different instances"
   ]
  },
  {
   "cell_type": "code",
   "execution_count": 117,
   "metadata": {
    "slideshow": {
     "slide_type": "subslide"
    }
   },
   "outputs": [
    {
     "name": "stdout",
     "output_type": "stream",
     "text": [
      "['a', ['x', 3, 4], [4, 5, 6, 7]]\n",
      "['a', ['x', 3, 4], ['y', 5, 6, 7]]\n"
     ]
    }
   ],
   "source": [
    "copy3[2][0] = 'y'\n",
    "print(copy1)  # not changed\n",
    "print(copy3)  # changed"
   ]
  }
 ],
 "metadata": {
  "anaconda-cloud": {},
  "celltoolbar": "Slideshow",
  "kernelspec": {
   "display_name": "Python 3",
   "language": "python",
   "name": "python3"
  },
  "language_info": {
   "codemirror_mode": {
    "name": "ipython",
    "version": 3
   },
   "file_extension": ".py",
   "mimetype": "text/x-python",
   "name": "python",
   "nbconvert_exporter": "python",
   "pygments_lexer": "ipython3",
   "version": "3.7.3"
  }
 },
 "nbformat": 4,
 "nbformat_minor": 2
}
