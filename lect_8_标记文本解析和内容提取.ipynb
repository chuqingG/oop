{
 "cells": [
  {
   "cell_type": "markdown",
   "metadata": {},
   "source": [
    "# 文本解析与内容提取\n",
    "\n",
    "## 利用Beautiful Soup处理HTML文档\n",
    "\n",
    "Beautiful Soup不是python标准库，所以需要下载安装后才能使用。在anaconda命令行运行：\n",
    "\n",
    "``` conda install beautifulsoup4``` \n",
    "\n",
    "或者\n",
    "\n",
    "``` conda install bs4```"
   ]
  },
  {
   "cell_type": "code",
   "execution_count": 1,
   "metadata": {},
   "outputs": [],
   "source": [
    "# 如果这个语句能正常运行，则bs4安装正确\n",
    "from bs4 import BeautifulSoup"
   ]
  },
  {
   "cell_type": "code",
   "execution_count": 2,
   "metadata": {},
   "outputs": [],
   "source": [
    "html = '''\n",
    "<!DOCTYPE html>\n",
    "<html lang=\"zh\">\n",
    "<head>\n",
    "    <meta http-equiv=\"Content-Type\" content=\"text/html; charset=utf-8\" />\n",
    "    <title>title of the sample</title>\n",
    "    <link rel=\"stylesheet\" type=\"text/css\" href=\"mystyle.css\" />\n",
    "    <script type=\"text/javascript\" src=\"http://no.where/js2.js\" />\n",
    "</head>\n",
    "<body>\n",
    "<h1  style=\"font-family:verdana\"> heading one </h1>   <hr />\n",
    "<a class=\"link\" href=\"http://www.w3school.com.cn/\" id=\"link1\">Visit W3School</a>\n",
    "<p class=\"poem\"> 天生我材必有用 </p>\n",
    "<a class=\"link\" href=\"http://www.ustc.edu.cn\" id=\"link2\">USTC, where dreams come true</a>\n",
    "<p class=\"text\">This is<br />a para<br />graph with line breaks</p>\n",
    "<p class=\"poem\"> 白云生处有人家 </p>\n",
    "<ol><li>item 1</li></ol>\n",
    "<table border=\"1\">\n",
    "<tr> <td>row 1, cell 1</td> <td>row 1, cell 2</td> </tr>\n",
    "<tr> <td>row 2, cell 1</td> <td>row 2, cell 2</td> </tr>\n",
    "</table>\n",
    "</body></html>\n",
    "'''"
   ]
  },
  {
   "cell_type": "markdown",
   "metadata": {},
   "source": [
    "### 工具试用\n",
    "\n",
    "1. 提取网页标题；\n",
    "\n",
    "2. 提取网页中的锚（anchor）链接(href)及其文本；\n",
    "\n",
    "3. 提取网页中class标记为poem的段落（P）文本。"
   ]
  },
  {
   "cell_type": "code",
   "execution_count": 3,
   "metadata": {},
   "outputs": [],
   "source": [
    "# 创建一个bs4.Beautifulsoup对象，指定使用python的标准html解析器\n",
    "doc1 = BeautifulSoup(html, 'html.parser')"
   ]
  },
  {
   "cell_type": "code",
   "execution_count": 4,
   "metadata": {},
   "outputs": [
    {
     "name": "stdout",
     "output_type": "stream",
     "text": [
      "the title of the web page:  title of the sample\n",
      "Visit W3School -> http://www.w3school.com.cn/\n",
      "USTC, where dreams come true -> http://www.ustc.edu.cn\n",
      " 天生我材必有用 \n",
      " 白云生处有人家 \n"
     ]
    }
   ],
   "source": [
    "print('the title of the web page: ', doc1.title.get_text())\n",
    "for anchor in doc1.find_all('a'):\n",
    "    print(anchor.get_text(), '->', anchor.get('href'))\n",
    "for poem in doc1.select('.poem'):\n",
    "    print(poem.get_text())"
   ]
  },
  {
   "cell_type": "code",
   "execution_count": 5,
   "metadata": {},
   "outputs": [
    {
     "data": {
      "text/plain": [
       "(bs4.BeautifulSoup, bs4.element.Tag, dict)"
      ]
     },
     "execution_count": 5,
     "metadata": {},
     "output_type": "execute_result"
    }
   ],
   "source": [
    "type(doc1), type(doc1.a), type(doc1.a.attrs)"
   ]
  },
  {
   "cell_type": "code",
   "execution_count": 6,
   "metadata": {},
   "outputs": [
    {
     "name": "stdout",
     "output_type": "stream",
     "text": [
      "tag object: <a class=\"link\" href=\"http://www.w3school.com.cn/\" id=\"link1\">Visit W3School</a>\n",
      "attributes:  {'class': ['link'], 'href': 'http://www.w3school.com.cn/', 'id': 'link1'}\n",
      "attribute: class =  ['link']\n",
      "text of the tag:  Visit W3School\n"
     ]
    }
   ],
   "source": [
    "print(\"tag object:\", doc1.a)\n",
    "print(\"attributes: \", doc1.a.attrs)\n",
    "print(\"attribute: class = \", doc1.a.attrs['class'])\n",
    "print(\"text of the tag: \", doc1.a.string)"
   ]
  },
  {
   "cell_type": "markdown",
   "metadata": {},
   "source": [
    "### Beautifulsoup的解析\n",
    "\n",
    "Beautifulsoup将HTML文档解析为一棵文档树，每个节点解释为对象。\n",
    "\n",
    "既然是树结构，就牵涉到树的层级，如父子关系，兄弟关系。可以使用prettify()直观查看树的层级结构。\n",
    "\n",
    "标签的名称、属性和标签内的文本均可以使用标签对象的属性和方法来访问。"
   ]
  },
  {
   "cell_type": "code",
   "execution_count": 7,
   "metadata": {},
   "outputs": [],
   "source": [
    "#print(doc1.prettify())  # the document tree"
   ]
  },
  {
   "cell_type": "markdown",
   "metadata": {},
   "source": [
    "### Beautifulsoup的对象类型\n",
    "\n",
    "* Tag对象，对应于HTML/XML标签\n",
    "* NavigableString对象，对应于标签内的文本\n",
    "* Beautifulsoup对象，表示文档对象\n",
    "* Comment对象，对应于注释"
   ]
  },
  {
   "cell_type": "code",
   "execution_count": 8,
   "metadata": {},
   "outputs": [
    {
     "data": {
      "text/plain": [
       "(bs4.element.Tag, bs4.BeautifulSoup, bs4.element.NavigableString)"
      ]
     },
     "execution_count": 8,
     "metadata": {},
     "output_type": "execute_result"
    }
   ],
   "source": [
    "type(doc1.title), type(doc1), type(doc1.title.string)"
   ]
  },
  {
   "cell_type": "code",
   "execution_count": 9,
   "metadata": {},
   "outputs": [
    {
     "data": {
      "text/plain": [
       "{'attrs': {},\n",
       " 'can_be_empty_element': False,\n",
       " 'contents': ['title of the sample'],\n",
       " 'hidden': False,\n",
       " 'known_xml': False,\n",
       " 'name': 'title',\n",
       " 'namespace': None,\n",
       " 'next_element': 'title of the sample',\n",
       " 'next_sibling': '\\n',\n",
       " 'parent': <head>\n",
       " <meta content=\"text/html; charset=utf-8\" http-equiv=\"Content-Type\"/>\n",
       " <title>title of the sample</title>\n",
       " <link href=\"mystyle.css\" rel=\"stylesheet\" type=\"text/css\"/>\n",
       " <script src=\"http://no.where/js2.js\" type=\"text/javascript\"></script>\n",
       " </head>,\n",
       " 'parser_class': bs4.BeautifulSoup,\n",
       " 'prefix': None,\n",
       " 'preserve_whitespace_tags': {'pre', 'textarea'},\n",
       " 'previous_element': '\\n',\n",
       " 'previous_sibling': '\\n'}"
      ]
     },
     "execution_count": 9,
     "metadata": {},
     "output_type": "execute_result"
    }
   ],
   "source": [
    "#doc1.__dict__\n",
    "doc1.title.__dict__\n",
    "#doc1.title.string.__dict__"
   ]
  },
  {
   "cell_type": "markdown",
   "metadata": {},
   "source": [
    "由于文档节点在文档树中，所以节点对象基本都有children, parents, previous_element, next_element, previous_sibling, next_sibling等属性，用来定位其在文档树中的位置。\n",
    "\n",
    "Tag对象和Beautifulsoup对象都有属性name和attrs，帮助我们访问标签的特征。"
   ]
  },
  {
   "cell_type": "code",
   "execution_count": 10,
   "metadata": {},
   "outputs": [
    {
     "name": "stdout",
     "output_type": "stream",
     "text": [
      "a\n",
      "{'class': ['link'], 'href': 'http://www.w3school.com.cn/', 'id': 'link1'}\n",
      "[document]\n",
      "{}\n"
     ]
    }
   ],
   "source": [
    "print(doc1.a.name)\n",
    "print(doc1.a.attrs)\n",
    "print(doc1.name)\n",
    "print(doc1.attrs)"
   ]
  },
  {
   "cell_type": "markdown",
   "metadata": {},
   "source": [
    "### Tag对象的属性和方法\n",
    "\n",
    "+ 标签对象的属性\n",
    "\n",
    "  * 标签的名称\n",
    "  * 标签的属性和属性值\n",
    "  * 标签内的文本"
   ]
  },
  {
   "cell_type": "code",
   "execution_count": 11,
   "metadata": {},
   "outputs": [
    {
     "name": "stdout",
     "output_type": "stream",
     "text": [
      "a\n",
      "{'class': ['link'], 'href': 'http://www.w3school.com.cn/', 'id': 'link1'}\n",
      "http://www.w3school.com.cn/\n"
     ]
    }
   ],
   "source": [
    "print(doc1.a.name)\n",
    "print(doc1.a.attrs)\n",
    "print(doc1.a.attrs['href'])"
   ]
  },
  {
   "cell_type": "markdown",
   "metadata": {},
   "source": [
    "除了使用标签的attrs字典来访问属性和值之外，我们也可以直接对标签对象使用下标来访问，或者使用get方法获取其属性值。"
   ]
  },
  {
   "cell_type": "code",
   "execution_count": 12,
   "metadata": {},
   "outputs": [
    {
     "name": "stdout",
     "output_type": "stream",
     "text": [
      "http://www.w3school.com.cn/\n",
      "http://www.w3school.com.cn/\n"
     ]
    }
   ],
   "source": [
    "print(doc1.a['href'])\n",
    "print(doc1.a.get('href'))  # 更安全，原因？"
   ]
  },
  {
   "cell_type": "markdown",
   "metadata": {},
   "source": [
    "若需要获取标签内的文本，则需要使用string属性，或text属性，或get_text方法。\n",
    "\n",
    "+ string与text属性的区别：\n",
    "\n",
    "  * string属性，获得当前标签的文本，若当前标签包含多个标签则返回None；\n",
    "  * text属性，当前标签及其子节点内的所有文本（拼接）形成的字符串\n",
    "  \n",
    "+ strings属性\n",
    "  * 当前标签内所有文本的生成器，用于遍历"
   ]
  },
  {
   "cell_type": "code",
   "execution_count": 13,
   "metadata": {},
   "outputs": [
    {
     "name": "stdout",
     "output_type": "stream",
     "text": [
      "Visit W3School\n",
      "Visit W3School\n",
      "Visit W3School\n"
     ]
    }
   ],
   "source": [
    "print(doc1.a.string)\n",
    "print(doc1.a.text)\n",
    "print(doc1.a.get_text())"
   ]
  },
  {
   "cell_type": "code",
   "execution_count": 14,
   "metadata": {},
   "outputs": [
    {
     "name": "stdout",
     "output_type": "stream",
     "text": [
      "None\n",
      "item 1\n",
      " row 1, cell 1 row 1, cell 2 \n",
      " row 1, cell 1 row 1, cell 2 \n"
     ]
    }
   ],
   "source": [
    "print(doc1.tr.string)  #  当前标签内子标签不止一个\n",
    "print(doc1.ol.string)  #  特殊情况，标签内只有一个子标签，返回其内层对象的string\n",
    "print(doc1.tr.text)\n",
    "print(doc1.tr.get_text())"
   ]
  },
  {
   "cell_type": "markdown",
   "metadata": {},
   "source": [
    "+ 获取Tag对象的上下文信息，可以访问下列属性；\n",
    "\n",
    "  * contents\n",
    "  * children\n",
    "  * descendants\n",
    "  * parent\n",
    "  * parents"
   ]
  },
  {
   "cell_type": "code",
   "execution_count": 15,
   "metadata": {},
   "outputs": [
    {
     "data": {
      "text/plain": [
       "['\\n',\n",
       " <meta content=\"text/html; charset=utf-8\" http-equiv=\"Content-Type\"/>,\n",
       " '\\n',\n",
       " <title>title of the sample</title>,\n",
       " '\\n',\n",
       " <link href=\"mystyle.css\" rel=\"stylesheet\" type=\"text/css\"/>,\n",
       " '\\n',\n",
       " <script src=\"http://no.where/js2.js\" type=\"text/javascript\"></script>,\n",
       " '\\n']"
      ]
     },
     "execution_count": 15,
     "metadata": {},
     "output_type": "execute_result"
    }
   ],
   "source": [
    "doc1.head.contents  # 注意这不是一个字符串的列表\n",
    "#type(doc1.head.contents[1])"
   ]
  },
  {
   "cell_type": "code",
   "execution_count": 16,
   "metadata": {},
   "outputs": [
    {
     "name": "stdout",
     "output_type": "stream",
     "text": [
      "tr\n",
      "tr\n"
     ]
    }
   ],
   "source": [
    "for i in doc1.table.children:  # 遍历直接子节点\n",
    "    if i.name: print(i.name)"
   ]
  },
  {
   "cell_type": "code",
   "execution_count": 17,
   "metadata": {},
   "outputs": [
    {
     "name": "stdout",
     "output_type": "stream",
     "text": [
      "tr\n",
      "td\n",
      "td\n",
      "tr\n",
      "td\n",
      "td\n"
     ]
    }
   ],
   "source": [
    "for i in doc1.table.descendants:  # 递归遍历子孙节点\n",
    "    if i.name: print(i.name)"
   ]
  },
  {
   "cell_type": "code",
   "execution_count": 18,
   "metadata": {},
   "outputs": [
    {
     "name": "stdout",
     "output_type": "stream",
     "text": [
      "<class 'list'> <class 'list_iterator'> <class 'generator'>\n",
      "<class 'bs4.element.Tag'> <class 'generator'>\n"
     ]
    }
   ],
   "source": [
    "print(type(doc1.head.contents),type(doc1.head.children),type(doc1.head.descendants))\n",
    "print(type(doc1.head.parent),type(doc1.head.parents))"
   ]
  },
  {
   "cell_type": "markdown",
   "metadata": {},
   "source": [
    "+ 上下文访问小结：\n",
    "\n",
    "  * contents, 获取直接子节点的列表，其中部分节点可能为回车符构成的NavigableString\n",
    "  * children，获取子节点的迭代器\n",
    "  * descendants， 递归获取所有子孙节点的生成器\n",
    "  * parent，获取父节点对象\n",
    "  * parents，获取父节点的生成器"
   ]
  },
  {
   "cell_type": "markdown",
   "metadata": {},
   "source": [
    "### 文档树的遍历\n",
    "\n"
   ]
  },
  {
   "cell_type": "code",
   "execution_count": 19,
   "metadata": {},
   "outputs": [],
   "source": [
    "def walk_over(node, level):\n",
    "    for i in node.children:\n",
    "        if i.name:  # 如果不是标签节点，则名称为None\n",
    "            print('-' * level, i.name)\n",
    "            walk_over(i, level = level + 1)"
   ]
  },
  {
   "cell_type": "code",
   "execution_count": 20,
   "metadata": {},
   "outputs": [
    {
     "name": "stdout",
     "output_type": "stream",
     "text": [
      " h1\n",
      " hr\n",
      " a\n",
      " p\n",
      " a\n",
      " p\n",
      "- br\n",
      "- br\n",
      " p\n",
      " ol\n",
      "- li\n",
      " table\n",
      "- tr\n",
      "-- td\n",
      "-- td\n",
      "- tr\n",
      "-- td\n",
      "-- td\n"
     ]
    }
   ],
   "source": [
    "level = 0\n",
    "walk_over(doc1.body, level)"
   ]
  },
  {
   "cell_type": "markdown",
   "metadata": {},
   "source": [
    "+ 当前节点的遍历\n",
    "\n",
    "  * 遍历当前节点的子节点，使用 contents 或者 children\n",
    "  * 遍历当前节点的所有子孙节点，使用 descendants\n"
   ]
  },
  {
   "cell_type": "code",
   "execution_count": 21,
   "metadata": {},
   "outputs": [
    {
     "name": "stdout",
     "output_type": "stream",
     "text": [
      "meta\n",
      "title\n",
      "link\n",
      "script\n"
     ]
    }
   ],
   "source": [
    "for i in doc1.head.children:\n",
    "    if i.name:  print(i.name)"
   ]
  },
  {
   "cell_type": "markdown",
   "metadata": {},
   "source": [
    "+ 文档树的遍历\n",
    "\n",
    "  * 遍历之前/之后的兄弟节点\n",
    "  * 遍历之前/之后的节点\n",
    "  * 向上遍历"
   ]
  },
  {
   "cell_type": "code",
   "execution_count": 22,
   "metadata": {},
   "outputs": [
    {
     "name": "stdout",
     "output_type": "stream",
     "text": [
      "hr\n",
      "a\n",
      "p\n",
      "a\n",
      "p\n",
      "p\n",
      "ol\n",
      "table\n"
     ]
    }
   ],
   "source": [
    "for i in doc1.h1.next_siblings:\n",
    "    if i.name:  print(i.name)"
   ]
  },
  {
   "cell_type": "code",
   "execution_count": 23,
   "metadata": {},
   "outputs": [
    {
     "name": "stdout",
     "output_type": "stream",
     "text": [
      "li\n",
      "table\n",
      "tr\n",
      "td\n",
      "td\n",
      "tr\n",
      "td\n",
      "td\n"
     ]
    }
   ],
   "source": [
    "for i in doc1.ol.next_elements:\n",
    "    if i.name:  print(i.name)"
   ]
  },
  {
   "cell_type": "markdown",
   "metadata": {},
   "source": [
    "* next_sibling 下一个兄弟节点\n",
    "* next_siblings 下个兄弟节点迭代器\n",
    "* next_element 下一个节点，不分层次\n",
    "* next_elements 下个节点迭代器\n",
    "\n",
    "前缀换成previous指的是上一个，sibling和element等含义类似"
   ]
  },
  {
   "cell_type": "code",
   "execution_count": 24,
   "metadata": {},
   "outputs": [
    {
     "name": "stdout",
     "output_type": "stream",
     "text": [
      "body\n",
      "html\n",
      "[document]\n"
     ]
    }
   ],
   "source": [
    "for i in doc1.a.parents:\n",
    "    if i.name:  print(i.name)"
   ]
  },
  {
   "cell_type": "markdown",
   "metadata": {},
   "source": [
    "向上遍历\n",
    "\n",
    "* parent， 当前节点的父节点\n",
    "* parents， 父节点迭代器"
   ]
  },
  {
   "cell_type": "markdown",
   "metadata": {},
   "source": [
    "## 文档树的搜索\n",
    "\n",
    "* Beautifulsoup.find_all方法，作用：提取满足要求的标签对象列表。\n",
    "\n",
    "find_all方法的第一个参数为name，指的是标签名"
   ]
  },
  {
   "cell_type": "code",
   "execution_count": 25,
   "metadata": {},
   "outputs": [
    {
     "data": {
      "text/plain": [
       "[<p class=\"poem\"> 天生我材必有用 </p>,\n",
       " <p class=\"text\">This is<br/>a para<br/>graph with line breaks</p>,\n",
       " <p class=\"poem\"> 白云生处有人家 </p>]"
      ]
     },
     "execution_count": 25,
     "metadata": {},
     "output_type": "execute_result"
    }
   ],
   "source": [
    "doc1.find_all('p')"
   ]
  },
  {
   "cell_type": "code",
   "execution_count": 26,
   "metadata": {},
   "outputs": [
    {
     "data": {
      "text/plain": [
       "[<h1 style=\"font-family:verdana\"> heading one </h1>,\n",
       " <td>row 1, cell 1</td>,\n",
       " <td>row 1, cell 2</td>,\n",
       " <td>row 2, cell 1</td>,\n",
       " <td>row 2, cell 2</td>]"
      ]
     },
     "execution_count": 26,
     "metadata": {},
     "output_type": "execute_result"
    }
   ],
   "source": [
    "doc1.find_all(['h1','td'])"
   ]
  },
  {
   "cell_type": "markdown",
   "metadata": {},
   "source": [
    "+ name参数的几种情形\n",
    "\n",
    "  * 字符串，匹配标签名\n",
    "  * 字符串列表，匹配多个标签\n",
    "  * True，找出所有标签\n",
    "  * 正则表达式，匹配所有满足表达式的标签\n",
    "  * 函数，返回True的Tag"
   ]
  },
  {
   "cell_type": "code",
   "execution_count": 27,
   "metadata": {},
   "outputs": [
    {
     "data": {
      "text/plain": [
       "[<h1 style=\"font-family:verdana\"> heading one </h1>]"
      ]
     },
     "execution_count": 27,
     "metadata": {},
     "output_type": "execute_result"
    }
   ],
   "source": [
    "#例如：在文档中找到所有标题类标签。\n",
    "import re\n",
    "doc1.find_all(re.compile(\"^h\\d\"))"
   ]
  },
  {
   "cell_type": "markdown",
   "metadata": {},
   "source": [
    "find_all方法的第二个参数为attrs，指的是标签的属性，需要指定属性名和值的键值对进行筛选。"
   ]
  },
  {
   "cell_type": "code",
   "execution_count": 28,
   "metadata": {},
   "outputs": [
    {
     "data": {
      "text/plain": [
       "[<p class=\"poem\"> 天生我材必有用 </p>, <p class=\"poem\"> 白云生处有人家 </p>]"
      ]
     },
     "execution_count": 28,
     "metadata": {},
     "output_type": "execute_result"
    }
   ],
   "source": [
    "doc1.find_all(attrs = {'class':'poem'})"
   ]
  },
  {
   "cell_type": "code",
   "execution_count": 29,
   "metadata": {},
   "outputs": [
    {
     "data": {
      "text/plain": [
       "[<a class=\"link\" href=\"http://www.w3school.com.cn/\" id=\"link1\">Visit W3School</a>,\n",
       " <a class=\"link\" href=\"http://www.ustc.edu.cn\" id=\"link2\">USTC, where dreams come true</a>]"
      ]
     },
     "execution_count": 29,
     "metadata": {},
     "output_type": "execute_result"
    }
   ],
   "source": [
    "doc1.find_all(attrs = {'class':'link'})"
   ]
  },
  {
   "cell_type": "markdown",
   "metadata": {},
   "source": [
    "若需要搜索标签的文本，则可以指定参数text."
   ]
  },
  {
   "cell_type": "code",
   "execution_count": 30,
   "metadata": {},
   "outputs": [
    {
     "data": {
      "text/plain": [
       "[' 白云生处有人家 ']"
      ]
     },
     "execution_count": 30,
     "metadata": {},
     "output_type": "execute_result"
    }
   ],
   "source": [
    "doc1.find_all(text = re.compile('白云'))"
   ]
  },
  {
   "cell_type": "markdown",
   "metadata": {},
   "source": [
    "* Beautifulsoup.find_all小结\n",
    "\n",
    "```\n",
    "  Beautifulsoup.find_all(name=None, attrs={}, recursive=True, text=None, limit=None, **kwargs)\n",
    "```\n",
    "name = 标签的名称或匹配准则，attrs=由(属性名=匹配准则)构成的字典，对属性的值进行过滤（准则可以是字符串/字符串列表/正则表达式等）。\n",
    "\n",
    "recursive =是否递归检索所有子孙节点；text=搜索指定文本；limit=限制搜索结果量"
   ]
  },
  {
   "cell_type": "markdown",
   "metadata": {},
   "source": [
    "## 使用CSS选择器提取内容\n",
    "\n",
    "常用CSS选择器\n",
    "\n",
    "* 标签选择器，对于同一种HTML标签指定样式；\n",
    "\n",
    "* 类别选择器(class)，对于同一个类别指定样式；\n",
    "\n",
    "* ID选择器，对于特定元素指定样式，ID是唯一的。"
   ]
  },
  {
   "cell_type": "markdown",
   "metadata": {},
   "source": [
    "CSS示例，假设我们有一个style.css文件，样式表如下：\n",
    "\n",
    "```\n",
    "  p{font-size:12px; background:#0000CC;}\n",
    "\n",
    "  .peom{color:#FF0000; }\n",
    "\n",
    "  #link1{color:#FF0000;}\n",
    "\n",
    "```\n",
    "分别指定了P（段落）标签的样式，类别(class=)peom的样式，ID(id=)link1的样式"
   ]
  },
  {
   "cell_type": "markdown",
   "metadata": {},
   "source": [
    "利用CSS选择器提取数据时，我们可以使用soup对象的select方法。\n",
    "\n",
    "* 利用标签提取"
   ]
  },
  {
   "cell_type": "code",
   "execution_count": 31,
   "metadata": {},
   "outputs": [
    {
     "data": {
      "text/plain": [
       "[<p class=\"poem\"> 天生我材必有用 </p>,\n",
       " <p class=\"text\">This is<br/>a para<br/>graph with line breaks</p>,\n",
       " <p class=\"poem\"> 白云生处有人家 </p>]"
      ]
     },
     "execution_count": 31,
     "metadata": {},
     "output_type": "execute_result"
    }
   ],
   "source": [
    "p = doc1.select('p')\n",
    "p"
   ]
  },
  {
   "cell_type": "code",
   "execution_count": 32,
   "metadata": {},
   "outputs": [
    {
     "name": "stdout",
     "output_type": "stream",
     "text": [
      "data type:  <class 'list'>\n",
      "data length:  3\n",
      "<p class=\"poem\"> 天生我材必有用 </p>\n",
      "<p class=\"text\">This is<br/>a para<br/>graph with line breaks</p>\n",
      "<p class=\"poem\"> 白云生处有人家 </p>\n"
     ]
    }
   ],
   "source": [
    "print('data type: ', type(p))\n",
    "print('data length: ', len(p))\n",
    "for i in p:\n",
    "    print(i)"
   ]
  },
  {
   "cell_type": "code",
   "execution_count": 33,
   "metadata": {},
   "outputs": [
    {
     "name": "stdout",
     "output_type": "stream",
     "text": [
      " 天生我材必有用 \n",
      "This isa paragraph with line breaks\n",
      " 白云生处有人家 \n"
     ]
    }
   ],
   "source": [
    "for i in p:\n",
    "    print(i.get_text())"
   ]
  },
  {
   "cell_type": "code",
   "execution_count": 34,
   "metadata": {},
   "outputs": [
    {
     "data": {
      "text/plain": [
       "[<a class=\"link\" href=\"http://www.w3school.com.cn/\" id=\"link1\">Visit W3School</a>,\n",
       " <a class=\"link\" href=\"http://www.ustc.edu.cn\" id=\"link2\">USTC, where dreams come true</a>]"
      ]
     },
     "execution_count": 34,
     "metadata": {},
     "output_type": "execute_result"
    }
   ],
   "source": [
    "doc1.select('a')"
   ]
  },
  {
   "cell_type": "code",
   "execution_count": 35,
   "metadata": {},
   "outputs": [
    {
     "name": "stdout",
     "output_type": "stream",
     "text": [
      "['link'] http://www.w3school.com.cn/ Visit W3School\n",
      "['link'] http://www.ustc.edu.cn USTC, where dreams come true\n"
     ]
    }
   ],
   "source": [
    "for i in doc1.select('a'):\n",
    "    print(i.get('class'), i.get('href'), i.string)"
   ]
  },
  {
   "cell_type": "code",
   "execution_count": 36,
   "metadata": {},
   "outputs": [
    {
     "name": "stdout",
     "output_type": "stream",
     "text": [
      "row 1, cell 1\n",
      "row 1, cell 2\n",
      "row 2, cell 1\n",
      "row 2, cell 2\n"
     ]
    }
   ],
   "source": [
    "for td in doc1.select('td'):\n",
    "    print(td.text)"
   ]
  },
  {
   "cell_type": "code",
   "execution_count": 37,
   "metadata": {},
   "outputs": [
    {
     "name": "stdout",
     "output_type": "stream",
     "text": [
      " row 1, cell 1 row 1, cell 2 \n",
      " row 2, cell 1 row 2, cell 2 \n"
     ]
    }
   ],
   "source": [
    "for tr in doc1.select('tr'):\n",
    "    print(tr.text)  # 注意和tr.string的结果进行区分"
   ]
  },
  {
   "cell_type": "markdown",
   "metadata": {},
   "source": [
    "* 利用类别(class)提取\n"
   ]
  },
  {
   "cell_type": "code",
   "execution_count": 38,
   "metadata": {},
   "outputs": [
    {
     "name": "stdout",
     "output_type": "stream",
     "text": [
      "[<p class=\"poem\"> 天生我材必有用 </p>, <p class=\"poem\"> 白云生处有人家 </p>]\n",
      "[<link href=\"mystyle.css\" rel=\"stylesheet\" type=\"text/css\"/>]\n"
     ]
    }
   ],
   "source": [
    "print(doc1.select('.poem'))\n",
    "print(doc1.select('link'))"
   ]
  },
  {
   "cell_type": "markdown",
   "metadata": {},
   "source": [
    "* 利用ID提取\n",
    "\n",
    "注意ID虽然要求是唯一的，但是select仍然返回列表"
   ]
  },
  {
   "cell_type": "code",
   "execution_count": 39,
   "metadata": {},
   "outputs": [
    {
     "data": {
      "text/plain": [
       "[<a class=\"link\" href=\"http://www.w3school.com.cn/\" id=\"link1\">Visit W3School</a>]"
      ]
     },
     "execution_count": 39,
     "metadata": {},
     "output_type": "execute_result"
    }
   ],
   "source": [
    "doc1.select('#link1')"
   ]
  },
  {
   "cell_type": "markdown",
   "metadata": {},
   "source": [
    "* CSS选择器小结\n",
    "  - 选择标签时，标签名不需要修饰；\n",
    "\n",
    "  - 选择类别时，需要前缀句点'.'\n",
    "\n",
    "  - 选择ID时，需要前缀'#'\n",
    "  \n",
    "  - select方法总是返回一个列表"
   ]
  },
  {
   "cell_type": "code",
   "execution_count": 40,
   "metadata": {},
   "outputs": [
    {
     "name": "stdout",
     "output_type": "stream",
     "text": [
      "[<p class=\"poem\"> 天生我材必有用 </p>, <p class=\"poem\"> 白云生处有人家 </p>]\n",
      "[<p class=\"poem\"> 天生我材必有用 </p>, <p class=\"poem\"> 白云生处有人家 </p>]\n"
     ]
    }
   ],
   "source": [
    "# 组合选择\n",
    "print(doc1.select('p.poem'))\n",
    "print(doc1.select('p[class=\"poem\"]'))"
   ]
  },
  {
   "cell_type": "markdown",
   "metadata": {},
   "source": [
    "## 解析器选项\n",
    "\n",
    "--------\n",
    "| 解析器  |  参数 |\n",
    "|----|----|\n",
    "| 内置HTML解析器  |  \"html.parser\" |\n",
    "| lxml HTML解析器  |  \"lxml\" |\n",
    "| lxml XML解析器  |  \"xml\" |\n",
    "| html5lib  |  \"html5lib\" |\n"
   ]
  },
  {
   "cell_type": "markdown",
   "metadata": {},
   "source": [
    "推荐使用lxml作为解析器,因为它的解析速度快，容错能力也比较强。\n",
    "\n",
    "如果一段HTML或XML文档格式不正确的话,那么在不同的解析器中返回的结果可能是不一样的。"
   ]
  },
  {
   "cell_type": "markdown",
   "metadata": {},
   "source": [
    "## 从文件/网络进行解析\n",
    "\n",
    "拷贝一个html文件到当前目录，假设文件名为sample.html。\n",
    "\n",
    "Python会帮我们完成文件解码的问题，并将所有字符串转换为unicode字符串。\n",
    "\n",
    "下面我们从互联网下载一个网页进行解析。"
   ]
  },
  {
   "cell_type": "code",
   "execution_count": 41,
   "metadata": {},
   "outputs": [],
   "source": [
    "#doc2 = BeautifulSoup(open(\"sample.html\"))"
   ]
  },
  {
   "cell_type": "code",
   "execution_count": 42,
   "metadata": {},
   "outputs": [],
   "source": [
    "import urllib.request\n",
    "f = urllib.request.urlopen(\"http://news.baidu.com\")"
   ]
  },
  {
   "cell_type": "code",
   "execution_count": 43,
   "metadata": {},
   "outputs": [],
   "source": [
    "source = f.read().decode()\n",
    "doc2 = BeautifulSoup(source, 'lxml')"
   ]
  },
  {
   "cell_type": "code",
   "execution_count": 44,
   "metadata": {},
   "outputs": [
    {
     "data": {
      "text/plain": [
       "[<a data-path=\"s?wd=\" href=\"https://www.baidu.com/\">网页</a>,\n",
       " <a data-path=\"f?kw=\" href=\"http://tieba.baidu.com/\">贴吧</a>,\n",
       " <a data-path=\"search?ct=17&amp;pn=0&amp;tn=ikaslist&amp;rn=10&amp;lm=0&amp;word=\" href=\"https://zhidao.baidu.com/\">知道</a>,\n",
       " <a data-path=\"search?fr=news&amp;ie=utf-8&amp;key=\" href=\"http://music.baidu.com/\">音乐</a>,\n",
       " <a data-path=\"search/index?ct=201326592&amp;cl=2&amp;lm=-1&amp;tn=baiduimage&amp;istype=2&amp;fm=&amp;pv=&amp;z=0&amp;word=\" href=\"http://image.baidu.com/\">图片</a>]"
      ]
     },
     "execution_count": 44,
     "metadata": {},
     "output_type": "execute_result"
    }
   ],
   "source": [
    "doc2.find_all('a')[:5]"
   ]
  },
  {
   "cell_type": "markdown",
   "metadata": {},
   "source": [
    "官方参考：\n",
    "\n",
    "https://beautifulsoup.readthedocs.io/zh_CN/v4.4.0/\n"
   ]
  }
 ],
 "metadata": {
  "anaconda-cloud": {},
  "kernelspec": {
   "display_name": "Python [conda root]",
   "language": "python",
   "name": "conda-root-py"
  },
  "language_info": {
   "codemirror_mode": {
    "name": "ipython",
    "version": 3
   },
   "file_extension": ".py",
   "mimetype": "text/x-python",
   "name": "python",
   "nbconvert_exporter": "python",
   "pygments_lexer": "ipython3",
   "version": "3.6.4"
  }
 },
 "nbformat": 4,
 "nbformat_minor": 2
}
