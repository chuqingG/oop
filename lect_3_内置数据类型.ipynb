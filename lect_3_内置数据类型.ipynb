{
 "cells": [
  {
   "cell_type": "markdown",
   "metadata": {
    "slideshow": {
     "slide_type": "slide"
    }
   },
   "source": [
    "# 内置数据类型\n",
    "\n",
    "* 不同数据类型支持不同的运算和操作\n",
    "* 根据需要的操作来选择数据类型\n",
    "* 内置数据类型分为：简单数据、复合数据"
   ]
  },
  {
   "cell_type": "markdown",
   "metadata": {
    "slideshow": {
     "slide_type": "subslide"
    }
   },
   "source": [
    "简单数据类型\n",
    "\n",
    "* 数值数据\n",
    "<ul>\n",
    "    <li>整数 int</li>\n",
    "    <li>浮点数 float</li>\n",
    "    <li>复数 complex</li>\n",
    "    <li>布尔值 bool</li>\n",
    "</ul>\n",
    "* 字符串 str"
   ]
  },
  {
   "cell_type": "markdown",
   "metadata": {
    "slideshow": {
     "slide_type": "subslide"
    }
   },
   "source": [
    "问题：以下问题如何选择数据类型。\n",
    "\n",
    "<ol>\n",
    "    <li>3的100次方是多少？</li>\n",
    "    <li>3的100次方里520是否出现过？</li>\n",
    "    <li>比较合肥2018年下雨和不下雨的天气里平均气温高低。</li>\n",
    "<ol>\n",
    "1. int  \n",
    "2. int \n",
    "3. float"
   ]
  },
  {
   "cell_type": "markdown",
   "metadata": {
    "slideshow": {
     "slide_type": "slide"
    }
   },
   "source": [
    "## int数据类型\n",
    "\n",
    "* 整数类型没有上限\n",
    "* 数字默认为十进制\n",
    "* 不同进制使用不同前缀表示"
   ]
  },
  {
   "cell_type": "code",
   "execution_count": 1,
   "metadata": {
    "slideshow": {
     "slide_type": "subslide"
    }
   },
   "outputs": [
    {
     "data": {
      "text/plain": [
       "(123, 83, 291)"
      ]
     },
     "execution_count": 1,
     "metadata": {},
     "output_type": "execute_result"
    }
   ],
   "source": [
    "a1 = 123  # decimal\n",
    "a2 = 0o123  # octal\n",
    "a3 = 0x123  # hexadecimal\n",
    "(a1,a2,a3)"
   ]
  },
  {
   "cell_type": "markdown",
   "metadata": {
    "slideshow": {
     "slide_type": "subslide"
    }
   },
   "source": [
    "整数的运算\n",
    "\n",
    "* 整数的运算支持加、减、乘、除、乘方（幂运算）、整除、求余数等\n",
    "* 若操作数为整数，则除了除法外，运算结果都是整数类型\n",
    "* 整数和浮点数类型混合运算，运算结果为浮点数类型"
   ]
  },
  {
   "cell_type": "code",
   "execution_count": 2,
   "metadata": {
    "slideshow": {
     "slide_type": "subslide"
    }
   },
   "outputs": [
    {
     "data": {
      "text/plain": [
       "(579, 333, 56088)"
      ]
     },
     "execution_count": 2,
     "metadata": {},
     "output_type": "execute_result"
    }
   ],
   "source": [
    "123 + 456, 456 - 123, 123 * 456"
   ]
  },
  {
   "cell_type": "code",
   "execution_count": 3,
   "metadata": {
    "slideshow": {
     "slide_type": "subslide"
    }
   },
   "outputs": [
    {
     "data": {
      "text/plain": [
       "(2, 1, (2, 1))"
      ]
     },
     "execution_count": 3,
     "metadata": {},
     "output_type": "execute_result"
    }
   ],
   "source": [
    "9 // 4, 9 % 4, divmod(9,4) # 求整数商，求余数，同时求整数商和余数"
   ]
  },
  {
   "cell_type": "markdown",
   "metadata": {
    "slideshow": {
     "slide_type": "subslide"
    }
   },
   "source": [
    "求模运算在正数上比较容易理解，负数处理容易出错，需要谨慎处理。"
   ]
  },
  {
   "cell_type": "code",
   "execution_count": 4,
   "metadata": {
    "slideshow": {
     "slide_type": "subslide"
    }
   },
   "outputs": [
    {
     "data": {
      "text/plain": [
       "((2, 1), (-3, 3), (-3, -3), (2, -1))"
      ]
     },
     "execution_count": 4,
     "metadata": {},
     "output_type": "execute_result"
    }
   ],
   "source": [
    "divmod(9,4), divmod(-9,4), divmod(9,-4), divmod(-9,-4)"
   ]
  },
  {
   "cell_type": "code",
   "execution_count": 5,
   "metadata": {
    "slideshow": {
     "slide_type": "subslide"
    }
   },
   "outputs": [
    {
     "data": {
      "text/plain": [
       "(2, -3, -3, 2)"
      ]
     },
     "execution_count": 5,
     "metadata": {},
     "output_type": "execute_result"
    }
   ],
   "source": [
    "import math\n",
    "# 求模时，整数商的计算为向下求整\n",
    "math.floor(9/4),math.floor(-9/4),math.floor(9/-4),math.floor(-9/-4)"
   ]
  },
  {
   "cell_type": "markdown",
   "metadata": {
    "slideshow": {
     "slide_type": "subslide"
    }
   },
   "source": [
    "几种常见的求整数方法\n",
    "\n",
    "* int 丢弃小数求整\n",
    "* round 四舍五入求整\n",
    "* floor 向下求整\n",
    "* ceil 向上求整"
   ]
  },
  {
   "cell_type": "code",
   "execution_count": 6,
   "metadata": {
    "slideshow": {
     "slide_type": "subslide"
    }
   },
   "outputs": [
    {
     "data": {
      "text/plain": [
       "(3, -3, 3, -3, 3, -4, 4, -3)"
      ]
     },
     "execution_count": 6,
     "metadata": {},
     "output_type": "execute_result"
    }
   ],
   "source": [
    "x1 = 3.21\n",
    "int(x1),int(-x1),round(x1),round(-x1),math.floor(x1),math.floor(-x1),math.ceil(x1),math.ceil(-x1)"
   ]
  },
  {
   "cell_type": "code",
   "execution_count": 7,
   "metadata": {
    "slideshow": {
     "slide_type": "subslide"
    }
   },
   "outputs": [
    {
     "data": {
      "text/plain": [
       "(6, -6, 7, -7, 6, -7, 7, -6)"
      ]
     },
     "execution_count": 7,
     "metadata": {},
     "output_type": "execute_result"
    }
   ],
   "source": [
    "x2 = 6.78\n",
    "int(x2),int(-x2),round(x2),round(-x2),math.floor(x2),math.floor(-x2),math.ceil(x2),math.ceil(-x2)"
   ]
  },
  {
   "cell_type": "markdown",
   "metadata": {
    "slideshow": {
     "slide_type": "slide"
    }
   },
   "source": [
    "## float浮点类型\n",
    "\n",
    "* 浮点类型表示实数\n",
    "* 浮点数有精度限制\n",
    "* 浮点数有上下限\n",
    "* 浮点数运算有误差！！"
   ]
  },
  {
   "cell_type": "code",
   "execution_count": 8,
   "metadata": {
    "slideshow": {
     "slide_type": "subslide"
    }
   },
   "outputs": [
    {
     "data": {
      "text/plain": [
       "(float, float, float, float, float)"
      ]
     },
     "execution_count": 8,
     "metadata": {},
     "output_type": "execute_result"
    }
   ],
   "source": [
    "type(0.123),type(4.56),type(789.0),type(1.),type(2.)"
   ]
  },
  {
   "cell_type": "code",
   "execution_count": 9,
   "metadata": {
    "slideshow": {
     "slide_type": "subslide"
    }
   },
   "outputs": [
    {
     "data": {
      "text/plain": [
       "(int, tuple, float, float, int)"
      ]
     },
     "execution_count": 9,
     "metadata": {},
     "output_type": "execute_result"
    }
   ],
   "source": [
    "# 逗号，句点，分号都不可乱点\n",
    "x1 = 2\n",
    "x2 = 2,\n",
    "x3 = 2.\n",
    "x4 = .2\n",
    "x5 = 2;\n",
    "type(x1), type(x2), type(x3), type(x4), type(x5)"
   ]
  },
  {
   "cell_type": "code",
   "execution_count": 4,
   "metadata": {
    "slideshow": {
     "slide_type": "subslide"
    }
   },
   "outputs": [
    {
     "name": "stdout",
     "output_type": "stream",
     "text": [
      "True\n",
      "True\n",
      "<class 'float'>\n"
     ]
    }
   ],
   "source": [
    "print(2..is_integer())  # 注意句点的不同含义\n",
    "a = 2.0\n",
    "print(a.is_integer())\n",
    "print(type(2.))"
   ]
  },
  {
   "cell_type": "code",
   "execution_count": 11,
   "metadata": {
    "slideshow": {
     "slide_type": "subslide"
    }
   },
   "outputs": [
    {
     "data": {
      "text/plain": [
       "(1.2e+34, 5.6e-78)"
      ]
     },
     "execution_count": 11,
     "metadata": {},
     "output_type": "execute_result"
    }
   ],
   "source": [
    "1.2e34, 5.6e-78  # 科学计数法"
   ]
  },
  {
   "cell_type": "code",
   "execution_count": 12,
   "metadata": {
    "slideshow": {
     "slide_type": "subslide"
    }
   },
   "outputs": [],
   "source": [
    "#注意科学计数法的错误写法\n",
    "#1.1 e34\n",
    "#1.1e 34\n",
    "#1.1e3.0"
   ]
  },
  {
   "cell_type": "code",
   "execution_count": 13,
   "metadata": {
    "slideshow": {
     "slide_type": "subslide"
    }
   },
   "outputs": [
    {
     "name": "stdout",
     "output_type": "stream",
     "text": [
      "309\n"
     ]
    }
   ],
   "source": [
    "# 探测正浮点数的边界\n",
    "import math\n",
    "x1 = 1.0; n=0\n",
    "while not math.isinf(x1):  #inf表示正无穷\n",
    "    x1 = x1*10.0\n",
    "    n += 1\n",
    "print(n)"
   ]
  },
  {
   "cell_type": "code",
   "execution_count": 18,
   "metadata": {
    "slideshow": {
     "slide_type": "subslide"
    }
   },
   "outputs": [
    {
     "data": {
      "text/plain": [
       "(1.7e+308, inf, inf, 1e+308, 1.79e+308, inf, inf, 1.797e+308)"
      ]
     },
     "execution_count": 18,
     "metadata": {},
     "output_type": "execute_result"
    }
   ],
   "source": [
    "1.7e308, 1.8e308, 1.7e309, 1e308, 1.79e308, 1.799e308, 1.798e308, 1.797e308"
   ]
  },
  {
   "cell_type": "code",
   "execution_count": 15,
   "metadata": {
    "slideshow": {
     "slide_type": "subslide"
    }
   },
   "outputs": [
    {
     "name": "stdout",
     "output_type": "stream",
     "text": [
      "324\n"
     ]
    }
   ],
   "source": [
    "#  探测正无穷小\n",
    "x1 = 1.0; n=0\n",
    "while x1:  # When will this loop end?\n",
    "    x1 = x1/10.0\n",
    "    n += 1\n",
    "print(n)"
   ]
  },
  {
   "cell_type": "markdown",
   "metadata": {
    "slideshow": {
     "slide_type": "subslide"
    }
   },
   "source": [
    "眼睛睁大点"
   ]
  },
  {
   "cell_type": "code",
   "execution_count": 26,
   "metadata": {
    "slideshow": {
     "slide_type": "fragment"
    }
   },
   "outputs": [
    {
     "data": {
      "text/plain": [
       "(5e-324, 1e-323, True, 0.0, 0.0, 5e-324)"
      ]
     },
     "execution_count": 26,
     "metadata": {},
     "output_type": "execute_result"
    }
   ],
   "source": [
    "3e-324, 1.2e-323, 8e322 == 8e522, 1e-324, 2.4e-324, 2.5e-324"
   ]
  },
  {
   "cell_type": "markdown",
   "metadata": {
    "slideshow": {
     "slide_type": "subslide"
    }
   },
   "source": [
    "浮点数超限之后会发生什么？"
   ]
  },
  {
   "cell_type": "code",
   "execution_count": 17,
   "metadata": {
    "slideshow": {
     "slide_type": "subslide"
    }
   },
   "outputs": [
    {
     "data": {
      "text/plain": [
       "(inf, inf)"
      ]
     },
     "execution_count": 17,
     "metadata": {},
     "output_type": "execute_result"
    }
   ],
   "source": [
    "5e321*30, float('inf')"
   ]
  },
  {
   "cell_type": "code",
   "execution_count": 18,
   "metadata": {
    "slideshow": {
     "slide_type": "subslide"
    }
   },
   "outputs": [
    {
     "data": {
      "text/plain": [
       "(inf, nan, inf, nan)"
      ]
     },
     "execution_count": 18,
     "metadata": {},
     "output_type": "execute_result"
    }
   ],
   "source": [
    "float('inf') + float('inf'), float('inf') - float('inf'), float('inf') * float('inf'), float('inf') / float('inf')"
   ]
  },
  {
   "cell_type": "code",
   "execution_count": 19,
   "metadata": {
    "slideshow": {
     "slide_type": "subslide"
    }
   },
   "outputs": [
    {
     "data": {
      "text/plain": [
       "(inf, inf, inf, inf)"
      ]
     },
     "execution_count": 19,
     "metadata": {},
     "output_type": "execute_result"
    }
   ],
   "source": [
    "float('inf') + 3e302, float('inf') - 3e302, float('inf') * 3e-302, float('inf') / 3e-302"
   ]
  },
  {
   "cell_type": "code",
   "execution_count": 20,
   "metadata": {
    "slideshow": {
     "slide_type": "subslide"
    }
   },
   "outputs": [
    {
     "data": {
      "text/plain": [
       "(True, False)"
      ]
     },
     "execution_count": 20,
     "metadata": {},
     "output_type": "execute_result"
    }
   ],
   "source": [
    "float('inf')*3 == float('inf'), float('nan') == float('nan')"
   ]
  },
  {
   "cell_type": "markdown",
   "metadata": {
    "slideshow": {
     "slide_type": "subslide"
    }
   },
   "source": [
    "inf和nan小结\n",
    "* **inf加减乘除任何一个实数结果都是Inf**\n",
    "* inf与inf相加、相乘都是inf\n",
    "* inf减去或者除以inf,结果为nan\n",
    "* inf与inf相等\n",
    "* nan与任何数计算结果都是nan\n",
    "* nan不等于nan"
   ]
  },
  {
   "cell_type": "markdown",
   "metadata": {
    "slideshow": {
     "slide_type": "slide"
    }
   },
   "source": [
    "### 浮点数的幽灵\n",
    "\n",
    "由于计算机存储和计算的局限性，浮点数的运算只能精确到一定程度，因此会产生一定误差。误差虽然小，但是足以产生逻辑错误，必须在编程时小心处理，尤其是比较操作。浮点数运算有误差！"
   ]
  },
  {
   "cell_type": "code",
   "execution_count": 21,
   "metadata": {
    "slideshow": {
     "slide_type": "subslide"
    }
   },
   "outputs": [
    {
     "name": "stdout",
     "output_type": "stream",
     "text": [
      "not equal\n"
     ]
    }
   ],
   "source": [
    "if 1/2+1/3-5/6==0:\n",
    "    print('equal')\n",
    "else:\n",
    "    print('not equal')"
   ]
  },
  {
   "cell_type": "code",
   "execution_count": 1,
   "metadata": {
    "slideshow": {
     "slide_type": "subslide"
    }
   },
   "outputs": [
    {
     "name": "stdout",
     "output_type": "stream",
     "text": [
      "equal\n",
      "-1.1102230246251565e-16\n"
     ]
    }
   ],
   "source": [
    "if 1/3-5/6+1/2==0:\n",
    "    print('equal')\n",
    "else:\n",
    "    print('not equal')\n",
    "print(1/2+1/3-5/6)"
   ]
  },
  {
   "cell_type": "markdown",
   "metadata": {
    "slideshow": {
     "slide_type": "subslide"
    }
   },
   "source": [
    "有时候你的程序运行正常，只是你幸运。然而幸运并不是每次都会出席。只有逻辑上正确才不需要幸运的帮忙。\n",
    "\n",
    "思考：既然浮点数存在运算误差，该如何修改上述代码？"
   ]
  },
  {
   "cell_type": "code",
   "execution_count": 2,
   "metadata": {
    "slideshow": {
     "slide_type": "fragment"
    }
   },
   "outputs": [
    {
     "name": "stdout",
     "output_type": "stream",
     "text": [
      "equal\n",
      "not equal\n"
     ]
    }
   ],
   "source": [
    "#solution1\n",
    "from decimal import *\n",
    "if Decimal(1)/Decimal(2)+Decimal(1)/Decimal(3)-Decimal(5)/Decimal(6) == 0:\n",
    "    print('equal')\n",
    "else:\n",
    "    print('not equal')\n",
    "\n",
    "#solution2\n",
    "epsilon = 1e-10   #一般用1e-16\n",
    "if abs(1/3+1/2-5/6) < epsilon:\n",
    "    print(\"equal\")\n",
    "else:\n",
    "    print(\"not equal\")"
   ]
  },
  {
   "cell_type": "markdown",
   "metadata": {
    "slideshow": {
     "slide_type": "subslide"
    }
   },
   "source": [
    "在金融计算等领域即便是一点很小的误差也可能会蔓延形成较大的误差。在需要高精度的处理场合，可以使用decimal模块来处理。"
   ]
  },
  {
   "cell_type": "code",
   "execution_count": 23,
   "metadata": {
    "slideshow": {
     "slide_type": "subslide"
    }
   },
   "outputs": [
    {
     "data": {
      "text/plain": [
       "Decimal('0.3')"
      ]
     },
     "execution_count": 23,
     "metadata": {},
     "output_type": "execute_result"
    }
   ],
   "source": [
    "from decimal import Decimal\n",
    "x1 = Decimal('0.1')  # Caution, passing float using str\n",
    "x2 = Decimal('0.2')  # Caution\n",
    "x1 + x2"
   ]
  },
  {
   "cell_type": "code",
   "execution_count": 5,
   "metadata": {},
   "outputs": [
    {
     "data": {
      "text/plain": [
       "True"
      ]
     },
     "execution_count": 5,
     "metadata": {},
     "output_type": "execute_result"
    }
   ],
   "source": [
    "def comp(n):\n",
    "    if 1/n -1/(n+1) >= 1/(n*n):\n",
    "        return True\n",
    "    else:\n",
    "        return False\n",
    "comp(3e200)  #要考虑是否大于浮点数精度"
   ]
  },
  {
   "cell_type": "markdown",
   "metadata": {
    "slideshow": {
     "slide_type": "slide"
    }
   },
   "source": [
    "## complex复数\n",
    "\n",
    "当数值字面量含有j或J时，python自动创建complex对象实例。\n",
    "注意：在数值和j之间不能有乘号。"
   ]
  },
  {
   "cell_type": "code",
   "execution_count": 24,
   "metadata": {
    "slideshow": {
     "slide_type": "subslide"
    }
   },
   "outputs": [
    {
     "data": {
      "text/plain": [
       "((1+2j), (3-4j))"
      ]
     },
     "execution_count": 24,
     "metadata": {},
     "output_type": "execute_result"
    }
   ],
   "source": [
    "1+2j, 3-4j"
   ]
  },
  {
   "cell_type": "code",
   "execution_count": 25,
   "metadata": {
    "slideshow": {
     "slide_type": "subslide"
    }
   },
   "outputs": [
    {
     "data": {
      "text/plain": [
       "complex"
      ]
     },
     "execution_count": 25,
     "metadata": {},
     "output_type": "execute_result"
    }
   ],
   "source": [
    "type(5+6j)"
   ]
  },
  {
   "cell_type": "markdown",
   "metadata": {
    "slideshow": {
     "slide_type": "subslide"
    }
   },
   "source": [
    "复数之间支持加减乘除和乘法等各种数学运算。复数的数学运算函数可以在cmath模块中找到。"
   ]
  },
  {
   "cell_type": "code",
   "execution_count": 26,
   "metadata": {
    "slideshow": {
     "slide_type": "subslide"
    }
   },
   "outputs": [
    {
     "data": {
      "text/plain": [
       "(1.0, 2.0)"
      ]
     },
     "execution_count": 26,
     "metadata": {},
     "output_type": "execute_result"
    }
   ],
   "source": [
    "c1 = 1+2j\n",
    "c1.real,c1.imag"
   ]
  },
  {
   "cell_type": "markdown",
   "metadata": {
    "slideshow": {
     "slide_type": "subslide"
    }
   },
   "source": [
    "可以访问复数对象的real和imag属性得到复数的实部和虚部。"
   ]
  },
  {
   "cell_type": "markdown",
   "metadata": {
    "slideshow": {
     "slide_type": "slide"
    }
   },
   "source": [
    "## bool类型\n",
    "\n",
    "bool类型有两个值，分别为\n",
    "* 逻辑值'真' True\n",
    "* 逻辑值'假' False\n",
    "\n",
    "bool数据的逻辑运算结果为bool类型。"
   ]
  },
  {
   "cell_type": "code",
   "execution_count": 27,
   "metadata": {
    "slideshow": {
     "slide_type": "subslide"
    }
   },
   "outputs": [
    {
     "data": {
      "text/plain": [
       "(True, False)"
      ]
     },
     "execution_count": 27,
     "metadata": {},
     "output_type": "execute_result"
    }
   ],
   "source": [
    "True, False"
   ]
  },
  {
   "cell_type": "code",
   "execution_count": 28,
   "metadata": {
    "slideshow": {
     "slide_type": "subslide"
    }
   },
   "outputs": [
    {
     "data": {
      "text/plain": [
       "(True, False)"
      ]
     },
     "execution_count": 28,
     "metadata": {},
     "output_type": "execute_result"
    }
   ],
   "source": [
    "1<2, 3>4"
   ]
  },
  {
   "cell_type": "markdown",
   "metadata": {
    "slideshow": {
     "slide_type": "subslide"
    }
   },
   "source": [
    "比较运算支持连写的形式。  \n",
    "python运算符从左向右结合"
   ]
  },
  {
   "cell_type": "code",
   "execution_count": 29,
   "metadata": {
    "slideshow": {
     "slide_type": "fragment"
    }
   },
   "outputs": [
    {
     "data": {
      "text/plain": [
       "True"
      ]
     },
     "execution_count": 29,
     "metadata": {},
     "output_type": "execute_result"
    }
   ],
   "source": [
    "1 < 5 < 8 > 2"
   ]
  },
  {
   "cell_type": "markdown",
   "metadata": {
    "slideshow": {
     "slide_type": "subslide"
    }
   },
   "source": [
    "### 逻辑运算\n",
    "\n",
    "* and 逻辑与\n",
    "* or 逻辑或\n",
    "* not 逻辑非\n",
    "* 运算优先级：not > and > or"
   ]
  },
  {
   "cell_type": "code",
   "execution_count": 30,
   "metadata": {
    "slideshow": {
     "slide_type": "subslide"
    }
   },
   "outputs": [
    {
     "data": {
      "text/plain": [
       "(True, False, True)"
      ]
     },
     "execution_count": 30,
     "metadata": {},
     "output_type": "execute_result"
    }
   ],
   "source": [
    "True and True, True and False, True or False"
   ]
  },
  {
   "cell_type": "code",
   "execution_count": 31,
   "metadata": {
    "slideshow": {
     "slide_type": "subslide"
    }
   },
   "outputs": [
    {
     "data": {
      "text/plain": [
       "True"
      ]
     },
     "execution_count": 31,
     "metadata": {},
     "output_type": "execute_result"
    }
   ],
   "source": [
    "not -1 or True "
   ]
  },
  {
   "cell_type": "code",
   "execution_count": 32,
   "metadata": {
    "slideshow": {
     "slide_type": "subslide"
    }
   },
   "outputs": [
    {
     "data": {
      "text/plain": [
       "True"
      ]
     },
     "execution_count": 32,
     "metadata": {},
     "output_type": "execute_result"
    }
   ],
   "source": [
    "not 1<2 and 3>4 or 5<6"
   ]
  },
  {
   "cell_type": "markdown",
   "metadata": {
    "slideshow": {
     "slide_type": "subslide"
    }
   },
   "source": [
    "当参与逻辑运算的只有bool值时，运算结果为bool值。\n",
    "\n",
    "当有多种类型数据参与逻辑运算时，运算结果可能是bool值，也可能是其他数据类型。"
   ]
  },
  {
   "cell_type": "markdown",
   "metadata": {
    "slideshow": {
     "slide_type": "subslide"
    }
   },
   "source": [
    "先猜一猜以下逻辑运算的结果是什么？\n",
    "\n",
    "1 or 2\n",
    "\n",
    "2 or 1\n",
    "\n",
    "3.5 or 4.25"
   ]
  },
  {
   "cell_type": "markdown",
   "metadata": {
    "slideshow": {
     "slide_type": "subslide"
    }
   },
   "source": [
    "* 一种可能性：返回True, False\n",
    "* 一种可能性：or运算用max(), and运算用min()\n",
    "* 会不会有其他可能性呢？\n",
    "\n",
    "我们先来看看系统实际运行结果"
   ]
  },
  {
   "cell_type": "code",
   "execution_count": 33,
   "metadata": {
    "slideshow": {
     "slide_type": "subslide"
    }
   },
   "outputs": [
    {
     "data": {
      "text/plain": [
       "(1, 2, 4.25)"
      ]
     },
     "execution_count": 33,
     "metadata": {},
     "output_type": "execute_result"
    }
   ],
   "source": [
    "1 or 2, 2 or 1, 3.5 and 4.25"
   ]
  },
  {
   "cell_type": "markdown",
   "metadata": {
    "slideshow": {
     "slide_type": "slide"
    }
   },
   "source": [
    "### 短路计算规则\n",
    "\n",
    "and和or采用短路计算法则。总是避免多余的计算。结果的逻辑值一旦确定，则不再计算表达式的剩余部分。\n",
    "\n",
    "比如： 2 or 3 or 0.由于是or运算，执行到第一个操作数，即可判断表达式为真，因此运算结果为2."
   ]
  },
  {
   "cell_type": "code",
   "execution_count": 34,
   "metadata": {
    "slideshow": {
     "slide_type": "subslide"
    }
   },
   "outputs": [
    {
     "data": {
      "text/plain": [
       "2"
      ]
     },
     "execution_count": 34,
     "metadata": {},
     "output_type": "execute_result"
    }
   ],
   "source": [
    "2 or 3 or 0"
   ]
  },
  {
   "cell_type": "markdown",
   "metadata": {
    "slideshow": {
     "slide_type": "subslide"
    }
   },
   "source": [
    "逻辑值参与数学运算\n",
    "\n",
    "既然整数、浮点数等都可以参与逻辑运算，那么bool值能否参与加减乘除等数学运算呢？"
   ]
  },
  {
   "cell_type": "code",
   "execution_count": 35,
   "metadata": {
    "slideshow": {
     "slide_type": "subslide"
    }
   },
   "outputs": [
    {
     "data": {
      "text/plain": [
       "9"
      ]
     },
     "execution_count": 35,
     "metadata": {},
     "output_type": "execute_result"
    }
   ],
   "source": [
    "x1 = 2; x2 = 11\n",
    "(x2 - x1) * (x2 > x1)"
   ]
  },
  {
   "cell_type": "markdown",
   "metadata": {
    "slideshow": {
     "slide_type": "subslide"
    }
   },
   "source": [
    "巧妙的使用bool值的这个特性，可以让代码变得更加简洁易懂。若需要计算$(x_2 - x_1)^+$的时候，上面的表达式极为简洁易懂。"
   ]
  },
  {
   "cell_type": "markdown",
   "metadata": {
    "slideshow": {
     "slide_type": "slide"
    }
   },
   "source": [
    "## 数据转换\n",
    "\n",
    "* 自动转换\n",
    "* 强制转换"
   ]
  },
  {
   "cell_type": "markdown",
   "metadata": {
    "slideshow": {
     "slide_type": "subslide"
    }
   },
   "source": [
    "自动转换（隐式转换）是在当运算数不满足运算符的要求时，自动将运算数转换为所需要的类型。上面的例子中实际上我们已经多次见到。\n",
    "\n",
    "如整数与浮点数运算，会将整数转换为浮点数再进行运算，bool值参与数学运算，会将True转换为1，False转换为0.\n",
    "\n",
    "若转换不能自动进行，则会报错。"
   ]
  },
  {
   "cell_type": "code",
   "execution_count": 36,
   "metadata": {
    "slideshow": {
     "slide_type": "subslide"
    }
   },
   "outputs": [
    {
     "data": {
      "text/plain": [
       "(127.56, 124)"
      ]
     },
     "execution_count": 36,
     "metadata": {},
     "output_type": "execute_result"
    }
   ],
   "source": [
    "123 + 4.56, 123 + True"
   ]
  },
  {
   "cell_type": "code",
   "execution_count": 6,
   "metadata": {
    "slideshow": {
     "slide_type": "subslide"
    }
   },
   "outputs": [
    {
     "ename": "TypeError",
     "evalue": "can only concatenate str (not \"int\") to str",
     "output_type": "error",
     "traceback": [
      "\u001b[1;31m---------------------------------------------------------------------------\u001b[0m",
      "\u001b[1;31mTypeError\u001b[0m                                 Traceback (most recent call last)",
      "\u001b[1;32m<ipython-input-6-ab981d944091>\u001b[0m in \u001b[0;36m<module>\u001b[1;34m\u001b[0m\n\u001b[1;32m----> 1\u001b[1;33m \u001b[1;34m\"123\"\u001b[0m\u001b[1;33m+\u001b[0m\u001b[1;36m56\u001b[0m\u001b[1;33m\u001b[0m\u001b[1;33m\u001b[0m\u001b[0m\n\u001b[0m",
      "\u001b[1;31mTypeError\u001b[0m: can only concatenate str (not \"int\") to str"
     ]
    }
   ],
   "source": [
    "\"123\"+56"
   ]
  },
  {
   "cell_type": "markdown",
   "metadata": {
    "slideshow": {
     "slide_type": "subslide"
    }
   },
   "source": [
    "有时候会出现一些特殊的情况，看起来不能进行的运算反而没有报错。实际上，这是运算符重载。"
   ]
  },
  {
   "cell_type": "code",
   "execution_count": 38,
   "metadata": {
    "slideshow": {
     "slide_type": "fragment"
    }
   },
   "outputs": [
    {
     "data": {
      "text/plain": [
       "'123123123123'"
      ]
     },
     "execution_count": 38,
     "metadata": {},
     "output_type": "execute_result"
    }
   ],
   "source": [
    "\"123\" * 4"
   ]
  },
  {
   "cell_type": "markdown",
   "metadata": {
    "slideshow": {
     "slide_type": "subslide"
    }
   },
   "source": [
    "数据强制转换\n",
    "\n",
    "当需要某种特定数据类型时，或者自动转换无法达到特定目的时，可以采用强制转换。一般是使用对应数据类型的构造函数来处理。"
   ]
  },
  {
   "cell_type": "markdown",
   "metadata": {
    "slideshow": {
     "slide_type": "subslide"
    }
   },
   "source": [
    "相应的构造函数有：\n",
    "* int() 整数类型\n",
    "* float() 浮点数类型\n",
    "* bool() bool类型\n",
    "* complex() 复数类型"
   ]
  },
  {
   "cell_type": "code",
   "execution_count": 39,
   "metadata": {
    "slideshow": {
     "slide_type": "subslide"
    }
   },
   "outputs": [
    {
     "data": {
      "text/plain": [
       "(492, 12.3, (1+2j))"
      ]
     },
     "execution_count": 39,
     "metadata": {},
     "output_type": "execute_result"
    }
   ],
   "source": [
    "int('123')*4, float('12.3'), complex('1+2j')"
   ]
  },
  {
   "cell_type": "markdown",
   "metadata": {
    "slideshow": {
     "slide_type": "subslide"
    }
   },
   "source": [
    "若强制转换无法完成，则会提示错误ValueError.\n",
    "\n",
    "若强制转换导致溢出，会提示错误OverflowError. 由于整数无上限，在转换为浮点数时有可能导致溢出。"
   ]
  },
  {
   "cell_type": "code",
   "execution_count": 40,
   "metadata": {
    "slideshow": {
     "slide_type": "subslide"
    }
   },
   "outputs": [],
   "source": [
    "#int('123xy')"
   ]
  },
  {
   "cell_type": "markdown",
   "metadata": {
    "slideshow": {
     "slide_type": "slide"
    }
   },
   "source": [
    "## str字符串数据类型\n",
    "\n",
    "* 字符串是一个有序的字符列表\n",
    "* python中没有独立的字符类型，字符可以视为长度为1的字符串\n",
    "* str对象属于不可变对象"
   ]
  },
  {
   "cell_type": "code",
   "execution_count": 41,
   "metadata": {
    "slideshow": {
     "slide_type": "subslide"
    }
   },
   "outputs": [
    {
     "data": {
      "text/plain": [
       "('abc', '123', str)"
      ]
     },
     "execution_count": 41,
     "metadata": {},
     "output_type": "execute_result"
    }
   ],
   "source": [
    "\"abc\",'123',type('xyz')"
   ]
  },
  {
   "cell_type": "markdown",
   "metadata": {
    "slideshow": {
     "slide_type": "subslide"
    }
   },
   "source": [
    "字符串定界符\n",
    "\n",
    "* 三种定界符定义的字符串没有本质差异\n",
    "* 单引号定界符内可以包含双引号\n",
    "* 双引号定界符内可以包含单引号\n",
    "* **三引号定界符内可以包含回车符**"
   ]
  },
  {
   "cell_type": "code",
   "execution_count": 42,
   "metadata": {
    "slideshow": {
     "slide_type": "subslide"
    }
   },
   "outputs": [
    {
     "data": {
      "text/plain": [
       "(True, True)"
      ]
     },
     "execution_count": 42,
     "metadata": {},
     "output_type": "execute_result"
    }
   ],
   "source": [
    "'123'==\"123\", \"abc\"=='''abc'''"
   ]
  },
  {
   "cell_type": "code",
   "execution_count": 43,
   "metadata": {
    "slideshow": {
     "slide_type": "subslide"
    }
   },
   "outputs": [
    {
     "data": {
      "text/plain": [
       "(True, True)"
      ]
     },
     "execution_count": 43,
     "metadata": {},
     "output_type": "execute_result"
    }
   ],
   "source": [
    "'123' is \"123\", \"abc\" is '''abc'''"
   ]
  },
  {
   "cell_type": "code",
   "execution_count": 44,
   "metadata": {
    "slideshow": {
     "slide_type": "subslide"
    }
   },
   "outputs": [
    {
     "data": {
      "text/plain": [
       "'moon\\nwall\\ndog\\n'"
      ]
     },
     "execution_count": 44,
     "metadata": {},
     "output_type": "execute_result"
    }
   ],
   "source": [
    "'''moon\n",
    "wall\n",
    "dog\n",
    "'''"
   ]
  },
  {
   "cell_type": "markdown",
   "metadata": {
    "slideshow": {
     "slide_type": "subslide"
    }
   },
   "source": [
    "字符串编码\n",
    "\n",
    "* Python3默认字符采用16位unicode编码\n",
    "* 可以使用字符串先导符‘u’指定unicode字符串\n",
    "* 使用ord()可以获取字符的unicode码\n",
    "* 使用chr()可以获得unicode码对应的字符"
   ]
  },
  {
   "cell_type": "markdown",
   "metadata": {
    "slideshow": {
     "slide_type": "subslide"
    }
   },
   "source": [
    "小游戏：考考你的识字水平。"
   ]
  },
  {
   "cell_type": "code",
   "execution_count": 45,
   "metadata": {
    "slideshow": {
     "slide_type": "subslide"
    }
   },
   "outputs": [
    {
     "name": "stdout",
     "output_type": "stream",
     "text": [
      "㺖 㺗 㺘 㺙 㺚 㺛 㺜 㺝 㺞 㺟 㺠 㺡 㺢 㺣 㺤 㺥 㺦 㺧 㺨 㺩 㺪 㺫 㺬 㺭 㺮 㺯 㺰 㺱 㺲 㺳 㺴 㺵 㺶 㺷 㺸 㺹 㺺 㺻 㺼 㺽 㺾 㺿 㻀 㻁 㻂 㻃 㻄 㻅 㻆 㻇 㻈 㻉 㻊 㻋 㻌 㻍 㻎 㻏 㻐 㻑 㻒 㻓 㻔 㻕 㻖 㻗 㻘 㻙 㻚 㻛 㻜 㻝 㻞 㻟 㻠 㻡 㻢 㻣 "
     ]
    }
   ],
   "source": [
    "for i in range(16022,16100):\n",
    "    print(chr(i),end=' ')"
   ]
  },
  {
   "cell_type": "code",
   "execution_count": 46,
   "metadata": {
    "slideshow": {
     "slide_type": "subslide"
    }
   },
   "outputs": [
    {
     "name": "stdout",
     "output_type": "stream",
     "text": [
      "23398 20064\n"
     ]
    }
   ],
   "source": [
    "print(ord('学'),ord('习'))"
   ]
  },
  {
   "cell_type": "markdown",
   "metadata": {
    "slideshow": {
     "slide_type": "subslide"
    }
   },
   "source": [
    "### 字符串转义字符\n",
    "\n",
    "* 特殊字符尤其是一系列不可见字符可以使用转义字符表示。转义字符以反斜杠'\\'开始。\n",
    "* 当字符串中含有反斜杠时，该字符必须被转义。\n",
    "* 当字符串中含有字符串定界符时，该字符必须被转义。\n",
    "\n",
    "这个为什么不一样宽呢->制表符是对齐"
   ]
  },
  {
   "cell_type": "code",
   "execution_count": 7,
   "metadata": {
    "slideshow": {
     "slide_type": "subslide"
    }
   },
   "outputs": [
    {
     "name": "stdout",
     "output_type": "stream",
     "text": [
      "nothing to escape he said, 'it's ok' a\tb\tc\t\n"
     ]
    }
   ],
   "source": [
    "s1 = \"nothing to escape\"\n",
    "s2 = 'he said, \\'it\\'s ok\\''\n",
    "s3 = 'a\\tb\\tc\\t'\n",
    "print(s1,s2,s3)"
   ]
  },
  {
   "cell_type": "code",
   "execution_count": 48,
   "metadata": {
    "slideshow": {
     "slide_type": "subslide"
    }
   },
   "outputs": [
    {
     "name": "stdout",
     "output_type": "stream",
     "text": [
      "no one \\ is here\n"
     ]
    }
   ],
   "source": [
    "s4 = \"no one \\\\ is here\"\n",
    "print(s4)"
   ]
  },
  {
   "cell_type": "markdown",
   "metadata": {
    "slideshow": {
     "slide_type": "subslide"
    }
   },
   "source": [
    "常见特殊符号的转义字符\n",
    "\n",
    "* \\n 换行\n",
    "* \\t 水平制表符\n",
    "* \\v 垂直制表符\n",
    "* \\0oo 八进制字符（oo代表两位八进制数）\n",
    "* \\xHH 十六进制字符（HH代表两位十六进制数）\n",
    "* \\uHHHH unicode字符"
   ]
  },
  {
   "cell_type": "markdown",
   "metadata": {
    "slideshow": {
     "slide_type": "subslide"
    }
   },
   "source": [
    "* 如果字符串的定界符为单引号，则字符串中的双引号不需要转义。\n",
    "* 如果字符串的定界符为双引号，则字符串中的单引号不需要转义。\n",
    "* 如果字符串的定界符为三引号，则单引号、双引号和回车符不需要转义。\n"
   ]
  },
  {
   "cell_type": "code",
   "execution_count": 49,
   "metadata": {
    "slideshow": {
     "slide_type": "subslide"
    }
   },
   "outputs": [
    {
     "data": {
      "text/plain": [
       "(\"it's ok\", 'the \"good\" apple', '\\nit\\'s ok\\nthe \"good\" time never ends\\n')"
      ]
     },
     "execution_count": 49,
     "metadata": {},
     "output_type": "execute_result"
    }
   ],
   "source": [
    "s5 = \"it's ok\"\n",
    "s6 = 'the \"good\" apple'\n",
    "s7 ='''\n",
    "it's ok\n",
    "the \"good\" time never ends\n",
    "'''\n",
    "s5,s6,s7"
   ]
  },
  {
   "cell_type": "markdown",
   "metadata": {
    "slideshow": {
     "slide_type": "subslide"
    }
   },
   "source": [
    "**字符串之前使用先导符r或者R，代表字符串为原生字符，其中的字符不需要转义。\n",
    "除非其中含有字符串定界符（需要转义）。**"
   ]
  },
  {
   "cell_type": "code",
   "execution_count": 50,
   "metadata": {
    "slideshow": {
     "slide_type": "subslide"
    }
   },
   "outputs": [
    {
     "data": {
      "text/plain": [
       "('\\\\t\\\\r\\\\n都是特殊字符', '换行符为\\\\n')"
      ]
     },
     "execution_count": 50,
     "metadata": {},
     "output_type": "execute_result"
    }
   ],
   "source": [
    "s5 = r\"\\t\\r\\n都是特殊字符\"\n",
    "s6 = R'换行符为\\n'\n",
    "s5,s6"
   ]
  },
  {
   "cell_type": "markdown",
   "metadata": {
    "slideshow": {
     "slide_type": "subslide"
    }
   },
   "source": [
    "可以使用转义符号加字符的unicode编码表示字符。\n",
    "\n",
    "比如ascii码字符的编码范围为0-127"
   ]
  },
  {
   "cell_type": "code",
   "execution_count": 51,
   "metadata": {
    "slideshow": {
     "slide_type": "subslide"
    }
   },
   "outputs": [
    {
     "data": {
      "text/plain": [
       "('abc', 'ABC')"
      ]
     },
     "execution_count": 51,
     "metadata": {},
     "output_type": "execute_result"
    }
   ],
   "source": [
    "s7 = '\\x61\\x62\\x63'\n",
    "s8 = '\\u0041\\u0042\\u0043'\n",
    "s7,s8"
   ]
  },
  {
   "cell_type": "code",
   "execution_count": 52,
   "metadata": {
    "slideshow": {
     "slide_type": "subslide"
    }
   },
   "outputs": [
    {
     "data": {
      "text/plain": [
       "('?', 'A')"
      ]
     },
     "execution_count": 52,
     "metadata": {},
     "output_type": "execute_result"
    }
   ],
   "source": [
    "'\\077','\\101' # 八进制，使用三位八进制数代表一个ascii码字符"
   ]
  },
  {
   "cell_type": "markdown",
   "metadata": {
    "slideshow": {
     "slide_type": "subslide"
    }
   },
   "source": [
    "如果不符合上述转义字符的形式，则系统会自动将其转换为最合理的一个猜测。"
   ]
  },
  {
   "cell_type": "code",
   "execution_count": 53,
   "metadata": {
    "slideshow": {
     "slide_type": "fragment"
    }
   },
   "outputs": [
    {
     "data": {
      "text/plain": [
       "('\\\\98', '\\x81')"
      ]
     },
     "execution_count": 53,
     "metadata": {},
     "output_type": "execute_result"
    }
   ],
   "source": [
    "'\\98','\\201'"
   ]
  },
  {
   "cell_type": "markdown",
   "metadata": {
    "slideshow": {
     "slide_type": "subslide"
    }
   },
   "source": [
    "### str对象的属性和方法\n",
    "\n",
    "* 字符串的处理大多可以通过str对象提供的方法完成。\n",
    "* 方法1.调用对象的方法\n",
    "* 方法2.调用str类的方法\n"
   ]
  },
  {
   "cell_type": "code",
   "execution_count": 9,
   "metadata": {
    "slideshow": {
     "slide_type": "subslide"
    }
   },
   "outputs": [
    {
     "data": {
      "text/plain": [
       "('THE LOST ISLAND', 'the lost island', 'The Lost Island')"
      ]
     },
     "execution_count": 9,
     "metadata": {},
     "output_type": "execute_result"
    }
   ],
   "source": [
    "s9 = 'the lost island'\n",
    "s9.upper(),s9.lower(),s9.title()"
   ]
  },
  {
   "cell_type": "code",
   "execution_count": 55,
   "metadata": {
    "slideshow": {
     "slide_type": "subslide"
    }
   },
   "outputs": [
    {
     "data": {
      "text/plain": [
       "('THE LOST ISLAND', 'the lost island', 'The Lost Island')"
      ]
     },
     "execution_count": 55,
     "metadata": {},
     "output_type": "execute_result"
    }
   ],
   "source": [
    "str.upper(s9),str.lower(s9),str.title(s9)"
   ]
  },
  {
   "cell_type": "markdown",
   "metadata": {
    "slideshow": {
     "slide_type": "subslide"
    }
   },
   "source": [
    "str类的常用方法（参见第15章）\n",
    "\n",
    "* 判断字符串类型，如str.isalpha()判断是否全为字母字符\n",
    "* 大小写转换，如str.lower()将所有字母转换为小写\n",
    "* 字符串清理，如str.strip()去除两边的空白字符（或其他指定字符）\n",
    "* 字符串测试，如str.startswith()判断是否以某个前缀开头\n",
    "* 字符串拆分与合并，如str.split()按指定字符切分字符串"
   ]
  },
  {
   "cell_type": "markdown",
   "metadata": {
    "slideshow": {
     "slide_type": "subslide"
    }
   },
   "source": [
    "除了字符串对象的方法以外，很多功能也可以通过序列的访问操作实现。\n"
   ]
  },
  {
   "cell_type": "code",
   "execution_count": 10,
   "metadata": {
    "slideshow": {
     "slide_type": "subslide"
    }
   },
   "outputs": [
    {
     "data": {
      "text/plain": [
       "('t', 'd')"
      ]
     },
     "execution_count": 10,
     "metadata": {},
     "output_type": "execute_result"
    }
   ],
   "source": [
    "s9[0], s9[-1]  # 字符串的首尾字符！！第一次看到-1"
   ]
  },
  {
   "cell_type": "code",
   "execution_count": 57,
   "metadata": {
    "slideshow": {
     "slide_type": "subslide"
    }
   },
   "outputs": [
    {
     "data": {
      "text/plain": [
       "15"
      ]
     },
     "execution_count": 57,
     "metadata": {},
     "output_type": "execute_result"
    }
   ],
   "source": [
    "len(s9) # 字符串的长度"
   ]
  },
  {
   "cell_type": "markdown",
   "metadata": {
    "slideshow": {
     "slide_type": "fragment"
    }
   },
   "source": [
    "注意：由于**字符串为不可变对象，所以任何试图改变字符串内元素的指令都会导致一个错误。**\n",
    "\n",
    "因此，字符串的方法返回的字符串都是一个新的字符串对象，而不会修改原对象。"
   ]
  },
  {
   "cell_type": "code",
   "execution_count": 58,
   "metadata": {
    "slideshow": {
     "slide_type": "subslide"
    }
   },
   "outputs": [],
   "source": [
    "#s9[3] = '3'"
   ]
  },
  {
   "cell_type": "markdown",
   "metadata": {
    "slideshow": {
     "slide_type": "subslide"
    }
   },
   "source": [
    "### 字符串的编码转换\n",
    "\n",
    "* 同一个字符可以有多种不同编码方式\n",
    "* 不同编码方式下，同一个字符的编码可以不同\n",
    "* 字节串是字符串的低级表示"
   ]
  },
  {
   "cell_type": "code",
   "execution_count": 59,
   "metadata": {
    "slideshow": {
     "slide_type": "subslide"
    }
   },
   "outputs": [
    {
     "name": "stdout",
     "output_type": "stream",
     "text": [
      "b'\\xd6\\xd8\\xb4\\xf3'\n"
     ]
    }
   ],
   "source": [
    "s10 = \"重大\"\n",
    "s11 = s10.encode(encoding='GBK')  # 编码为一个字节码串\n",
    "print(s11)"
   ]
  },
  {
   "cell_type": "code",
   "execution_count": 60,
   "metadata": {
    "slideshow": {
     "slide_type": "subslide"
    }
   },
   "outputs": [
    {
     "name": "stdout",
     "output_type": "stream",
     "text": [
      "重大\n"
     ]
    }
   ],
   "source": [
    "s12 = s11.decode(encoding='GBK')\n",
    "print(s12)"
   ]
  },
  {
   "cell_type": "markdown",
   "metadata": {
    "slideshow": {
     "slide_type": "subslide"
    }
   },
   "source": [
    "还记得s11采用的编码方式是GBK，如果我们要对它进行解码"
   ]
  },
  {
   "cell_type": "code",
   "execution_count": 61,
   "metadata": {
    "slideshow": {
     "slide_type": "fragment"
    }
   },
   "outputs": [],
   "source": [
    "#s11.decode() # 默认编解码方式为utf-8"
   ]
  },
  {
   "cell_type": "code",
   "execution_count": 62,
   "metadata": {
    "slideshow": {
     "slide_type": "subslide"
    }
   },
   "outputs": [
    {
     "data": {
      "text/plain": [
       "b'\\xe9\\x87\\x8d\\xe5\\xa4\\xa7'"
      ]
     },
     "execution_count": 62,
     "metadata": {},
     "output_type": "execute_result"
    }
   ],
   "source": [
    "s11 = s10.encode()\n",
    "s11"
   ]
  },
  {
   "cell_type": "code",
   "execution_count": 63,
   "metadata": {
    "slideshow": {
     "slide_type": "subslide"
    }
   },
   "outputs": [
    {
     "data": {
      "text/plain": [
       "'重大'"
      ]
     },
     "execution_count": 63,
     "metadata": {},
     "output_type": "execute_result"
    }
   ],
   "source": [
    "s11.decode(encoding='utf-8') "
   ]
  },
  {
   "cell_type": "markdown",
   "metadata": {
    "slideshow": {
     "slide_type": "subslide"
    }
   },
   "source": [
    "字符串 --encode--> 字节码\n",
    "\n",
    "字节码 --decode--> 字符串"
   ]
  }
 ],
 "metadata": {
  "anaconda-cloud": {},
  "celltoolbar": "Slideshow",
  "kernelspec": {
   "display_name": "Python 3",
   "language": "python",
   "name": "python3"
  },
  "language_info": {
   "codemirror_mode": {
    "name": "ipython",
    "version": 3
   },
   "file_extension": ".py",
   "mimetype": "text/x-python",
   "name": "python",
   "nbconvert_exporter": "python",
   "pygments_lexer": "ipython3",
   "version": "3.7.3"
  }
 },
 "nbformat": 4,
 "nbformat_minor": 2
}
