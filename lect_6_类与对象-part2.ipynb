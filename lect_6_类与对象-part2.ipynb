{
 "cells": [
  {
   "cell_type": "markdown",
   "metadata": {
    "slideshow": {
     "slide_type": "slide"
    }
   },
   "source": [
    "# 类与对象(II)\n",
    "\n",
    "* 属性与方法的安全性\n",
    "* 类的特殊属性与特殊方法\n",
    "* 类成员的访问拦截\n",
    "* 对象的赋值与拷贝"
   ]
  },
  {
   "cell_type": "markdown",
   "metadata": {
    "slideshow": {
     "slide_type": "slide"
    }
   },
   "source": [
    "## 方法和属性的安全性\n",
    "\n",
    "通过类对数据和操作进行封装后，对象的数据和操作的细节就被屏蔽了，对于对象的数据一般通过调用其操作界面即对象的方法来实现。如何保证这些操作是安全的，是下一个问题。"
   ]
  },
  {
   "cell_type": "markdown",
   "metadata": {
    "slideshow": {
     "slide_type": "slide"
    }
   },
   "source": [
    "### 私有方法和私有属性\n",
    "\n",
    "python使用命名来规定私有属性/方法。与C++和Java不同（使用public和private关键字控制方法/属性的公有和私有）。\n",
    "\n",
    "一般的，以**两个下划线开头但是不以两个下划线结尾的方法/属性为私有方法/属性。**\n",
    "\n",
    "私有方法/属性只能在类内部访问，不能通过实例对象从外部访问。"
   ]
  },
  {
   "cell_type": "code",
   "execution_count": 1,
   "metadata": {
    "slideshow": {
     "slide_type": "subslide"
    }
   },
   "outputs": [],
   "source": [
    "class Shape:\n",
    "    def __init__(self, name):\n",
    "        self.name = name\n",
    "        self.__area = 1  # 私有属性\n",
    "    def get_area(self):\n",
    "        return self.__area"
   ]
  },
  {
   "cell_type": "code",
   "execution_count": 2,
   "metadata": {
    "slideshow": {
     "slide_type": "subslide"
    }
   },
   "outputs": [
    {
     "data": {
      "text/plain": [
       "1"
      ]
     },
     "execution_count": 2,
     "metadata": {},
     "output_type": "execute_result"
    }
   ],
   "source": [
    "s1 = Shape('circle')\n",
    "#s1.__area  # error! why?\n",
    "s1.get_area()"
   ]
  },
  {
   "cell_type": "markdown",
   "metadata": {
    "slideshow": {
     "slide_type": "slide"
    }
   },
   "source": [
    "### @property装饰器\n",
    "\n",
    "为了保证类中的数据成员的安全性，避免被外部程序无意修改，可以定义私有属性，然后定义相应的访问函数。\n",
    "\n",
    "在访问函数中可以对属性设置进行校验，只有合乎规则的修改才能生效。\n",
    "\n",
    "@property装饰器可以把函数装饰成属性，从而提供更加友好的访问方式。"
   ]
  },
  {
   "cell_type": "code",
   "execution_count": 3,
   "metadata": {
    "slideshow": {
     "slide_type": "subslide"
    }
   },
   "outputs": [],
   "source": [
    "class Point:\n",
    "    def __init__(self, color):\n",
    "        self.__color = color\n",
    "    @property\n",
    "    def color(self):\n",
    "        print('access granted')\n",
    "        return self.__color"
   ]
  },
  {
   "cell_type": "code",
   "execution_count": 4,
   "metadata": {
    "slideshow": {
     "slide_type": "subslide"
    }
   },
   "outputs": [
    {
     "name": "stdout",
     "output_type": "stream",
     "text": [
      "access granted\n"
     ]
    },
    {
     "data": {
      "text/plain": [
       "'red'"
      ]
     },
     "execution_count": 4,
     "metadata": {},
     "output_type": "execute_result"
    }
   ],
   "source": [
    "t1 = Point('red')\n",
    "t1.color"
   ]
  },
  {
   "cell_type": "code",
   "execution_count": 5,
   "metadata": {
    "slideshow": {
     "slide_type": "subslide"
    }
   },
   "outputs": [],
   "source": [
    "#t1.color = 'blue'  # can't set attribute"
   ]
  },
  {
   "cell_type": "markdown",
   "metadata": {
    "slideshow": {
     "slide_type": "subslide"
    }
   },
   "source": [
    "利用装饰器不仅可以实现私有属性的读取操作，也可以实现私有属性的修改和删除操作。\n",
    "\n",
    "* 方法1. 使用私有属性对应的getter, setter, deleter装饰器\n",
    "\n",
    "注意装饰器装饰的方法名将被作为属性来使用。"
   ]
  },
  {
   "cell_type": "code",
   "execution_count": 6,
   "metadata": {
    "slideshow": {
     "slide_type": "subslide"
    }
   },
   "outputs": [],
   "source": [
    "class Point2:\n",
    "    def __init__(self, color):\n",
    "        self.__yanse = color  # 私有属性\n",
    "    @property\n",
    "    def color(self):  # getter的名称不需要和私有属性名称一致\n",
    "        return self.__yanse\n",
    "    @color.setter\n",
    "    def color(self, color):  # 注意函数的名称\n",
    "        if isinstance(color,str):  self.__yanse = color\n",
    "        else: print('color not accepted')"
   ]
  },
  {
   "cell_type": "code",
   "execution_count": 7,
   "metadata": {
    "slideshow": {
     "slide_type": "subslide"
    }
   },
   "outputs": [
    {
     "name": "stdout",
     "output_type": "stream",
     "text": [
      "black\n",
      "orange\n"
     ]
    }
   ],
   "source": [
    "p2 = Point2('black')\n",
    "print(p2.color)\n",
    "p2.color = 'orange'\n",
    "print(p2.color)"
   ]
  },
  {
   "cell_type": "code",
   "execution_count": 8,
   "metadata": {
    "slideshow": {
     "slide_type": "subslide"
    }
   },
   "outputs": [
    {
     "name": "stdout",
     "output_type": "stream",
     "text": [
      "color not accepted\n"
     ]
    },
    {
     "data": {
      "text/plain": [
       "'orange'"
      ]
     },
     "execution_count": 8,
     "metadata": {},
     "output_type": "execute_result"
    }
   ],
   "source": [
    "p2.color = 3  # validation not passed\n",
    "p2.color"
   ]
  },
  {
   "cell_type": "markdown",
   "metadata": {
    "slideshow": {
     "slide_type": "subslide"
    }
   },
   "source": [
    "* 方法2. 调用property装饰器方法，设置fget, fset, fdel\n",
    "\n",
    "用法：对象定义中增加一行attr_name = property(fget, fset, fdel)"
   ]
  },
  {
   "cell_type": "code",
   "execution_count": 9,
   "metadata": {
    "slideshow": {
     "slide_type": "subslide"
    }
   },
   "outputs": [],
   "source": [
    "class Point3:\n",
    "    def __init__(self, color):\n",
    "        self.__yanse = color  # 私有属性\n",
    "    def get_color(self):\n",
    "        return self.__yanse\n",
    "    def set_color(self, color):\n",
    "        if isinstance(color,str):  self.__yanse = color\n",
    "        else: print('color not accepted')\n",
    "    color = property(fget = get_color, fset = set_color)"
   ]
  },
  {
   "cell_type": "code",
   "execution_count": 10,
   "metadata": {
    "slideshow": {
     "slide_type": "subslide"
    }
   },
   "outputs": [
    {
     "name": "stdout",
     "output_type": "stream",
     "text": [
      "red\n",
      "blue\n"
     ]
    }
   ],
   "source": [
    "p3 = Point3('red')\n",
    "print(p3.color)\n",
    "p3.color = 'blue'\n",
    "print(p3.color)"
   ]
  },
  {
   "cell_type": "code",
   "execution_count": 11,
   "metadata": {
    "slideshow": {
     "slide_type": "subslide"
    }
   },
   "outputs": [
    {
     "name": "stdout",
     "output_type": "stream",
     "text": [
      "color not accepted\n"
     ]
    },
    {
     "data": {
      "text/plain": [
       "'blue'"
      ]
     },
     "execution_count": 11,
     "metadata": {},
     "output_type": "execute_result"
    }
   ],
   "source": [
    "p3.color = 0xde\n",
    "p3.color"
   ]
  },
  {
   "cell_type": "markdown",
   "metadata": {
    "slideshow": {
     "slide_type": "subslide"
    }
   },
   "source": [
    "请思考：私有方法的作用是什么？什么时候需要私有方法？\n",
    "\n",
    "回答：私有方法起到保护作用。当然，问题是保护什么？"
   ]
  },
  {
   "cell_type": "code",
   "execution_count": 12,
   "metadata": {
    "slideshow": {
     "slide_type": "subslide"
    }
   },
   "outputs": [],
   "source": [
    "class Access_Data:\n",
    "    def __init__(self, data = 0):  self.__data = data\n",
    "    def is_good(data):  return True\n",
    "    def clean(data):  return data\n",
    "    def __set_data(self, data):\n",
    "        self.__data = data\n",
    "    def set_data(self, data):\n",
    "        if Access_Data.is_good(data): self.__set_data(data)\n",
    "        else:  print('illegal data')\n",
    "    def modify(self, data):\n",
    "        data = Access_Data.clean(data)\n",
    "        self.__set_data(data)  # we are sure the data is good"
   ]
  },
  {
   "cell_type": "code",
   "execution_count": 13,
   "metadata": {
    "slideshow": {
     "slide_type": "subslide"
    }
   },
   "outputs": [],
   "source": [
    "a1 = Access_Data(5)\n",
    "a1.modify(6)\n",
    "a1.set_data(6)"
   ]
  },
  {
   "cell_type": "markdown",
   "metadata": {
    "slideshow": {
     "slide_type": "subslide"
    }
   },
   "source": [
    "我们可以想象一个任务比较复杂，牵涉到若干子任务的重复执行，这些子任务本身可以写成方法，但是又不希望用户直接调用，因为这些方法只有在特定情形下才是合法的。"
   ]
  },
  {
   "cell_type": "markdown",
   "metadata": {
    "slideshow": {
     "slide_type": "subslide"
    }
   },
   "source": [
    "思考问题：\n",
    "\n",
    "* 派生类是否继承了基类的私有属性？  \n",
    "继承了所有的私有属性和私有方法    \n",
    "\n",
    "* 派生类是否可以访问基类的私有属性？  \n",
    "但是不能访问\n"
   ]
  },
  {
   "cell_type": "markdown",
   "metadata": {
    "slideshow": {
     "slide_type": "slide"
    }
   },
   "source": [
    "## 类的特殊属性\n",
    "\n",
    "以双下划线开始和结束的属性为类的特殊属性。"
   ]
  },
  {
   "cell_type": "code",
   "execution_count": 14,
   "metadata": {
    "slideshow": {
     "slide_type": "subslide"
    }
   },
   "outputs": [],
   "source": [
    "class Shape:\n",
    "    cnt = 0\n",
    "    def __init__(self, name):\n",
    "        self.name = name\n",
    "        self.area = 1\n",
    "    def get_area(self):\n",
    "        return self.area"
   ]
  },
  {
   "cell_type": "code",
   "execution_count": 15,
   "metadata": {
    "slideshow": {
     "slide_type": "subslide"
    }
   },
   "outputs": [
    {
     "data": {
      "text/plain": [
       "mappingproxy({'__dict__': <attribute '__dict__' of 'Shape' objects>,\n",
       "              '__doc__': None,\n",
       "              '__init__': <function __main__.Shape.__init__>,\n",
       "              '__module__': '__main__',\n",
       "              '__weakref__': <attribute '__weakref__' of 'Shape' objects>,\n",
       "              'cnt': 0,\n",
       "              'get_area': <function __main__.Shape.get_area>})"
      ]
     },
     "execution_count": 15,
     "metadata": {},
     "output_type": "execute_result"
    }
   ],
   "source": [
    "Shape.__dict__  # 类对象的属性字典，注意类的属性和类的方法都在这个字典里"
   ]
  },
  {
   "cell_type": "code",
   "execution_count": 16,
   "metadata": {
    "slideshow": {
     "slide_type": "subslide"
    }
   },
   "outputs": [
    {
     "data": {
      "text/plain": [
       "{'area': 1, 'name': 'circle'}"
      ]
     },
     "execution_count": 16,
     "metadata": {},
     "output_type": "execute_result"
    }
   ],
   "source": [
    "s1 = Shape('circle')\n",
    "s1.__dict__  # 实例对象的属性字典"
   ]
  },
  {
   "cell_type": "code",
   "execution_count": 17,
   "metadata": {
    "slideshow": {
     "slide_type": "subslide"
    }
   },
   "outputs": [],
   "source": [
    "class Circle(Shape):\n",
    "    def __init__(self, d = 2):\n",
    "        import math\n",
    "        Shape.__init__(self, name = 'circle')\n",
    "        self.diameter = d\n",
    "        self.area = math.pi / 4 * d ** 2"
   ]
  },
  {
   "cell_type": "code",
   "execution_count": 18,
   "metadata": {
    "slideshow": {
     "slide_type": "subslide"
    }
   },
   "outputs": [
    {
     "data": {
      "text/plain": [
       "mappingproxy({'__doc__': None,\n",
       "              '__init__': <function __main__.Circle.__init__>,\n",
       "              '__module__': '__main__'})"
      ]
     },
     "execution_count": 18,
     "metadata": {},
     "output_type": "execute_result"
    }
   ],
   "source": [
    "Circle.__dict__  # 类对象的属性字典"
   ]
  },
  {
   "cell_type": "code",
   "execution_count": 19,
   "metadata": {
    "slideshow": {
     "slide_type": "subslide"
    }
   },
   "outputs": [
    {
     "data": {
      "text/plain": [
       "{'area': 12.566370614359172, 'diameter': 4, 'name': 'circle'}"
      ]
     },
     "execution_count": 19,
     "metadata": {},
     "output_type": "execute_result"
    }
   ],
   "source": [
    "c1 = Circle(4)\n",
    "c1.__dict__  #  实例对象的属性字典"
   ]
  },
  {
   "cell_type": "markdown",
   "metadata": {
    "slideshow": {
     "slide_type": "slide"
    }
   },
   "source": [
    "- 常见特殊属性\n",
    "    * class 所属类\n",
    "    * bases 基类元组\n",
    "    * base 基类\n",
    "    * name 名称\n",
    "    * mro = method resolution order"
   ]
  },
  {
   "cell_type": "code",
   "execution_count": 20,
   "metadata": {
    "slideshow": {
     "slide_type": "subslide"
    }
   },
   "outputs": [
    {
     "name": "stdout",
     "output_type": "stream",
     "text": [
      "实例所属类 <class '__main__.Circle'>\n",
      "基类元组 (<class '__main__.Shape'>,)\n",
      "基类 <class '__main__.Shape'>\n",
      "类的名称 Circle\n",
      "方法查找顺序 (<class '__main__.Circle'>, <class '__main__.Shape'>, <class 'object'>)\n"
     ]
    }
   ],
   "source": [
    "print('实例所属类', c1.__class__)\n",
    "print('基类元组', Circle.__bases__)\n",
    "print('基类', Circle.__base__)\n",
    "print('类的名称', Circle.__name__)\n",
    "print('方法查找顺序', Circle.__mro__)"
   ]
  },
  {
   "cell_type": "markdown",
   "metadata": {
    "slideshow": {
     "slide_type": "slide"
    }
   },
   "source": [
    "### dict属性的应用\n",
    "\n",
    "可以使用dict属性完成类成员的访问和修改"
   ]
  },
  {
   "cell_type": "code",
   "execution_count": 21,
   "metadata": {
    "slideshow": {
     "slide_type": "subslide"
    }
   },
   "outputs": [
    {
     "name": "stdout",
     "output_type": "stream",
     "text": [
      "10 12.566370614359172\n"
     ]
    }
   ],
   "source": [
    "c1.__dict__['diameter'] = 10\n",
    "print(c1.__dict__['diameter'], c1.__dict__['area'])  # of course, they do not match"
   ]
  },
  {
   "cell_type": "code",
   "execution_count": 22,
   "metadata": {
    "slideshow": {
     "slide_type": "subslide"
    }
   },
   "outputs": [
    {
     "name": "stdout",
     "output_type": "stream",
     "text": [
      "{'name': 'circle', 'area': 12.566370614359172}\n"
     ]
    }
   ],
   "source": [
    "del c1.__dict__['diameter']  # the attribute is gone\n",
    "print(c1.__dict__)"
   ]
  },
  {
   "cell_type": "markdown",
   "metadata": {
    "slideshow": {
     "slide_type": "slide"
    }
   },
   "source": [
    "### 自定义属性\n",
    "\n",
    "Python允许在类的定义外增加对象的属性，自定义属性，即类的定义体中不存在的属性。"
   ]
  },
  {
   "cell_type": "code",
   "execution_count": 23,
   "metadata": {
    "slideshow": {
     "slide_type": "subslide"
    }
   },
   "outputs": [
    {
     "data": {
      "text/plain": [
       "{'name': 'test', 'val': 1}"
      ]
     },
     "execution_count": 23,
     "metadata": {},
     "output_type": "execute_result"
    }
   ],
   "source": [
    "class TestClass:\n",
    "    def __init__(self, name = 'test'):\n",
    "        self.name = name\n",
    "t1 = TestClass()\n",
    "t1.val = 1  # 通过实例对象创建一个自定义属性\n",
    "t1.__dict__"
   ]
  },
  {
   "cell_type": "code",
   "execution_count": 24,
   "metadata": {
    "slideshow": {
     "slide_type": "subslide"
    }
   },
   "outputs": [
    {
     "name": "stdout",
     "output_type": "stream",
     "text": [
      "sample101\n"
     ]
    }
   ],
   "source": [
    "t1.__dict__['key'] = 'sample101'  # 通过修改dict属性字典增加一个自定义属性\n",
    "print(t1.key)"
   ]
  },
  {
   "cell_type": "markdown",
   "metadata": {
    "slideshow": {
     "slide_type": "subslide"
    }
   },
   "source": [
    "自定义属性的优点：自由，灵活\n",
    "\n",
    "缺点：不在定义体中，难以追溯，不可预料的对象属性和行为\n",
    "\n",
    "如何避免用户自定义属性？"
   ]
  },
  {
   "cell_type": "markdown",
   "metadata": {
    "slideshow": {
     "slide_type": "slide"
    }
   },
   "source": [
    "### 拦截对于类成员的访问\n",
    "\n",
    "如果不希望用户自定义属性，则需要在类定义中拦截对于成员的访问。"
   ]
  },
  {
   "cell_type": "code",
   "execution_count": 25,
   "metadata": {
    "slideshow": {
     "slide_type": "subslide"
    }
   },
   "outputs": [],
   "source": [
    "class BoldClass:\n",
    "    def __init__(self, name = 'bold'):\n",
    "        self.name = name\n",
    "    def __setattr__(self, name, value):  #  拦截对于属性的设置操作\n",
    "        attributes = {'name'}\n",
    "        if name not in attributes:\n",
    "            print('user defined attribute not allowed')\n",
    "        else:  object.__setattr__(self, name, value)"
   ]
  },
  {
   "cell_type": "code",
   "execution_count": 26,
   "metadata": {
    "slideshow": {
     "slide_type": "subslide"
    }
   },
   "outputs": [
    {
     "name": "stdout",
     "output_type": "stream",
     "text": [
      "user defined attribute not allowed\n"
     ]
    },
    {
     "data": {
      "text/plain": [
       "{'name': 'bold'}"
      ]
     },
     "execution_count": 26,
     "metadata": {},
     "output_type": "execute_result"
    }
   ],
   "source": [
    "b1 = BoldClass()\n",
    "b1.val = 2\n",
    "b1.__dict__"
   ]
  },
  {
   "cell_type": "markdown",
   "metadata": {
    "slideshow": {
     "slide_type": "subslide"
    }
   },
   "source": [
    "在用户设置对象属性时，进行属性值的合法性校验和数据清洗。\n",
    "\n",
    "比如，Student类有属性name，name要求为字符串，首字母大写且要求去除前后空格。"
   ]
  },
  {
   "cell_type": "code",
   "execution_count": 1,
   "metadata": {
    "slideshow": {
     "slide_type": "subslide"
    }
   },
   "outputs": [],
   "source": [
    "class Student:\n",
    "    def __init__(self, name):  self.name = name\n",
    "    def __setattr__(self, name, value):\n",
    "        print('access to attribute {0} is intercepted'.format(name))\n",
    "        if name == 'name':\n",
    "            if not isinstance(value, (str,bytes)):  #  检查是否为字符串或字节串\n",
    "                print('only string allowed for attribute name')\n",
    "            else:\n",
    "                value = value.strip().capitalize()\n",
    "                object.__setattr__(self, name, value)"
   ]
  },
  {
   "cell_type": "code",
   "execution_count": 2,
   "metadata": {
    "slideshow": {
     "slide_type": "subslide"
    }
   },
   "outputs": [
    {
     "name": "stdout",
     "output_type": "stream",
     "text": [
      "access to attribute name is intercepted\n"
     ]
    },
    {
     "data": {
      "text/plain": [
       "'Tom'"
      ]
     },
     "execution_count": 2,
     "metadata": {},
     "output_type": "execute_result"
    }
   ],
   "source": [
    "s1 = Student('   tom  ')\n",
    "s1.name"
   ]
  },
  {
   "cell_type": "markdown",
   "metadata": {
    "slideshow": {
     "slide_type": "subslide"
    }
   },
   "source": [
    "以上的例子中，设置实例属性的值既可以通过object对象的setattr方法，也可以通过修改实例对象的dict属性。前提是不把dict对象赋值为新的对象。\n",
    "\n",
    "注意：__修改对象内容__ vs __绑定一个新对象__不是同一个概念。"
   ]
  },
  {
   "cell_type": "code",
   "execution_count": 3,
   "metadata": {
    "slideshow": {
     "slide_type": "subslide"
    }
   },
   "outputs": [
    {
     "name": "stdout",
     "output_type": "stream",
     "text": [
      "{'name': 'Tom'}\n",
      "access to attribute __dict__ is intercepted\n",
      "{'name': 'Tom', 'age': 20}\n"
     ]
    }
   ],
   "source": [
    "print(s1.__dict__)\n",
    "s1.__dict__['age'] = 20  # 使用实例的__dict__属性访问内部的键来修改对象内容，不会被拦截\n",
    "s1.__dict__ = {'name' : 'Jack', 'age' : 21}  # 绑定一个新对象，这是一个设置操作，被拦截\n",
    "print(s1.__dict__)"
   ]
  },
  {
   "cell_type": "markdown",
   "metadata": {
    "slideshow": {
     "slide_type": "subslide"
    }
   },
   "source": [
    "若重载了getattribute，则通过实例访问所有成员都会被拦截，包括dict属性。\n",
    "\n",
    "此时不能使用dict属性来获取对应成员，会导致无限递归调用，形成死循环。"
   ]
  },
  {
   "cell_type": "code",
   "execution_count": 30,
   "metadata": {
    "slideshow": {
     "slide_type": "subslide"
    }
   },
   "outputs": [],
   "source": [
    "class GetAttr:\n",
    "    done = False\n",
    "    def __init__(self, name = 'test'):\n",
    "        self.name = name\n",
    "    def __getattribute__(self, name):\n",
    "        print('access to {0} is intercepted'.format(name))\n",
    "        return object.__getattribute__(self, name)  # 使用基类的getattribute来访问，注意不能使用self.__dict__[name]"
   ]
  },
  {
   "cell_type": "code",
   "execution_count": 31,
   "metadata": {
    "slideshow": {
     "slide_type": "subslide"
    }
   },
   "outputs": [
    {
     "name": "stdout",
     "output_type": "stream",
     "text": [
      "access to name is intercepted\n",
      "1 test\n",
      "access to __dict__ is intercepted\n",
      "2 test\n",
      "access to done is intercepted\n",
      "3 False\n",
      "4 False\n"
     ]
    }
   ],
   "source": [
    "g1 = GetAttr()\n",
    "print(1, g1.name)  #  intercepted\n",
    "print(2, g1.__dict__['name'])  #  intercepted too\n",
    "print(3, g1.done)  #  intercepted too\n",
    "print(4, GetAttr.done)  #  using class, not intercepted"
   ]
  },
  {
   "cell_type": "markdown",
   "metadata": {
    "slideshow": {
     "slide_type": "subslide"
    }
   },
   "source": [
    "<h4>小结： setattr与getattribute的拦截操作区别</h4>  \n",
    "\n",
    "**好像有点没看懂**  \n",
    "\n",
    "* 修改实例的属性字典中的某个键值对时，未必需要重置dict对象，不会被setattr拦截\n",
    "* 通过实例的属性字典获取某个键值对时，必须获取dict对象，一定会被getattribute拦截"
   ]
  },
  {
   "cell_type": "markdown",
   "metadata": {
    "slideshow": {
     "slide_type": "slide"
    }
   },
   "source": [
    "## 类的特殊方法\n",
    "\n",
    "类中的特殊方法以双下划线开头和结尾\n",
    "* new方法，在创建对象时调用，返回当前对象的一个实例\n",
    "* 构造方法init，创建完对象之后，对实例进行初始化\n",
    "* 析构方法del，实现销毁实例对象时需要进行的收尾工作。"
   ]
  },
  {
   "cell_type": "markdown",
   "metadata": {
    "slideshow": {
     "slide_type": "subslide"
    }
   },
   "source": [
    "类的特殊方法通常与某种通用操作相关联，如下标化和python的内置函数，当使用内置函数操作时，系统会首先查找该类中对应的特殊方法。\n",
    "\n",
    "对应于内置函数的特殊方法有：len, repr, str, bytes, format, bool, hash, dir等"
   ]
  },
  {
   "cell_type": "code",
   "execution_count": 32,
   "metadata": {
    "slideshow": {
     "slide_type": "subslide"
    }
   },
   "outputs": [
    {
     "data": {
      "text/plain": [
       "'1+2+3+4+5'"
      ]
     },
     "execution_count": 32,
     "metadata": {},
     "output_type": "execute_result"
    }
   ],
   "source": [
    "class Items:\n",
    "    def __init__(self, *it):\n",
    "        self.content = it\n",
    "    def __str__(self):\n",
    "        return '+'.join([str(i) for i in self.content])\n",
    "i1 = Items(1, 2, 3, 4, 5)\n",
    "str(i1)"
   ]
  },
  {
   "cell_type": "markdown",
   "metadata": {
    "slideshow": {
     "slide_type": "subslide"
    }
   },
   "source": [
    "上面的例子重写了str函数，当使用内置函数str操作该对象时，会调用该对象的str方法。\n",
    "\n",
    "下面的例子重写了repr函数。"
   ]
  },
  {
   "cell_type": "code",
   "execution_count": 33,
   "metadata": {
    "slideshow": {
     "slide_type": "subslide"
    }
   },
   "outputs": [],
   "source": [
    "class My_Dict:\n",
    "    def __init__(self, **kwargs):\n",
    "        self.content = kwargs\n",
    "    def __repr__(self):\n",
    "        f = lambda k,v: '{0}->{1}'.format(k,v) \n",
    "        k2v = [f(k,v) for (k,v) in self.content.items()]\n",
    "        return ', '.join(k2v)"
   ]
  },
  {
   "cell_type": "code",
   "execution_count": 34,
   "metadata": {
    "slideshow": {
     "slide_type": "subslide"
    }
   },
   "outputs": [
    {
     "name": "stdout",
     "output_type": "stream",
     "text": [
      "apple->red, banana->yellow, pear->white\n",
      "{'apple': 'red', 'banana': 'yellow', 'pear': 'white'}\n"
     ]
    }
   ],
   "source": [
    "m1 = My_Dict(apple=  'red', banana = 'yellow', pear = 'white')\n",
    "print(repr(m1))\n",
    "# 与字典的原生repr方法比较\n",
    "d1 = dict(apple=  'red', banana = 'yellow', pear = 'white')\n",
    "print(repr(d1))"
   ]
  },
  {
   "cell_type": "code",
   "execution_count": 35,
   "metadata": {
    "slideshow": {
     "slide_type": "subslide"
    }
   },
   "outputs": [
    {
     "name": "stdout",
     "output_type": "stream",
     "text": [
      "Help on built-in function repr in module builtins:\n",
      "\n",
      "repr(obj, /)\n",
      "    Return the canonical string representation of the object.\n",
      "    \n",
      "    For many object types, including most builtins, eval(repr(obj)) == obj.\n",
      "\n"
     ]
    }
   ],
   "source": [
    "help(repr)"
   ]
  },
  {
   "cell_type": "markdown",
   "metadata": {
    "slideshow": {
     "slide_type": "subslide"
    }
   },
   "source": [
    "可以发现：\n",
    "\n",
    "内置对象的repr定义遵循一个规则： eval(repr(obj)) == obj."
   ]
  },
  {
   "cell_type": "markdown",
   "metadata": {
    "slideshow": {
     "slide_type": "subslide"
    }
   },
   "source": [
    "### 运算符与运算的特殊方法\n",
    "\n",
    "python中的运算符实际上也是通过调用对象的特殊方法实现的。如比较运算、算术运算、按位运算。\n",
    "\n",
    "通过重写各运算符对应的特殊方法可以实现运算符的重载。"
   ]
  },
  {
   "cell_type": "code",
   "execution_count": 36,
   "metadata": {
    "slideshow": {
     "slide_type": "subslide"
    }
   },
   "outputs": [],
   "source": [
    "class MyList:\n",
    "    def __init__(self, *data):  self.content = data\n",
    "    def __len__(self):  return len(self.content)  # 重写了len函数\n",
    "    def __add__(self, b):  # 重写了加法\n",
    "        k = len(b) if len(b) < len(self) else len(self)\n",
    "        content = [self.content[i] + b.content[i] for i in range(k)]\n",
    "        return MyList(*content)  # note *content means multiple variables instead of one"
   ]
  },
  {
   "cell_type": "code",
   "execution_count": 37,
   "metadata": {
    "slideshow": {
     "slide_type": "subslide"
    }
   },
   "outputs": [
    {
     "name": "stdout",
     "output_type": "stream",
     "text": [
      "(6, 9, 12, 6)\n"
     ]
    }
   ],
   "source": [
    "m2 = MyList(1, 2, 3, 4, 5)\n",
    "m3 = MyList(5, 7, 9, 2)\n",
    "print((m2 + m3).content)"
   ]
  },
  {
   "cell_type": "markdown",
   "metadata": {
    "slideshow": {
     "slide_type": "slide"
    }
   },
   "source": [
    "### total_ordering 装饰器\n",
    "\n",
    "进行大小比较需要实现多个特殊方法，比较繁琐。利用functools模块的total_ordering装饰器，可以简化代码。\n",
    "\n",
    "只需要实现eq，另外再加上lt,le, ge, gt中的任意一个就可以实现完全比较。"
   ]
  },
  {
   "cell_type": "code",
   "execution_count": 38,
   "metadata": {
    "slideshow": {
     "slide_type": "subslide"
    }
   },
   "outputs": [],
   "source": [
    "import functools\n",
    "@functools.total_ordering\n",
    "class Cmp:\n",
    "    def __init__(self, val):\n",
    "        self.v = val\n",
    "    def __eq__(self, other):\n",
    "        return self.v == other.v\n",
    "    def __lt__(self, other):\n",
    "        return self.v < other.v"
   ]
  },
  {
   "cell_type": "code",
   "execution_count": 39,
   "metadata": {
    "slideshow": {
     "slide_type": "subslide"
    }
   },
   "outputs": [
    {
     "name": "stdout",
     "output_type": "stream",
     "text": [
      "False\n",
      "True\n"
     ]
    }
   ],
   "source": [
    "c1 = Cmp(5)\n",
    "c2 = Cmp(9)\n",
    "print(c1 > c2)\n",
    "print(c1 <= c2)"
   ]
  },
  {
   "cell_type": "markdown",
   "metadata": {
    "slideshow": {
     "slide_type": "slide"
    }
   },
   "source": [
    "## 方法的重载\n",
    "\n",
    "重载的含义：在一个类中，如果有一系列同名方法，功能是相似的，但是形参个数和形参类型不同。在调用时，系统会根据函数参数决定调用哪一个。\n",
    "\n",
    "作用：功能相似的操作只使用一个名称，更容易记忆和使用。"
   ]
  },
  {
   "cell_type": "markdown",
   "metadata": {
    "slideshow": {
     "slide_type": "subslide"
    }
   },
   "source": [
    "### 重载的实现方式\n",
    "\n",
    "在C++和Java中，重载一般是通过定义多个同名但参数表不同的函数实现的。\n",
    "\n",
    "在python中，函数的参数表已经体现了重载的思想，所以不需要定义多个同名函数。\n",
    "\n",
    "Alert! 如果定义了多个同名函数，会导致前面定义的函数被最后一个函数定义覆盖。"
   ]
  },
  {
   "cell_type": "markdown",
   "metadata": {
    "slideshow": {
     "slide_type": "subslide"
    }
   },
   "source": [
    "通过重写对象的运算符函数可以实现运算符重载，即运算函数针对一种新的对象会执行一种新的操作，相当于方法的重载。\n",
    "\n",
    "如加法本来定义在数值对象上，对于列表对象，重写add方法，就实现了加法运算符在列表对象上执行不同的操作。"
   ]
  },
  {
   "cell_type": "code",
   "execution_count": 40,
   "metadata": {
    "slideshow": {
     "slide_type": "subslide"
    }
   },
   "outputs": [],
   "source": [
    "class Addible_Dict:\n",
    "    def __init__(self, **data):\n",
    "        self.data = data\n",
    "    def __add__(self, b):\n",
    "        c = {}\n",
    "        keys = set(self.data.keys()) | set(b.data.keys())\n",
    "        for i in keys:\n",
    "            c[i] = self.data.get(i, 0) + b.data.get(i, 0)\n",
    "        return c"
   ]
  },
  {
   "cell_type": "code",
   "execution_count": 41,
   "metadata": {
    "slideshow": {
     "slide_type": "subslide"
    }
   },
   "outputs": [
    {
     "data": {
      "text/plain": [
       "{'a': 203, 'b': 104, 'c': 6, 'd': 300}"
      ]
     },
     "execution_count": 41,
     "metadata": {},
     "output_type": "execute_result"
    }
   ],
   "source": [
    "ad1 = Addible_Dict(a = 3, b = 4, c = 6)\n",
    "ad2 = Addible_Dict(b = 100, a = 200, d = 300)\n",
    "ad1 + ad2"
   ]
  },
  {
   "cell_type": "markdown",
   "metadata": {
    "slideshow": {
     "slide_type": "subslide"
    }
   },
   "source": [
    "### 多态\n",
    "\n",
    "多态的含义：不同对象对于同一个消息具有不同的响应。\n",
    "\n",
    "C++和Java语言中，通过指向基类的指针，调用派生类的方法，实现接口通用但行为不同的目标。\n",
    "\n",
    "Python语言中通过在派生类中重写基类的方法，实现同样的接口，使得派生类与基类的行为有所不同。从同一个基类派生的多个类会以不同的形式响应同一个消息。"
   ]
  },
  {
   "cell_type": "markdown",
   "metadata": {
    "slideshow": {
     "slide_type": "slide"
    }
   },
   "source": [
    "### Python对于类型的处理：鸭子类型\n",
    "\n",
    "python对于类型的控制并不像C++和Java那样严格，其中一个重要思路是：如果一只鸟走起来像鸭子，游起来像鸭子，叫起来像鸭子，那么这只鸟就可以称之为鸭子。\n",
    "\n",
    "关注对象的操作，而非对象的实际类型。比如一个对象能够支持下标访问，则可以看作序列对象，不用管具体它是用数组实现的，还是用二叉树实现的。"
   ]
  },
  {
   "cell_type": "code",
   "execution_count": 42,
   "metadata": {
    "slideshow": {
     "slide_type": "subslide"
    }
   },
   "outputs": [],
   "source": [
    "class my_list:\n",
    "    def __init__(self, data):  self.data = data\n",
    "    def __next__(self):\n",
    "        if self.data > 1:\n",
    "            self.data -= 1\n",
    "            return self.data\n",
    "        else: raise StopIteration\n",
    "    def __getitem__(self, idx):\n",
    "        if idx < self.data:  return self.data - idx\n",
    "    def __iter__(self):\n",
    "        return self"
   ]
  },
  {
   "cell_type": "code",
   "execution_count": 43,
   "metadata": {
    "slideshow": {
     "slide_type": "subslide"
    }
   },
   "outputs": [
    {
     "name": "stdout",
     "output_type": "stream",
     "text": [
      "4\n",
      "3\n",
      "2\n",
      "1\n"
     ]
    },
    {
     "data": {
      "text/plain": [
       "5"
      ]
     },
     "execution_count": 43,
     "metadata": {},
     "output_type": "execute_result"
    }
   ],
   "source": [
    "for i in my_list(5):  # 这是一个什么类型的对象？\n",
    "    print(i)\n",
    "my_list(8)[3]"
   ]
  },
  {
   "cell_type": "markdown",
   "metadata": {
    "slideshow": {
     "slide_type": "slide"
    }
   },
   "source": [
    "## 对象赋值与拷贝\n",
    "\n",
    "* 数据与引用\n",
    "\n",
    "数据在计算机中是存储在某段内存空间上的，对数据进行操作时需要引用(refer)该内存地址。大多数语言都使用变量来引用数据，使用变量进行操作时，实际上是对变量引用的数据进行操作。\n",
    "\n",
    "但是在具体操作时，变量与引用的处理方式不同。"
   ]
  },
  {
   "cell_type": "markdown",
   "metadata": {
    "slideshow": {
     "slide_type": "subslide"
    }
   },
   "source": [
    "\n",
    "### 对象的引用与赋值\n",
    "\n",
    "使用赋值语句时，实质是将右端(RHS)对象的引用传递给左端(LHS)变量。"
   ]
  },
  {
   "cell_type": "code",
   "execution_count": 44,
   "metadata": {
    "slideshow": {
     "slide_type": "subslide"
    }
   },
   "outputs": [
    {
     "data": {
      "text/plain": [
       "499936800"
      ]
     },
     "execution_count": 44,
     "metadata": {},
     "output_type": "execute_result"
    }
   ],
   "source": [
    "a = 3\n",
    "id(a)"
   ]
  },
  {
   "cell_type": "code",
   "execution_count": 45,
   "metadata": {
    "slideshow": {
     "slide_type": "subslide"
    }
   },
   "outputs": [
    {
     "data": {
      "text/plain": [
       "499936864"
      ]
     },
     "execution_count": 45,
     "metadata": {},
     "output_type": "execute_result"
    }
   ],
   "source": [
    "a = a + 2\n",
    "id(a)"
   ]
  },
  {
   "cell_type": "markdown",
   "metadata": {
    "slideshow": {
     "slide_type": "subslide"
    }
   },
   "source": [
    "解析：\n",
    "\n",
    "* a = 3 建立整数类型对象3，将其引用传递给变量a\n",
    "\n",
    "* a = a + 2 使用变量a找到对象3，使用其方法add(2)，得到一个新的对象，将新的对象的引用传递给变量a"
   ]
  },
  {
   "cell_type": "markdown",
   "metadata": {
    "slideshow": {
     "slide_type": "subslide"
    }
   },
   "source": [
    "注意python与C语言的区别：\n",
    "\n",
    "在Python中，变量在python中只是一个名字，其类型是不固定的，取决于其指向的对象。改变变量的值，只是改变其引用，而不是改变其引用对象的值。\n",
    "\n",
    "在C语言里，一个变量对应一个内存地址，其类型是确定的。改变变量的值，相当于修改该内存地址存储的值。\n",
    "\n",
    "python是对象主导的，对象占据内存地址，决定内存地址的访问行为；C是变量主导的，决定内存地址和地址的访问行为。"
   ]
  },
  {
   "cell_type": "code",
   "execution_count": 46,
   "metadata": {
    "slideshow": {
     "slide_type": "subslide"
    }
   },
   "outputs": [
    {
     "data": {
      "text/plain": [
       "(499936864, 499936864)"
      ]
     },
     "execution_count": 46,
     "metadata": {},
     "output_type": "execute_result"
    }
   ],
   "source": [
    "b = 5  # 可以看到数据对象在python中是居于主导地位的\n",
    "id(b), id(a)"
   ]
  },
  {
   "cell_type": "markdown",
   "metadata": {
    "slideshow": {
     "slide_type": "subslide"
    }
   },
   "source": [
    "* 变量之间的赋值\n",
    "\n",
    "如果将一个变量赋值给另一个变量时，会发生什么呢？\n",
    "\n",
    "实际上系统会将右端变量的引用传递给左端变量，也就是说两个变量会指向同一个对象。"
   ]
  },
  {
   "cell_type": "code",
   "execution_count": 47,
   "metadata": {
    "slideshow": {
     "slide_type": "subslide"
    }
   },
   "outputs": [
    {
     "data": {
      "text/plain": [
       "(93203912, 93203912)"
      ]
     },
     "execution_count": 47,
     "metadata": {},
     "output_type": "execute_result"
    }
   ],
   "source": [
    "a = [1, 2, 3, 4]\n",
    "b = a\n",
    "id(a), id(b)"
   ]
  },
  {
   "cell_type": "markdown",
   "metadata": {
    "slideshow": {
     "slide_type": "subslide"
    }
   },
   "source": [
    "这样，当我们使用其中一个变量引用该对象进行修改操作（如果是可变对象）时，另一个变量引用的对象也会被修改，因为它们指向的是同一个对象。"
   ]
  },
  {
   "cell_type": "code",
   "execution_count": 48,
   "metadata": {
    "slideshow": {
     "slide_type": "subslide"
    }
   },
   "outputs": [
    {
     "data": {
      "text/plain": [
       "([1, 2, 3, 4, '*'], [1, 2, 3, 4, '*'])"
      ]
     },
     "execution_count": 48,
     "metadata": {},
     "output_type": "execute_result"
    }
   ],
   "source": [
    "b.append('*')\n",
    "a, b"
   ]
  },
  {
   "cell_type": "markdown",
   "metadata": {
    "slideshow": {
     "slide_type": "subslide"
    }
   },
   "source": [
    "与C语言区分，下面这种方式并不是修改对象。"
   ]
  },
  {
   "cell_type": "code",
   "execution_count": 49,
   "metadata": {
    "slideshow": {
     "slide_type": "subslide"
    }
   },
   "outputs": [
    {
     "data": {
      "text/plain": [
       "([1, 2, 3, 4, '*', 'end'], [1, 2, 3, 4, '*'])"
      ]
     },
     "execution_count": 49,
     "metadata": {},
     "output_type": "execute_result"
    }
   ],
   "source": [
    "a = a + ['end']\n",
    "a, b"
   ]
  },
  {
   "cell_type": "code",
   "execution_count": 50,
   "metadata": {
    "slideshow": {
     "slide_type": "subslide"
    }
   },
   "outputs": [
    {
     "data": {
      "text/plain": [
       "(91840136, 93203912)"
      ]
     },
     "execution_count": 50,
     "metadata": {},
     "output_type": "execute_result"
    }
   ],
   "source": [
    "id(a), id(b)"
   ]
  },
  {
   "cell_type": "markdown",
   "metadata": {
    "slideshow": {
     "slide_type": "slide"
    }
   },
   "source": [
    "### 对象的浅拷贝\n",
    "\n",
    "* 切片操作\n",
    "* 对象实例化\n",
    "* copy函数"
   ]
  },
  {
   "cell_type": "code",
   "execution_count": 51,
   "metadata": {
    "slideshow": {
     "slide_type": "subslide"
    }
   },
   "outputs": [
    {
     "data": {
      "text/plain": [
       "(97836936, 97730632)"
      ]
     },
     "execution_count": 51,
     "metadata": {},
     "output_type": "execute_result"
    }
   ],
   "source": [
    "obj_1 = [9, 5, 2, 7]\n",
    "obj_2 = obj_1[:]\n",
    "id(obj_1), id(obj_2)"
   ]
  },
  {
   "cell_type": "code",
   "execution_count": 52,
   "metadata": {
    "slideshow": {
     "slide_type": "subslide"
    }
   },
   "outputs": [
    {
     "data": {
      "text/plain": [
       "([9, 5, 2, 7], [9, 5, 'two', 7])"
      ]
     },
     "execution_count": 52,
     "metadata": {},
     "output_type": "execute_result"
    }
   ],
   "source": [
    "obj_2[2] = 'two'\n",
    "obj_1, obj_2"
   ]
  },
  {
   "cell_type": "code",
   "execution_count": 53,
   "metadata": {
    "slideshow": {
     "slide_type": "subslide"
    }
   },
   "outputs": [
    {
     "name": "stdout",
     "output_type": "stream",
     "text": [
      "[9, 5, 2, 7] [9, 5, 'three', 7]\n"
     ]
    },
    {
     "data": {
      "text/plain": [
       "(97836936, 97607240)"
      ]
     },
     "execution_count": 53,
     "metadata": {},
     "output_type": "execute_result"
    }
   ],
   "source": [
    "obj_3 = list(obj_1)\n",
    "obj_3[2] = 'three'\n",
    "print(obj_1, obj_3)\n",
    "id(obj_1), id(obj_3)"
   ]
  },
  {
   "cell_type": "code",
   "execution_count": 54,
   "metadata": {
    "slideshow": {
     "slide_type": "subslide"
    }
   },
   "outputs": [
    {
     "name": "stdout",
     "output_type": "stream",
     "text": [
      "[9, 5, 2, 7] [9, 5, 'four', 7]\n"
     ]
    },
    {
     "data": {
      "text/plain": [
       "(97836936, 93023240)"
      ]
     },
     "execution_count": 54,
     "metadata": {},
     "output_type": "execute_result"
    }
   ],
   "source": [
    "obj_4 = obj_1.copy()\n",
    "obj_4[2] = 'four'\n",
    "print(obj_1, obj_4)\n",
    "id(obj_1), id(obj_4)"
   ]
  },
  {
   "cell_type": "code",
   "execution_count": 55,
   "metadata": {
    "slideshow": {
     "slide_type": "subslide"
    }
   },
   "outputs": [
    {
     "name": "stdout",
     "output_type": "stream",
     "text": [
      "[9, 5, 2, 7] [9, 5, 'five', 7]\n"
     ]
    },
    {
     "data": {
      "text/plain": [
       "(97836936, 92116744)"
      ]
     },
     "execution_count": 55,
     "metadata": {},
     "output_type": "execute_result"
    }
   ],
   "source": [
    "import copy\n",
    "obj_5 = copy.copy(obj_1)\n",
    "obj_5[2] = 'five'\n",
    "print(obj_1, obj_5)\n",
    "id(obj_1), id(obj_5)"
   ]
  },
  {
   "cell_type": "markdown",
   "metadata": {
    "slideshow": {
     "slide_type": "subslide"
    }
   },
   "source": [
    "* 浅拷贝的问题\n",
    "\n",
    "通过以上的操作我们得到了对象的浅拷贝，该对象的第一层元素被复制了，但是若该元素为复合数据，仅仅复制其引用。这就带来新的问题。"
   ]
  },
  {
   "cell_type": "code",
   "execution_count": 56,
   "metadata": {
    "slideshow": {
     "slide_type": "subslide"
    }
   },
   "outputs": [
    {
     "data": {
      "text/plain": [
       "(97605704, 97605704)"
      ]
     },
     "execution_count": 56,
     "metadata": {},
     "output_type": "execute_result"
    }
   ],
   "source": [
    "obj_c1 = [1, 2, [3, 4], [5, 6, 7]]\n",
    "obj_c2 = obj_c1.copy()\n",
    "id(obj_c2[2]), id(obj_c1[2])  # 注意两个对象的子对象指向同一个对象"
   ]
  },
  {
   "cell_type": "code",
   "execution_count": 57,
   "metadata": {
    "slideshow": {
     "slide_type": "subslide"
    }
   },
   "outputs": [
    {
     "data": {
      "text/plain": [
       "([1, 2, [3, 4], [5, 6, 7]], [1, 2, [3, 4], ['ok']])"
      ]
     },
     "execution_count": 57,
     "metadata": {},
     "output_type": "execute_result"
    }
   ],
   "source": [
    "obj_c2[3] = ['ok']  # safe to modify the reference\n",
    "obj_c1, obj_c2"
   ]
  },
  {
   "cell_type": "code",
   "execution_count": 58,
   "metadata": {
    "slideshow": {
     "slide_type": "subslide"
    }
   },
   "outputs": [
    {
     "data": {
      "text/plain": [
       "([1, 2, [3, 4, '*'], [5, 6, 7]], [1, 2, [3, 4, '*'], ['ok']])"
      ]
     },
     "execution_count": 58,
     "metadata": {},
     "output_type": "execute_result"
    }
   ],
   "source": [
    "obj_c2[2].append('*')  # not safe to modify the object\n",
    "obj_c1, obj_c2"
   ]
  },
  {
   "cell_type": "markdown",
   "metadata": {
    "slideshow": {
     "slide_type": "slide"
    }
   },
   "source": [
    "### 对象的深拷贝\n",
    "\n",
    "使用copy模块的deepcopy方法，可以得到对象的深拷贝。此时，对象中的子对象会被递归复制。\n"
   ]
  },
  {
   "cell_type": "code",
   "execution_count": 59,
   "metadata": {
    "slideshow": {
     "slide_type": "subslide"
    }
   },
   "outputs": [
    {
     "data": {
      "text/plain": [
       "(97605704, 97661192)"
      ]
     },
     "execution_count": 59,
     "metadata": {},
     "output_type": "execute_result"
    }
   ],
   "source": [
    "import copy\n",
    "obj_c1 = [1, 2, [3, 4], [5, 6, 7]]\n",
    "obj_c3 = copy.deepcopy(obj_c1)\n",
    "id(obj_c2[2]), id(obj_c3[2])  # not the same object"
   ]
  },
  {
   "cell_type": "code",
   "execution_count": 60,
   "metadata": {
    "slideshow": {
     "slide_type": "subslide"
    }
   },
   "outputs": [
    {
     "data": {
      "text/plain": [
       "([1, 2, [3, 4], [5, 6, 7]], [1, 2, [3, 4, 'a', 'b', 'c'], [5, 6, 7]])"
      ]
     },
     "execution_count": 60,
     "metadata": {},
     "output_type": "execute_result"
    }
   ],
   "source": [
    "obj_c3[2].extend('abc')\n",
    "obj_c1, obj_c3"
   ]
  },
  {
   "cell_type": "markdown",
   "metadata": {
    "slideshow": {
     "slide_type": "slide"
    }
   },
   "source": [
    "## 面向对象的程序设计小结\n",
    "\n",
    "- 基本特征：\n",
    "    * 封装\n",
    "    * 继承\n",
    "    * 多态"
   ]
  },
  {
   "cell_type": "markdown",
   "metadata": {
    "slideshow": {
     "slide_type": "subslide"
    }
   },
   "source": [
    "* 封装\n",
    "\n",
    "对客观事物进行抽象后，将其属性和相关操作封装为对象，定义访问对象的接口，隐藏内部实现。\n",
    "\n",
    "作用：封装保证了对象的独立性，防止外部程序破坏对象的内部数据。同时，通过对象组织代码，代码的结构性更好。\n",
    "\n",
    "意义：提高了程序的可维护性。"
   ]
  },
  {
   "cell_type": "markdown",
   "metadata": {
    "slideshow": {
     "slide_type": "subslide"
    }
   },
   "source": [
    "* 继承\n",
    "\n",
    "通过在现有类的基础上派生新的类，既能使用现有类的功能，也能增加新的功能。\n",
    "\n",
    "作用：在不重写原有类的情况下对已有类的功能进行扩展。避免了代码复制。\n",
    "\n",
    "意义：提高了代码的可重用性，提高了程序的可维护性。"
   ]
  },
  {
   "cell_type": "markdown",
   "metadata": {
    "slideshow": {
     "slide_type": "subslide"
    }
   },
   "source": [
    "* 多态\n",
    "\n",
    "派生类同时具有基类的属性和方法，也具有新类的属性和方法，因而呈现出多个有效类型。\n",
    "\n",
    "作用：使得每个对象可以用自己的方式响应共同的消息。\n",
    "\n",
    "意义：提高程序的可维护性。"
   ]
  }
 ],
 "metadata": {
  "anaconda-cloud": {},
  "celltoolbar": "Slideshow",
  "kernelspec": {
   "display_name": "Python 3",
   "language": "python",
   "name": "python3"
  },
  "language_info": {
   "codemirror_mode": {
    "name": "ipython",
    "version": 3
   },
   "file_extension": ".py",
   "mimetype": "text/x-python",
   "name": "python",
   "nbconvert_exporter": "python",
   "pygments_lexer": "ipython3",
   "version": "3.7.3"
  }
 },
 "nbformat": 4,
 "nbformat_minor": 2
}
