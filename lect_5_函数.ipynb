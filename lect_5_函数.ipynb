{
 "cells": [
  {
   "cell_type": "markdown",
   "metadata": {},
   "source": [
    "# 函数\n",
    "\n",
    "* 任务分解和分工\n",
    "* 代码复用\n",
    "* 结构化程序设计"
   ]
  },
  {
   "cell_type": "markdown",
   "metadata": {},
   "source": [
    "函数类型\n",
    "\n",
    "* 内置函数\n",
    "* 标准库函数\n",
    "* 第三方库函数\n",
    "* 自定义函数"
   ]
  },
  {
   "cell_type": "markdown",
   "metadata": {},
   "source": [
    "## 函数声明与调用\n",
    "\n",
    "函数必须声明之后才能使用。"
   ]
  },
  {
   "cell_type": "code",
   "execution_count": 1,
   "metadata": {},
   "outputs": [
    {
     "data": {
      "text/plain": [
       "0.7"
      ]
     },
     "execution_count": 1,
     "metadata": {},
     "output_type": "execute_result"
    }
   ],
   "source": [
    "def my_max(a, b):\n",
    "    '''the prob of either event occurs'''\n",
    "    return a + b - a * b\n",
    "my_max(0.4, 0.5)"
   ]
  },
  {
   "cell_type": "code",
   "execution_count": 2,
   "metadata": {},
   "outputs": [
    {
     "data": {
      "text/plain": [
       "0.18"
      ]
     },
     "execution_count": 2,
     "metadata": {},
     "output_type": "execute_result"
    }
   ],
   "source": [
    "def my_min(a, b):\n",
    "    '''\n",
    "    return the prob of both events occur.\n",
    "    parameters: a, b = the prob of event A, B, respectively\n",
    "    '''\n",
    "    return a*b\n",
    "my_min(0.3, 0.6)"
   ]
  },
  {
   "cell_type": "markdown",
   "metadata": {},
   "source": [
    "函数体的第一部分，由三个引号括起来的字符串为函数的docstring，用于函数的帮助文档。"
   ]
  },
  {
   "cell_type": "code",
   "execution_count": 3,
   "metadata": {},
   "outputs": [
    {
     "data": {
      "text/plain": [
       "'the prob of either event occurs'"
      ]
     },
     "execution_count": 3,
     "metadata": {},
     "output_type": "execute_result"
    }
   ],
   "source": [
    "my_max.__doc__"
   ]
  },
  {
   "cell_type": "code",
   "execution_count": 4,
   "metadata": {},
   "outputs": [
    {
     "name": "stdout",
     "output_type": "stream",
     "text": [
      "Help on function my_min in module __main__:\n",
      "\n",
      "my_min(a, b)\n",
      "    return the prob of both events occur.\n",
      "    parameters: a, b = the prob of event A, B, respectively\n",
      "\n"
     ]
    }
   ],
   "source": [
    "help(my_min)"
   ]
  },
  {
   "cell_type": "code",
   "execution_count": 5,
   "metadata": {},
   "outputs": [],
   "source": [
    "def do_nothing_return_nothing():\n",
    "    pass"
   ]
  },
  {
   "cell_type": "code",
   "execution_count": 6,
   "metadata": {},
   "outputs": [],
   "source": [
    "do_nothing_return_nothing()"
   ]
  },
  {
   "cell_type": "markdown",
   "metadata": {},
   "source": [
    "函数声明和调用注意事项：\n",
    "\n",
    "* 先声明后使用\n",
    "* 调用函数时，必须将参数放在函数名后的小括号内，不论是否有参数\n",
    "* 若调用时传递给函数的参数与函数定义不符，则会导致错误。"
   ]
  },
  {
   "cell_type": "markdown",
   "metadata": {},
   "source": [
    "## 参数传递\n",
    "\n",
    "函数定义时声明了一组参数，调用时需要将实际数值恰当的传递给函数，函数才能得到预期结果。"
   ]
  },
  {
   "cell_type": "markdown",
   "metadata": {},
   "source": [
    "### 形式参数与实际参数\n",
    "\n",
    "* 形式参数：函数定义时声明的参数名称。\n",
    "\n",
    "* 实际参数：函数调用时传递的实际参数。"
   ]
  },
  {
   "cell_type": "code",
   "execution_count": 7,
   "metadata": {},
   "outputs": [],
   "source": [
    "def odds(a, b):\n",
    "    return (a + 0.5) / (b + 0.5)"
   ]
  },
  {
   "cell_type": "markdown",
   "metadata": {},
   "source": [
    "注意观察下面在调用函数时，传递给a和b的参数值分别是什么？"
   ]
  },
  {
   "cell_type": "code",
   "execution_count": 8,
   "metadata": {},
   "outputs": [
    {
     "data": {
      "text/plain": [
       "(0.5555555555555556, 1.8)"
      ]
     },
     "execution_count": 8,
     "metadata": {},
     "output_type": "execute_result"
    }
   ],
   "source": [
    "odds(2,4),odds(4,2)"
   ]
  },
  {
   "cell_type": "markdown",
   "metadata": {},
   "source": [
    "### 参数传递方式\n",
    "\n",
    "* 位置参数：不指定对应的形式参数名称，默认按位置顺序将实参传递给形式参数。\n",
    "\n",
    "* 命名参数：按名称传递实际参数，也称为关键字参数。此时，实参传递顺序可以与形参声明顺序不同。"
   ]
  },
  {
   "cell_type": "code",
   "execution_count": 9,
   "metadata": {},
   "outputs": [],
   "source": [
    "def follower(a, b, c):\n",
    "    return a - b - c"
   ]
  },
  {
   "cell_type": "markdown",
   "metadata": {},
   "source": [
    "如果采用命名参数来传递参数，调用时参数顺序是任意的。观察下面两个表达式的结果是一致的。"
   ]
  },
  {
   "cell_type": "code",
   "execution_count": 10,
   "metadata": {},
   "outputs": [
    {
     "data": {
      "text/plain": [
       "(3, 3)"
      ]
     },
     "execution_count": 10,
     "metadata": {},
     "output_type": "execute_result"
    }
   ],
   "source": [
    "follower(a = 21, b = 15, c = 3), follower(b = 15, a = 21, c = 3)"
   ]
  },
  {
   "cell_type": "markdown",
   "metadata": {},
   "source": [
    "这两种调用方式与下面的位置参数传递方式是一致的。"
   ]
  },
  {
   "cell_type": "code",
   "execution_count": 11,
   "metadata": {},
   "outputs": [
    {
     "data": {
      "text/plain": [
       "3"
      ]
     },
     "execution_count": 11,
     "metadata": {},
     "output_type": "execute_result"
    }
   ],
   "source": [
    "follower(21, 15, 3)"
   ]
  },
  {
   "cell_type": "markdown",
   "metadata": {},
   "source": [
    "下面的代码看起来也很像是命名参数传递，但结果为什么就不一样呢？"
   ]
  },
  {
   "cell_type": "code",
   "execution_count": 12,
   "metadata": {},
   "outputs": [
    {
     "data": {
      "text/plain": [
       "(3, -9)"
      ]
     },
     "execution_count": 12,
     "metadata": {},
     "output_type": "execute_result"
    }
   ],
   "source": [
    "a, b, c = 21, 15, 3\n",
    "follower(a, b, c), follower(b, a, c)"
   ]
  },
  {
   "cell_type": "markdown",
   "metadata": {},
   "source": [
    "注意：使用命名参数时，必须使用 key = value 的形式。函数的形式参数是怎么命名的，我们可以查看函数签名。"
   ]
  },
  {
   "cell_type": "markdown",
   "metadata": {},
   "source": [
    "<h4> 位置和命名参数混合传递</h4>\n",
    "\n",
    "**当位置参数与命名参数同时存在时，位置参数必须在最前面。**"
   ]
  },
  {
   "cell_type": "code",
   "execution_count": 13,
   "metadata": {},
   "outputs": [
    {
     "name": "stdout",
     "output_type": "stream",
     "text": [
      "3\n",
      "5\n"
     ]
    }
   ],
   "source": [
    "def follower(a, b, c):\n",
    "    return a - b - c\n",
    "print(follower(10, 5, c = 2)) \n",
    "print(follower(10, c = 3, b = 2))\n",
    "# print(follower(a = 3, 10, c = 2))  #error"
   ]
  },
  {
   "cell_type": "markdown",
   "metadata": {},
   "source": [
    "<h4>可选参数与参数默认值</h4>\n",
    "\n",
    "可以在定义函数时声明某些参数为可选参数并为其赋默认值。  \n",
    "冷知识：  \n",
    "`print(x,y,sep='sf',end='csd')`  \n",
    "其中sep是分隔符(默认空格)，end是结束符(默认换行)"
   ]
  },
  {
   "cell_type": "code",
   "execution_count": 14,
   "metadata": {},
   "outputs": [
    {
     "data": {
      "text/plain": [
       "('12', '3+4')"
      ]
     },
     "execution_count": 14,
     "metadata": {},
     "output_type": "execute_result"
    }
   ],
   "source": [
    "def my_join(a, b, sep = ''):\n",
    "    return a + sep + b\n",
    "my_join('1','2'), my_join('3', '4', '+')"
   ]
  },
  {
   "cell_type": "markdown",
   "metadata": {},
   "source": [
    "<h4> 可变数量参数</h4>\n",
    "\n",
    "* 使用元组收集所有的位置参数，声明 \\*prmt\n",
    "\n",
    "* 使用字典收集所有的关键字（命名）参数，声明 \\*\\*prmt2"
   ]
  },
  {
   "cell_type": "code",
   "execution_count": 15,
   "metadata": {},
   "outputs": [],
   "source": [
    "def my_add(a, b, *val, **optional):\n",
    "    my_sum = a + b\n",
    "    for v in val:\n",
    "        my_sum += v\n",
    "    for k in optional:\n",
    "        my_sum += optional[k]\n",
    "    return my_sum"
   ]
  },
  {
   "cell_type": "code",
   "execution_count": 16,
   "metadata": {},
   "outputs": [
    {
     "data": {
      "text/plain": [
       "12"
      ]
     },
     "execution_count": 16,
     "metadata": {},
     "output_type": "execute_result"
    }
   ],
   "source": [
    "my_add(1, 2, 3, 4, 5, c = -1, d= -2)"
   ]
  },
  {
   "cell_type": "markdown",
   "metadata": {},
   "source": [
    "* \\*prmt参数和\\*\\*prtmt2参数必须在形参列表的最后位置\n",
    "* \\*\\*prtmt2参数必须在\\*prmt参数的后面\n",
    "* 含有一个\\*的参数只能有一个\n",
    "* 含有两个\\*的参数只能有一个\n",
    "\n",
    "为啥？ 解释"
   ]
  },
  {
   "cell_type": "code",
   "execution_count": 17,
   "metadata": {},
   "outputs": [],
   "source": [
    "#def a_func(a, b, **c, *d):  #  error\n",
    "#    pass\n",
    "#def b_func(a, b, *c, *d):  #  error\n",
    "#   pass"
   ]
  },
  {
   "cell_type": "markdown",
   "metadata": {},
   "source": [
    "## 函数返回值\n"
   ]
  },
  {
   "cell_type": "markdown",
   "metadata": {},
   "source": [
    "函数使用 return 语句返回值，并结束函数返回调用函数的程序。\n",
    "\n",
    "return语句可以出现在函数任何位置，一旦执行，函数其他的语句将不再执行。"
   ]
  },
  {
   "cell_type": "code",
   "execution_count": 18,
   "metadata": {},
   "outputs": [
    {
     "data": {
      "text/plain": [
       "2.083333333333333"
      ]
     },
     "execution_count": 18,
     "metadata": {},
     "output_type": "execute_result"
    }
   ],
   "source": [
    "def harmonic_sum(n):\n",
    "    s = 0\n",
    "    for i in range(1,n):\n",
    "        s += 1/i\n",
    "    return s\n",
    "harmonic_sum(5)"
   ]
  },
  {
   "cell_type": "markdown",
   "metadata": {},
   "source": [
    "### return语句的几种情形\n",
    "\n",
    "* 函数中有若干return语句，只有一个执行了\n",
    "* 函数中有若干return语句，直到函数结束都没有执行"
   ]
  },
  {
   "cell_type": "code",
   "execution_count": 2,
   "metadata": {},
   "outputs": [],
   "source": [
    "def is_even(a):\n",
    "    if a%2 == 0:\n",
    "        return True"
   ]
  },
  {
   "cell_type": "markdown",
   "metadata": {},
   "source": [
    "下面的调用返回值是多少呢？"
   ]
  },
  {
   "cell_type": "code",
   "execution_count": 5,
   "metadata": {},
   "outputs": [],
   "source": [
    "is_even(3)"
   ]
  },
  {
   "cell_type": "markdown",
   "metadata": {},
   "source": [
    "下面的函数中有多个return语句，分析一下函数的返回值。"
   ]
  },
  {
   "cell_type": "code",
   "execution_count": 21,
   "metadata": {},
   "outputs": [],
   "source": [
    "def is_prime(n):\n",
    "    if n < 2: return False\n",
    "    k = int(n ** 0.5) + 1\n",
    "    for i in range(2, k):\n",
    "        if n % i == 0: return False\n",
    "    return True"
   ]
  },
  {
   "cell_type": "code",
   "execution_count": 22,
   "metadata": {},
   "outputs": [
    {
     "data": {
      "text/plain": [
       "True"
      ]
     },
     "execution_count": 22,
     "metadata": {},
     "output_type": "execute_result"
    }
   ],
   "source": [
    "is_prime(31)"
   ]
  },
  {
   "cell_type": "code",
   "execution_count": 23,
   "metadata": {},
   "outputs": [
    {
     "name": "stdout",
     "output_type": "stream",
     "text": [
      "2 3 5 7 11 13 17 19 23 29 31 37 41 43 47 53 59 61 67 71 73 79 83 89 97 "
     ]
    }
   ],
   "source": [
    "for i in range(100):\n",
    "    if is_prime(i): print(i, end = ' ')"
   ]
  },
  {
   "cell_type": "markdown",
   "metadata": {},
   "source": [
    "函数返回值为None的情况小结：\n",
    "\n",
    "* 函数无return语句\n",
    "* return语句未执行\n",
    "* return后无返回值表达式"
   ]
  },
  {
   "cell_type": "markdown",
   "metadata": {},
   "source": [
    "### 函数对象引用作为返回值\n",
    "\n",
    "函数在Python中也是对象，可以赋值给其他变量，也可以作为参数传递给其他对象。当然，既然函数是对象，也可以作为其他函数的返回值。"
   ]
  },
  {
   "cell_type": "code",
   "execution_count": 24,
   "metadata": {},
   "outputs": [
    {
     "data": {
      "text/plain": [
       "(builtin_function_or_method, builtin_function_or_method)"
      ]
     },
     "execution_count": 24,
     "metadata": {},
     "output_type": "execute_result"
    }
   ],
   "source": [
    "f = sum; g = max\n",
    "type(f), type(g)"
   ]
  },
  {
   "cell_type": "code",
   "execution_count": 25,
   "metadata": {},
   "outputs": [
    {
     "data": {
      "text/plain": [
       "(1368, 789)"
      ]
     },
     "execution_count": 25,
     "metadata": {},
     "output_type": "execute_result"
    }
   ],
   "source": [
    "f([123, 456, 789]), g([123, 456, 789])"
   ]
  },
  {
   "cell_type": "markdown",
   "metadata": {},
   "source": [
    "以下定义一个函数，它可以根据传入的函数不同，执行不同的操作。"
   ]
  },
  {
   "cell_type": "code",
   "execution_count": 26,
   "metadata": {},
   "outputs": [
    {
     "data": {
      "text/plain": [
       "(28, 8)"
      ]
     },
     "execution_count": 26,
     "metadata": {},
     "output_type": "execute_result"
    }
   ],
   "source": [
    "def aggr(f,numbers):\n",
    "    return f(numbers)\n",
    "numbers = [2, 7, 1, 8, 2, 8]\n",
    "aggr(f,numbers), aggr(g, numbers)"
   ]
  },
  {
   "cell_type": "markdown",
   "metadata": {},
   "source": [
    "下面的列子演示了如何将函数对象作为值返回。"
   ]
  },
  {
   "cell_type": "code",
   "execution_count": 27,
   "metadata": {},
   "outputs": [
    {
     "data": {
      "text/plain": [
       "5"
      ]
     },
     "execution_count": 27,
     "metadata": {},
     "output_type": "execute_result"
    }
   ],
   "source": [
    "def choose_your_command(s):\n",
    "    if s == 1:\n",
    "        return sum\n",
    "    elif s == 2:\n",
    "        return min\n",
    "    else:\n",
    "        return max\n",
    "choose_your_command(3)([2, 3, 5])"
   ]
  },
  {
   "cell_type": "markdown",
   "metadata": {},
   "source": [
    "## 变量作用域\n"
   ]
  },
  {
   "cell_type": "markdown",
   "metadata": {},
   "source": [
    "* 局部变量，在函数和类中声明的变量，只能在声明的函数和类中访问。\n",
    "* 全局变量，在函数和类之外声明的变量，全局可见。"
   ]
  },
  {
   "cell_type": "markdown",
   "metadata": {},
   "source": [
    "比较下面两段代码。"
   ]
  },
  {
   "cell_type": "code",
   "execution_count": 28,
   "metadata": {},
   "outputs": [
    {
     "name": "stdout",
     "output_type": "stream",
     "text": [
      "3.1 9.1\n",
      "3.1 4.2\n"
     ]
    }
   ],
   "source": [
    "v1, v2 = 3.1, 4.2\n",
    "def func():\n",
    "    v2 = v1 + 6\n",
    "    print(v1, v2)\n",
    "func()\n",
    "print(v1,v2)"
   ]
  },
  {
   "cell_type": "code",
   "execution_count": 29,
   "metadata": {},
   "outputs": [
    {
     "name": "stdout",
     "output_type": "stream",
     "text": [
      "5 11\n",
      "3.1 4.2\n"
     ]
    }
   ],
   "source": [
    "v1, v2 = 3.1, 4.2\n",
    "def func():\n",
    "    v1 = 5\n",
    "    v2 = v1 + 6\n",
    "    print(v1, v2)\n",
    "func()\n",
    "print(v1,v2)"
   ]
  },
  {
   "cell_type": "markdown",
   "metadata": {},
   "source": [
    "* 凡是在函数内定义的变量，只能在函数内访问。\n",
    "* 在函数内可以访问函数外的全局变量。\n",
    "* 当函数内定义的变量与函数外的变量同名时，局部变量优先被访问。\n",
    "* 函数内无法修改全局变量。"
   ]
  },
  {
   "cell_type": "markdown",
   "metadata": {},
   "source": [
    "注意：**当函数中试图修改全局变量时，实际上函数会创建一个局部变量，该变量会在函数运行结束时销毁。**"
   ]
  },
  {
   "cell_type": "code",
   "execution_count": 30,
   "metadata": {},
   "outputs": [
    {
     "name": "stdout",
     "output_type": "stream",
     "text": [
      "11 6\n",
      "3 6\n"
     ]
    }
   ],
   "source": [
    "i, s = 3, 6\n",
    "def get_k(k):\n",
    "    if k < s:\n",
    "        k = s\n",
    "    i = k + 5\n",
    "    print(i, s)\n",
    "    return k\n",
    "get_k(4)\n",
    "print(i, s)"
   ]
  },
  {
   "cell_type": "markdown",
   "metadata": {},
   "source": [
    "### global语句\n",
    "\n",
    "如果希望在函数中修改全局变量，需要使用global语句声明。"
   ]
  },
  {
   "cell_type": "code",
   "execution_count": 31,
   "metadata": {},
   "outputs": [
    {
     "name": "stdout",
     "output_type": "stream",
     "text": [
      "6\n"
     ]
    }
   ],
   "source": [
    "n = 5\n",
    "def arrive():\n",
    "    global n\n",
    "    n += 1\n",
    "arrive()\n",
    "print(n)"
   ]
  },
  {
   "cell_type": "markdown",
   "metadata": {},
   "source": [
    "## 匿名函数\n",
    "\n",
    "匿名函数使用lambda语句生成，是一种特殊的函数定义方式。\n",
    "\n",
    "* 匿名函数定义方法\n",
    "\n",
    "lambda关键字之后紧跟形参(列表)，冒号后为函数返回值。"
   ]
  },
  {
   "cell_type": "code",
   "execution_count": 32,
   "metadata": {},
   "outputs": [
    {
     "data": {
      "text/plain": [
       "'J'"
      ]
     },
     "execution_count": 32,
     "metadata": {},
     "output_type": "execute_result"
    }
   ],
   "source": [
    "get_initial = lambda x : x[0]\n",
    "get_initial('Jack')"
   ]
  },
  {
   "cell_type": "markdown",
   "metadata": {},
   "source": [
    "<h4> 匿名函数的应用场合 </h4>  \n",
    "\n",
    "* 需要函数对象作为参数;   \n",
    "* 函数比较简单;  \n",
    "* 函数仅仅使用一次。  "
   ]
  },
  {
   "cell_type": "code",
   "execution_count": 33,
   "metadata": {},
   "outputs": [
    {
     "data": {
      "text/plain": [
       "['J', 'A', 'M', 'T']"
      ]
     },
     "execution_count": 33,
     "metadata": {},
     "output_type": "execute_result"
    }
   ],
   "source": [
    "heads = map(get_initial, ['Jack', 'Alice', 'Mike', 'Tom'])\n",
    "list(heads)"
   ]
  },
  {
   "cell_type": "code",
   "execution_count": 34,
   "metadata": {},
   "outputs": [
    {
     "data": {
      "text/plain": [
       "['k', 'e', 'e', 'm']"
      ]
     },
     "execution_count": 34,
     "metadata": {},
     "output_type": "execute_result"
    }
   ],
   "source": [
    "tails = map(lambda x:x[-1], ['Jack', 'Alice', 'Mike', 'Tom'])\n",
    "list(tails)"
   ]
  },
  {
   "cell_type": "markdown",
   "metadata": {},
   "source": [
    "匿名函数在数据分析实践中大量使用，很多的数据处理函数需要一个函数作为参数。注意练习一些常用操作的匿名函数写法。如筛选函数。"
   ]
  },
  {
   "cell_type": "code",
   "execution_count": 35,
   "metadata": {},
   "outputs": [
    {
     "data": {
      "text/plain": [
       "[1, 2, 3]"
      ]
     },
     "execution_count": 35,
     "metadata": {},
     "output_type": "execute_result"
    }
   ],
   "source": [
    "f = lambda x: x > 0\n",
    "list(filter(f, [1, -1, 2, -2, 3, -3]))"
   ]
  },
  {
   "cell_type": "markdown",
   "metadata": {},
   "source": [
    "## 函数式编程\n",
    "\n",
    "函数式编程着眼于数据上的一系列操作，每个操作完成从原始数据到结果的映射，即函数。通过对原始数据应用一系列函数达到运算结果。"
   ]
  },
  {
   "cell_type": "markdown",
   "metadata": {},
   "source": [
    "### 函数式编程工具\n",
    "\n",
    "map(), filter(), reduce(), 匿名函数  \n",
    "**reduce()**  \n",
    "原型：`reduce (func, seq[], init())`  \n",
    "func是一个二元函数，先对seq中前两个元素求解，再将结果与第三个元素求解，逐渐迭代至seq结束。还可以指定init，在指定了的情况下，首先将init与seq中第一个元素进行运算。  \n",
    "e.g. reduce(lambda x, y: x * y, range(1, n),2)  \n",
    "返回值为n-1的阶乘的两倍"
   ]
  },
  {
   "cell_type": "code",
   "execution_count": 36,
   "metadata": {},
   "outputs": [
    {
     "data": {
      "text/plain": [
       "[1, 2, 3, 4, 5, 6, 7, 8, 9, 10]"
      ]
     },
     "execution_count": 36,
     "metadata": {},
     "output_type": "execute_result"
    }
   ],
   "source": [
    "def add_2(n):\n",
    "    return n//10 + n%10\n",
    "a = map(add_2, range(10,20))\n",
    "list(a)"
   ]
  },
  {
   "cell_type": "code",
   "execution_count": 37,
   "metadata": {},
   "outputs": [
    {
     "data": {
      "text/plain": [
       "[32, 12]"
      ]
     },
     "execution_count": 37,
     "metadata": {},
     "output_type": "execute_result"
    }
   ],
   "source": [
    "def is_even(n):\n",
    "    return n%2 == 0\n",
    "b = filter(is_even, [23, 32, 12, 21, 35, 53])\n",
    "list(b)"
   ]
  },
  {
   "cell_type": "code",
   "execution_count": 38,
   "metadata": {},
   "outputs": [
    {
     "data": {
      "text/plain": [
       "53"
      ]
     },
     "execution_count": 38,
     "metadata": {},
     "output_type": "execute_result"
    }
   ],
   "source": [
    "def bigger(x,y):\n",
    "    return x if x>y else y\n",
    "from functools import reduce\n",
    "c = reduce(bigger, [23, 32, 12, 21, 35, 53])\n",
    "c"
   ]
  },
  {
   "cell_type": "markdown",
   "metadata": {},
   "source": [
    "### 函数作为参数传递\n",
    "\n",
    "注意到以上代码有一个共同特点，函数作为参数。类似的还有如sorted函数。"
   ]
  },
  {
   "cell_type": "code",
   "execution_count": 39,
   "metadata": {},
   "outputs": [
    {
     "data": {
      "text/plain": [
       "['b', 'd', 'a', 'c', 'e']"
      ]
     },
     "execution_count": 39,
     "metadata": {},
     "output_type": "execute_result"
    }
   ],
   "source": [
    "k = list('abcde'); v = [3, 1, 4, 1, 5]\n",
    "d = dict(zip(k,v))\n",
    "sorted(d, key = lambda x:d[x])"
   ]
  },
  {
   "cell_type": "markdown",
   "metadata": {},
   "source": [
    "## 递归函数\n",
    "\n",
    "Python允许在函数中调用函数本身，即递归调用。\n",
    "\n",
    "递归调用与数学归纳法相对应，代码可以比较简洁。"
   ]
  },
  {
   "cell_type": "code",
   "execution_count": 40,
   "metadata": {},
   "outputs": [],
   "source": [
    "def fibo(n):\n",
    "    if n <= 2: return 1\n",
    "    return fibo(n-1) + fibo(n-2)"
   ]
  },
  {
   "cell_type": "code",
   "execution_count": 41,
   "metadata": {},
   "outputs": [
    {
     "data": {
      "text/plain": [
       "55"
      ]
     },
     "execution_count": 41,
     "metadata": {},
     "output_type": "execute_result"
    }
   ],
   "source": [
    "fibo(10)"
   ]
  },
  {
   "cell_type": "markdown",
   "metadata": {},
   "source": [
    "如非必要，尽量避免使用递归函数。"
   ]
  },
  {
   "cell_type": "code",
   "execution_count": null,
   "metadata": {},
   "outputs": [],
   "source": []
  }
 ],
 "metadata": {
  "anaconda-cloud": {},
  "kernelspec": {
   "display_name": "Python 3",
   "language": "python",
   "name": "python3"
  },
  "language_info": {
   "codemirror_mode": {
    "name": "ipython",
    "version": 3
   },
   "file_extension": ".py",
   "mimetype": "text/x-python",
   "name": "python",
   "nbconvert_exporter": "python",
   "pygments_lexer": "ipython3",
   "version": "3.7.3"
  }
 },
 "nbformat": 4,
 "nbformat_minor": 2
}
